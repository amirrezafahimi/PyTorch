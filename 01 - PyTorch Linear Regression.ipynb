{
 "cells": [
  {
   "cell_type": "code",
   "execution_count": 1,
   "metadata": {},
   "outputs": [],
   "source": [
    "import numpy as np\n",
    "import matplotlib.pyplot as plt\n",
    "import torch\n",
    "import torch.nn as nn"
   ]
  },
  {
   "cell_type": "code",
   "execution_count": 77,
   "metadata": {},
   "outputs": [],
   "source": [
    "N = 20\n",
    "\n",
    "X = np.random.random(N) * 10 - 5\n",
    "\n",
    "Y = .5 * X - 1 + np.random.randn(N)"
   ]
  },
  {
   "cell_type": "code",
   "execution_count": 78,
   "metadata": {},
   "outputs": [
    {
     "data": {
      "text/plain": [
       "array([-4.855147  , -2.03475181, -0.63977304, -1.79178424, -3.01119353,\n",
       "        0.670497  , -3.86899394,  0.52152454, -2.2280174 ,  1.83881707,\n",
       "       -2.86038903, -3.87961189,  1.71922835,  1.87316179,  2.0962462 ,\n",
       "        2.30810275,  3.70871046, -1.18329879, -2.15031791, -4.28580587])"
      ]
     },
     "execution_count": 78,
     "metadata": {},
     "output_type": "execute_result"
    }
   ],
   "source": [
    "X"
   ]
  },
  {
   "cell_type": "code",
   "execution_count": 79,
   "metadata": {},
   "outputs": [
    {
     "data": {
      "text/plain": [
       "array([-3.56297985e+00, -1.55399847e+00, -1.27555553e+00, -1.09373563e+00,\n",
       "       -2.88395158e+00,  8.93786231e-01, -1.48620051e+00, -1.42064831e+00,\n",
       "       -1.72069303e+00, -1.17980301e+00, -2.74614009e+00, -4.81867309e+00,\n",
       "       -1.64940868e+00,  1.61288086e+00,  5.53538066e-01, -1.42088384e+00,\n",
       "        1.52762768e+00, -1.40510990e+00, -3.75719882e-04, -1.31247935e+00])"
      ]
     },
     "execution_count": 79,
     "metadata": {},
     "output_type": "execute_result"
    }
   ],
   "source": [
    "Y"
   ]
  },
  {
   "cell_type": "code",
   "execution_count": 80,
   "metadata": {},
   "outputs": [
    {
     "data": {
      "image/png": "[encoded data removed]",
      "text/plain": [
       "<Figure size 432x288 with 1 Axes>"
      ]
     },
     "metadata": {
      "needs_background": "light"
     },
     "output_type": "display_data"
    }
   ],
   "source": [
    "plt.scatter(X, Y)\n",
    "plt.show()"
   ]
  },
  {
   "cell_type": "code",
   "execution_count": 102,
   "metadata": {},
   "outputs": [],
   "source": [
    "X = X.reshape(N, 1)\n",
    "Y = Y.reshape(N, 1)\n",
    "\n",
    "\n",
    "model = nn.Linear(1, 1)\n",
    "criterion = nn.MSELoss()\n",
    "optimizer = torch.optim.SGD(params=model.parameters(), lr=0.1)\n",
    "\n",
    "inputs = torch.from_numpy(X.astype(np.float32))\n",
    "outputs = torch.from_numpy(Y.astype(np.float32))"
   ]
  },
  {
   "cell_type": "code",
   "execution_count": 103,
   "metadata": {},
   "outputs": [
    {
     "name": "stdout",
     "output_type": "stream",
     "text": [
      "Epoch 1/30: Loss: 4.3328\n",
      "Epoch 2/30: Loss: 2.3834\n",
      "Epoch 3/30: Loss: 1.8373\n",
      "Epoch 4/30: Loss: 1.6207\n",
      "Epoch 5/30: Loss: 1.5040\n",
      "Epoch 6/30: Loss: 1.4306\n",
      "Epoch 7/30: Loss: 1.3816\n",
      "Epoch 8/30: Loss: 1.3485\n",
      "Epoch 9/30: Loss: 1.3259\n",
      "Epoch 10/30: Loss: 1.3105\n",
      "Epoch 11/30: Loss: 1.3000\n",
      "Epoch 12/30: Loss: 1.2929\n",
      "Epoch 13/30: Loss: 1.2880\n",
      "Epoch 14/30: Loss: 1.2846\n",
      "Epoch 15/30: Loss: 1.2824\n",
      "Epoch 16/30: Loss: 1.2808\n",
      "Epoch 17/30: Loss: 1.2797\n",
      "Epoch 18/30: Loss: 1.2790\n",
      "Epoch 19/30: Loss: 1.2785\n",
      "Epoch 20/30: Loss: 1.2782\n",
      "Epoch 21/30: Loss: 1.2779\n",
      "Epoch 22/30: Loss: 1.2778\n",
      "Epoch 23/30: Loss: 1.2777\n",
      "Epoch 24/30: Loss: 1.2776\n",
      "Epoch 25/30: Loss: 1.2776\n",
      "Epoch 26/30: Loss: 1.2775\n",
      "Epoch 27/30: Loss: 1.2775\n",
      "Epoch 28/30: Loss: 1.2775\n",
      "Epoch 29/30: Loss: 1.2775\n",
      "Epoch 30/30: Loss: 1.2775\n"
     ]
    }
   ],
   "source": [
    "epochs = 30\n",
    "losses = []\n",
    "\n",
    "for epoch in range(epochs):\n",
    "    optimizer.zero_grad()\n",
    "    \n",
    "    outputs = model(inputs)\n",
    "    \n",
    "    loss = criterion(outputs, targets)\n",
    "    losses.append(loss.item())\n",
    "    loss.backward()\n",
    "    optimizer.step()\n",
    "    \n",
    "    print(f\"Epoch {epoch + 1}/{epochs}: Loss: {loss.item():.4f}\")"
   ]
  },
  {
   "cell_type": "code",
   "execution_count": 104,
   "metadata": {},
   "outputs": [
    {
     "data": {
      "image/png": "[encoded data removed]",
      "text/plain": [
       "<Figure size 432x288 with 1 Axes>"
      ]
     },
     "metadata": {
      "needs_background": "light"
     },
     "output_type": "display_data"
    }
   ],
   "source": [
    "plt.plot(losses);"
   ]
  },
  {
   "cell_type": "code",
   "execution_count": 105,
   "metadata": {},
   "outputs": [
    {
     "data": {
      "image/png": "[encoded data removed]",
      "text/plain": [
       "<Figure size 432x288 with 1 Axes>"
      ]
     },
     "metadata": {
      "needs_background": "light"
     },
     "output_type": "display_data"
    }
   ],
   "source": [
    "predicted = model(inputs).detach().numpy()\n",
    "plt.scatter(X, Y, label=\"Original Data\")\n",
    "plt.plot(X, predicted, label=\"Linear Regression Line\", color=\"red\")\n",
    "plt.legend()\n",
    "plt.show()"
   ]
  },
  {
   "cell_type": "code",
   "execution_count": 94,
   "metadata": {},
   "outputs": [
    {
     "data": {
      "text/plain": [
       "tensor([[-4.8551],\n",
       "        [-2.0348],\n",
       "        [-0.6398],\n",
       "        [-1.7918],\n",
       "        [-3.0112],\n",
       "        [ 0.6705],\n",
       "        [-3.8690],\n",
       "        [ 0.5215],\n",
       "        [-2.2280],\n",
       "        [ 1.8388],\n",
       "        [-2.8604],\n",
       "        [-3.8796],\n",
       "        [ 1.7192],\n",
       "        [ 1.8732],\n",
       "        [ 2.0962],\n",
       "        [ 2.3081],\n",
       "        [ 3.7087],\n",
       "        [-1.1833],\n",
       "        [-2.1503],\n",
       "        [-4.2858]])"
      ]
     },
     "execution_count": 94,
     "metadata": {},
     "output_type": "execute_result"
    }
   ],
   "source": [
    "inputs"
   ]
  },
  {
   "cell_type": "code",
   "execution_count": 95,
   "metadata": {},
   "outputs": [
    {
     "data": {
      "text/plain": [
       "array([[-2.9517481 ],\n",
       "       [-1.7330709 ],\n",
       "       [-1.1303082 ],\n",
       "       [-1.628086  ],\n",
       "       [-2.1549861 ],\n",
       "       [-0.5641476 ],\n",
       "       [-2.525637  ],\n",
       "       [-0.62851775],\n",
       "       [-1.8165798 ],\n",
       "       [-0.05932277],\n",
       "       [-2.0898242 ],\n",
       "       [-2.530225  ],\n",
       "       [-0.11099643],\n",
       "       [-0.04448265],\n",
       "       [ 0.05191094],\n",
       "       [ 0.14345306],\n",
       "       [ 0.748648  ],\n",
       "       [-1.3651626 ],\n",
       "       [-1.7830064 ],\n",
       "       [-2.705739  ]], dtype=float32)"
      ]
     },
     "execution_count": 95,
     "metadata": {},
     "output_type": "execute_result"
    }
   ],
   "source": [
    "with torch.no_grad():\n",
    "    results = model(inputs).numpy()\n",
    "results"
   ]
  },
  {
   "cell_type": "code",
   "execution_count": 99,
   "metadata": {},
   "outputs": [
    {
     "name": "stdout",
     "output_type": "stream",
     "text": [
      "The true Weight is: 0.5 and the true bias is -1\n",
      "Weight is:  0.43209457\n",
      "Bias is:  -0.8538657\n"
     ]
    }
   ],
   "source": [
    "print(f\"The true Weight is: {.5} and the true bias is {-1}\")\n",
    "print(\"Weight is: \", model.weight.data.numpy()[0, 0])\n",
    "print(\"Bias is: \", model.bias.data.numpy()[0])"
   ]
  },
  {
   "cell_type": "code",
   "execution_count": null,
   "metadata": {},
   "outputs": [],
   "source": []
  }
 ],
 "metadata": {
  "kernelspec": {
   "display_name": "Python 3",
   "language": "python",
   "name": "python3"
  },
  "language_info": {
   "codemirror_mode": {
    "name": "ipython",
    "version": 3
   },
   "file_extension": ".py",
   "mimetype": "text/x-python",
   "name": "python",
   "nbconvert_exporter": "python",
   "pygments_lexer": "ipython3",
   "version": "3.8.5"
  }
 },
 "nbformat": 4,
 "nbformat_minor": 4
}
