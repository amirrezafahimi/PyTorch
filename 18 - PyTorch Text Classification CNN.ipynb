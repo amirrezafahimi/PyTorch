{
  "nbformat": 4,
  "nbformat_minor": 0,
  "metadata": {
    "colab": {
      "name": "PyTorch Text Classification CNN.ipynb",
      "provenance": []
    },
    "kernelspec": {
      "name": "python3",
      "display_name": "Python 3"
    },
    "accelerator": "GPU"
  },
  "cells": [
    {
      "cell_type": "code",
      "metadata": {
        "id": "qkjuUKhC9r6K"
      },
      "source": [
        "import numpy as np\r\n",
        "import pandas as pd\r\n",
        "import matplotlib.pyplot as plt\r\n",
        "\r\n",
        "import torch\r\n",
        "import torch.nn as nn\r\n",
        "import torch.nn.functional as F\r\n",
        "import torchtext.data as ttd\r\n",
        "\r\n",
        "from datetime import datetime"
      ],
      "execution_count": 1,
      "outputs": []
    },
    {
      "cell_type": "code",
      "metadata": {
        "colab": {
          "base_uri": "https://localhost:8080/"
        },
        "id": "7Tj173cj_PEn",
        "outputId": "f3558dd8-74a8-4f4c-9304-a8f78aa1c36c"
      },
      "source": [
        "!wget -nc https://lazyprogrammer.me/course_files/spam.csv"
      ],
      "execution_count": 2,
      "outputs": [
        {
          "output_type": "stream",
          "text": [
            "--2020-12-18 08:58:14--  https://lazyprogrammer.me/course_files/spam.csv\n",
            "Resolving lazyprogrammer.me (lazyprogrammer.me)... 172.67.213.166, 104.31.80.48, 104.31.81.48, ...\n",
            "Connecting to lazyprogrammer.me (lazyprogrammer.me)|172.67.213.166|:443... connected.\n",
            "HTTP request sent, awaiting response... 200 OK\n",
            "Length: 503663 (492K) [text/csv]\n",
            "Saving to: ‘spam.csv’\n",
            "\n",
            "\rspam.csv              0%[                    ]       0  --.-KB/s               \rspam.csv            100%[===================>] 491.86K  --.-KB/s    in 0.01s   \n",
            "\n",
            "2020-12-18 08:58:14 (39.5 MB/s) - ‘spam.csv’ saved [503663/503663]\n",
            "\n"
          ],
          "name": "stdout"
        }
      ]
    },
    {
      "cell_type": "code",
      "metadata": {
        "id": "_nIXw-J0_Zas"
      },
      "source": [
        "df = pd.read_csv(\"spam.csv\", encoding=\"ISO-8859-1\")"
      ],
      "execution_count": 3,
      "outputs": []
    },
    {
      "cell_type": "code",
      "metadata": {
        "colab": {
          "base_uri": "https://localhost:8080/",
          "height": 204
        },
        "id": "yve1KJ67_lpF",
        "outputId": "5f75eaf8-7eb5-4252-d39a-06df9b7f28ba"
      },
      "source": [
        "df.head()"
      ],
      "execution_count": 4,
      "outputs": [
        {
          "output_type": "execute_result",
          "data": {
            "text/html": [
              "<div>\n",
              "<style scoped>\n",
              "    .dataframe tbody tr th:only-of-type {\n",
              "        vertical-align: middle;\n",
              "    }\n",
              "\n",
              "    .dataframe tbody tr th {\n",
              "        vertical-align: top;\n",
              "    }\n",
              "\n",
              "    .dataframe thead th {\n",
              "        text-align: right;\n",
              "    }\n",
              "</style>\n",
              "<table border=\"1\" class=\"dataframe\">\n",
              "  <thead>\n",
              "    <tr style=\"text-align: right;\">\n",
              "      <th></th>\n",
              "      <th>v1</th>\n",
              "      <th>v2</th>\n",
              "      <th>Unnamed: 2</th>\n",
              "      <th>Unnamed: 3</th>\n",
              "      <th>Unnamed: 4</th>\n",
              "    </tr>\n",
              "  </thead>\n",
              "  <tbody>\n",
              "    <tr>\n",
              "      <th>0</th>\n",
              "      <td>ham</td>\n",
              "      <td>Go until jurong point, crazy.. Available only ...</td>\n",
              "      <td>NaN</td>\n",
              "      <td>NaN</td>\n",
              "      <td>NaN</td>\n",
              "    </tr>\n",
              "    <tr>\n",
              "      <th>1</th>\n",
              "      <td>ham</td>\n",
              "      <td>Ok lar... Joking wif u oni...</td>\n",
              "      <td>NaN</td>\n",
              "      <td>NaN</td>\n",
              "      <td>NaN</td>\n",
              "    </tr>\n",
              "    <tr>\n",
              "      <th>2</th>\n",
              "      <td>spam</td>\n",
              "      <td>Free entry in 2 a wkly comp to win FA Cup fina...</td>\n",
              "      <td>NaN</td>\n",
              "      <td>NaN</td>\n",
              "      <td>NaN</td>\n",
              "    </tr>\n",
              "    <tr>\n",
              "      <th>3</th>\n",
              "      <td>ham</td>\n",
              "      <td>U dun say so early hor... U c already then say...</td>\n",
              "      <td>NaN</td>\n",
              "      <td>NaN</td>\n",
              "      <td>NaN</td>\n",
              "    </tr>\n",
              "    <tr>\n",
              "      <th>4</th>\n",
              "      <td>ham</td>\n",
              "      <td>Nah I don't think he goes to usf, he lives aro...</td>\n",
              "      <td>NaN</td>\n",
              "      <td>NaN</td>\n",
              "      <td>NaN</td>\n",
              "    </tr>\n",
              "  </tbody>\n",
              "</table>\n",
              "</div>"
            ],
            "text/plain": [
              "     v1  ... Unnamed: 4\n",
              "0   ham  ...        NaN\n",
              "1   ham  ...        NaN\n",
              "2  spam  ...        NaN\n",
              "3   ham  ...        NaN\n",
              "4   ham  ...        NaN\n",
              "\n",
              "[5 rows x 5 columns]"
            ]
          },
          "metadata": {
            "tags": []
          },
          "execution_count": 4
        }
      ]
    },
    {
      "cell_type": "code",
      "metadata": {
        "id": "QXxM9Xmt_ojt"
      },
      "source": [
        "df.drop(columns=[\"Unnamed: 2\", \"Unnamed: 3\", \"Unnamed: 4\"], inplace=True)"
      ],
      "execution_count": 5,
      "outputs": []
    },
    {
      "cell_type": "code",
      "metadata": {
        "colab": {
          "base_uri": "https://localhost:8080/",
          "height": 204
        },
        "id": "JtV9fHvX_svu",
        "outputId": "a324c265-6b2b-4c1a-cfaf-9d06a540aab2"
      },
      "source": [
        "df.head()"
      ],
      "execution_count": 6,
      "outputs": [
        {
          "output_type": "execute_result",
          "data": {
            "text/html": [
              "<div>\n",
              "<style scoped>\n",
              "    .dataframe tbody tr th:only-of-type {\n",
              "        vertical-align: middle;\n",
              "    }\n",
              "\n",
              "    .dataframe tbody tr th {\n",
              "        vertical-align: top;\n",
              "    }\n",
              "\n",
              "    .dataframe thead th {\n",
              "        text-align: right;\n",
              "    }\n",
              "</style>\n",
              "<table border=\"1\" class=\"dataframe\">\n",
              "  <thead>\n",
              "    <tr style=\"text-align: right;\">\n",
              "      <th></th>\n",
              "      <th>v1</th>\n",
              "      <th>v2</th>\n",
              "    </tr>\n",
              "  </thead>\n",
              "  <tbody>\n",
              "    <tr>\n",
              "      <th>0</th>\n",
              "      <td>ham</td>\n",
              "      <td>Go until jurong point, crazy.. Available only ...</td>\n",
              "    </tr>\n",
              "    <tr>\n",
              "      <th>1</th>\n",
              "      <td>ham</td>\n",
              "      <td>Ok lar... Joking wif u oni...</td>\n",
              "    </tr>\n",
              "    <tr>\n",
              "      <th>2</th>\n",
              "      <td>spam</td>\n",
              "      <td>Free entry in 2 a wkly comp to win FA Cup fina...</td>\n",
              "    </tr>\n",
              "    <tr>\n",
              "      <th>3</th>\n",
              "      <td>ham</td>\n",
              "      <td>U dun say so early hor... U c already then say...</td>\n",
              "    </tr>\n",
              "    <tr>\n",
              "      <th>4</th>\n",
              "      <td>ham</td>\n",
              "      <td>Nah I don't think he goes to usf, he lives aro...</td>\n",
              "    </tr>\n",
              "  </tbody>\n",
              "</table>\n",
              "</div>"
            ],
            "text/plain": [
              "     v1                                                 v2\n",
              "0   ham  Go until jurong point, crazy.. Available only ...\n",
              "1   ham                      Ok lar... Joking wif u oni...\n",
              "2  spam  Free entry in 2 a wkly comp to win FA Cup fina...\n",
              "3   ham  U dun say so early hor... U c already then say...\n",
              "4   ham  Nah I don't think he goes to usf, he lives aro..."
            ]
          },
          "metadata": {
            "tags": []
          },
          "execution_count": 6
        }
      ]
    },
    {
      "cell_type": "code",
      "metadata": {
        "id": "99ikan4t_wUB"
      },
      "source": [
        "df.rename(mapper={\"v1\": \"lables\", \"v2\": \"data\"}, axis=1, inplace=True)"
      ],
      "execution_count": 7,
      "outputs": []
    },
    {
      "cell_type": "code",
      "metadata": {
        "colab": {
          "base_uri": "https://localhost:8080/",
          "height": 204
        },
        "id": "4Wah648A_1Tq",
        "outputId": "61670aa7-9664-448a-a556-6823ca83d410"
      },
      "source": [
        "df.head()"
      ],
      "execution_count": 8,
      "outputs": [
        {
          "output_type": "execute_result",
          "data": {
            "text/html": [
              "<div>\n",
              "<style scoped>\n",
              "    .dataframe tbody tr th:only-of-type {\n",
              "        vertical-align: middle;\n",
              "    }\n",
              "\n",
              "    .dataframe tbody tr th {\n",
              "        vertical-align: top;\n",
              "    }\n",
              "\n",
              "    .dataframe thead th {\n",
              "        text-align: right;\n",
              "    }\n",
              "</style>\n",
              "<table border=\"1\" class=\"dataframe\">\n",
              "  <thead>\n",
              "    <tr style=\"text-align: right;\">\n",
              "      <th></th>\n",
              "      <th>lables</th>\n",
              "      <th>data</th>\n",
              "    </tr>\n",
              "  </thead>\n",
              "  <tbody>\n",
              "    <tr>\n",
              "      <th>0</th>\n",
              "      <td>ham</td>\n",
              "      <td>Go until jurong point, crazy.. Available only ...</td>\n",
              "    </tr>\n",
              "    <tr>\n",
              "      <th>1</th>\n",
              "      <td>ham</td>\n",
              "      <td>Ok lar... Joking wif u oni...</td>\n",
              "    </tr>\n",
              "    <tr>\n",
              "      <th>2</th>\n",
              "      <td>spam</td>\n",
              "      <td>Free entry in 2 a wkly comp to win FA Cup fina...</td>\n",
              "    </tr>\n",
              "    <tr>\n",
              "      <th>3</th>\n",
              "      <td>ham</td>\n",
              "      <td>U dun say so early hor... U c already then say...</td>\n",
              "    </tr>\n",
              "    <tr>\n",
              "      <th>4</th>\n",
              "      <td>ham</td>\n",
              "      <td>Nah I don't think he goes to usf, he lives aro...</td>\n",
              "    </tr>\n",
              "  </tbody>\n",
              "</table>\n",
              "</div>"
            ],
            "text/plain": [
              "  lables                                               data\n",
              "0    ham  Go until jurong point, crazy.. Available only ...\n",
              "1    ham                      Ok lar... Joking wif u oni...\n",
              "2   spam  Free entry in 2 a wkly comp to win FA Cup fina...\n",
              "3    ham  U dun say so early hor... U c already then say...\n",
              "4    ham  Nah I don't think he goes to usf, he lives aro..."
            ]
          },
          "metadata": {
            "tags": []
          },
          "execution_count": 8
        }
      ]
    },
    {
      "cell_type": "code",
      "metadata": {
        "id": "z-WqnxpPAGNW"
      },
      "source": [
        "df[\"b_labels\"] = df[\"lables\"].map({\"ham\": 0, \"spam\": 1})"
      ],
      "execution_count": 9,
      "outputs": []
    },
    {
      "cell_type": "code",
      "metadata": {
        "colab": {
          "base_uri": "https://localhost:8080/",
          "height": 204
        },
        "id": "uFYVHPsnANMA",
        "outputId": "a9e9c79f-dd1a-41cc-efc7-2a1718c2397e"
      },
      "source": [
        "df.head()"
      ],
      "execution_count": 10,
      "outputs": [
        {
          "output_type": "execute_result",
          "data": {
            "text/html": [
              "<div>\n",
              "<style scoped>\n",
              "    .dataframe tbody tr th:only-of-type {\n",
              "        vertical-align: middle;\n",
              "    }\n",
              "\n",
              "    .dataframe tbody tr th {\n",
              "        vertical-align: top;\n",
              "    }\n",
              "\n",
              "    .dataframe thead th {\n",
              "        text-align: right;\n",
              "    }\n",
              "</style>\n",
              "<table border=\"1\" class=\"dataframe\">\n",
              "  <thead>\n",
              "    <tr style=\"text-align: right;\">\n",
              "      <th></th>\n",
              "      <th>lables</th>\n",
              "      <th>data</th>\n",
              "      <th>b_labels</th>\n",
              "    </tr>\n",
              "  </thead>\n",
              "  <tbody>\n",
              "    <tr>\n",
              "      <th>0</th>\n",
              "      <td>ham</td>\n",
              "      <td>Go until jurong point, crazy.. Available only ...</td>\n",
              "      <td>0</td>\n",
              "    </tr>\n",
              "    <tr>\n",
              "      <th>1</th>\n",
              "      <td>ham</td>\n",
              "      <td>Ok lar... Joking wif u oni...</td>\n",
              "      <td>0</td>\n",
              "    </tr>\n",
              "    <tr>\n",
              "      <th>2</th>\n",
              "      <td>spam</td>\n",
              "      <td>Free entry in 2 a wkly comp to win FA Cup fina...</td>\n",
              "      <td>1</td>\n",
              "    </tr>\n",
              "    <tr>\n",
              "      <th>3</th>\n",
              "      <td>ham</td>\n",
              "      <td>U dun say so early hor... U c already then say...</td>\n",
              "      <td>0</td>\n",
              "    </tr>\n",
              "    <tr>\n",
              "      <th>4</th>\n",
              "      <td>ham</td>\n",
              "      <td>Nah I don't think he goes to usf, he lives aro...</td>\n",
              "      <td>0</td>\n",
              "    </tr>\n",
              "  </tbody>\n",
              "</table>\n",
              "</div>"
            ],
            "text/plain": [
              "  lables                                               data  b_labels\n",
              "0    ham  Go until jurong point, crazy.. Available only ...         0\n",
              "1    ham                      Ok lar... Joking wif u oni...         0\n",
              "2   spam  Free entry in 2 a wkly comp to win FA Cup fina...         1\n",
              "3    ham  U dun say so early hor... U c already then say...         0\n",
              "4    ham  Nah I don't think he goes to usf, he lives aro...         0"
            ]
          },
          "metadata": {
            "tags": []
          },
          "execution_count": 10
        }
      ]
    },
    {
      "cell_type": "code",
      "metadata": {
        "id": "6Y4BCV54AQro"
      },
      "source": [
        "df2 = df[[\"b_labels\", \"data\"]]"
      ],
      "execution_count": 11,
      "outputs": []
    },
    {
      "cell_type": "code",
      "metadata": {
        "colab": {
          "base_uri": "https://localhost:8080/",
          "height": 204
        },
        "id": "COxSfQclAVuE",
        "outputId": "27b44ce6-fa40-4ec5-86a4-6b13370e6285"
      },
      "source": [
        "df2.head()"
      ],
      "execution_count": 12,
      "outputs": [
        {
          "output_type": "execute_result",
          "data": {
            "text/html": [
              "<div>\n",
              "<style scoped>\n",
              "    .dataframe tbody tr th:only-of-type {\n",
              "        vertical-align: middle;\n",
              "    }\n",
              "\n",
              "    .dataframe tbody tr th {\n",
              "        vertical-align: top;\n",
              "    }\n",
              "\n",
              "    .dataframe thead th {\n",
              "        text-align: right;\n",
              "    }\n",
              "</style>\n",
              "<table border=\"1\" class=\"dataframe\">\n",
              "  <thead>\n",
              "    <tr style=\"text-align: right;\">\n",
              "      <th></th>\n",
              "      <th>b_labels</th>\n",
              "      <th>data</th>\n",
              "    </tr>\n",
              "  </thead>\n",
              "  <tbody>\n",
              "    <tr>\n",
              "      <th>0</th>\n",
              "      <td>0</td>\n",
              "      <td>Go until jurong point, crazy.. Available only ...</td>\n",
              "    </tr>\n",
              "    <tr>\n",
              "      <th>1</th>\n",
              "      <td>0</td>\n",
              "      <td>Ok lar... Joking wif u oni...</td>\n",
              "    </tr>\n",
              "    <tr>\n",
              "      <th>2</th>\n",
              "      <td>1</td>\n",
              "      <td>Free entry in 2 a wkly comp to win FA Cup fina...</td>\n",
              "    </tr>\n",
              "    <tr>\n",
              "      <th>3</th>\n",
              "      <td>0</td>\n",
              "      <td>U dun say so early hor... U c already then say...</td>\n",
              "    </tr>\n",
              "    <tr>\n",
              "      <th>4</th>\n",
              "      <td>0</td>\n",
              "      <td>Nah I don't think he goes to usf, he lives aro...</td>\n",
              "    </tr>\n",
              "  </tbody>\n",
              "</table>\n",
              "</div>"
            ],
            "text/plain": [
              "   b_labels                                               data\n",
              "0         0  Go until jurong point, crazy.. Available only ...\n",
              "1         0                      Ok lar... Joking wif u oni...\n",
              "2         1  Free entry in 2 a wkly comp to win FA Cup fina...\n",
              "3         0  U dun say so early hor... U c already then say...\n",
              "4         0  Nah I don't think he goes to usf, he lives aro..."
            ]
          },
          "metadata": {
            "tags": []
          },
          "execution_count": 12
        }
      ]
    },
    {
      "cell_type": "code",
      "metadata": {
        "id": "tay96vHsAWUy"
      },
      "source": [
        "df2.to_csv(\"spam2.csv\", index=False)"
      ],
      "execution_count": 13,
      "outputs": []
    },
    {
      "cell_type": "code",
      "metadata": {
        "id": "2KwG9YszAbOP"
      },
      "source": [
        "TEXT = ttd.Field(sequential=True, \r\n",
        "                 lower=True, \r\n",
        "                 batch_first=True, \r\n",
        "                 pad_first=True)\r\n",
        "LABEL = ttd.Field(sequential=False, \r\n",
        "                  use_vocab=False, \r\n",
        "                  is_target=True)"
      ],
      "execution_count": 26,
      "outputs": []
    },
    {
      "cell_type": "code",
      "metadata": {
        "id": "rMamf3QLBGqw"
      },
      "source": [
        "dataset = ttd.TabularDataset(path=\"spam2.csv\", \r\n",
        "                   format=\"csv\", \r\n",
        "                   skip_header=True, \r\n",
        "                   fields=[(\"b_labels\", LABEL), (\"data\", TEXT)])"
      ],
      "execution_count": 27,
      "outputs": []
    },
    {
      "cell_type": "code",
      "metadata": {
        "id": "jbPmbqOwBhUL"
      },
      "source": [
        "train_dataset, test_dataset = dataset.split()"
      ],
      "execution_count": 28,
      "outputs": []
    },
    {
      "cell_type": "code",
      "metadata": {
        "id": "r82YltnOBktx"
      },
      "source": [
        "TEXT.build_vocab(train_dataset)"
      ],
      "execution_count": 29,
      "outputs": []
    },
    {
      "cell_type": "code",
      "metadata": {
        "id": "18XvwyJWCo7o"
      },
      "source": [
        "vocab = TEXT.vocab"
      ],
      "execution_count": 30,
      "outputs": []
    },
    {
      "cell_type": "code",
      "metadata": {
        "colab": {
          "base_uri": "https://localhost:8080/"
        },
        "id": "2E7H__-ECsH2",
        "outputId": "066ceae5-143f-4052-929d-dddd0c2b16e1"
      },
      "source": [
        "device = torch.device(\"cuda:0\" if torch.cuda.is_available() else \"cpu\")\r\n",
        "print(device)"
      ],
      "execution_count": 31,
      "outputs": [
        {
          "output_type": "stream",
          "text": [
            "cuda:0\n"
          ],
          "name": "stdout"
        }
      ]
    },
    {
      "cell_type": "code",
      "metadata": {
        "id": "Iut9xDTSC-TC"
      },
      "source": [
        "train_iter, test_iter = ttd.Iterator.splits((train_dataset, test_dataset), \r\n",
        "                                            batch_sizes=(32, 256), \r\n",
        "                                            sort_key=lambda x: len(x.data), \r\n",
        "                                            device=device)"
      ],
      "execution_count": 32,
      "outputs": []
    },
    {
      "cell_type": "code",
      "metadata": {
        "colab": {
          "base_uri": "https://localhost:8080/"
        },
        "id": "5jxillVCDgq9",
        "outputId": "e9e284da-4f8b-4356-b3eb-895c197e854f"
      },
      "source": [
        "embed = nn.Embedding(num_embeddings=len(vocab), embedding_dim=20).to(device)\r\n",
        "for inputs, targets in train_iter:\r\n",
        "    out = embed(inputs)\r\n",
        "    print(\"inputs.shape\", inputs.shape, \"outputs.shape\", out.shape)\r\n",
        "    break"
      ],
      "execution_count": 34,
      "outputs": [
        {
          "output_type": "stream",
          "text": [
            "inputs.shape torch.Size([32, 162]) outputs.shape torch.Size([32, 162, 20])\n"
          ],
          "name": "stdout"
        }
      ]
    },
    {
      "cell_type": "code",
      "metadata": {
        "id": "QoLao8dPD4wP"
      },
      "source": [
        "class CNN(nn.Module):\r\n",
        "    def __init__(self, n_vocab, embed_dim, n_outputs):\r\n",
        "        super(CNN, self).__init__()\r\n",
        "        self.V = n_vocab\r\n",
        "        self.D = embed_dim\r\n",
        "        self.K = n_outputs\r\n",
        "\r\n",
        "        self.embed = nn.Embedding(num_embeddings=self.V, \r\n",
        "                                  embedding_dim=self.D)\r\n",
        "        self.conv1 = nn.Conv1d(in_channels=self.D, \r\n",
        "                               out_channels=32, \r\n",
        "                               kernel_size=3, \r\n",
        "                               padding=1)\r\n",
        "        self.pool1 = nn.MaxPool1d(kernel_size=2)\r\n",
        "        self.conv2 = nn.Conv1d(in_channels=32, \r\n",
        "                               out_channels=64, \r\n",
        "                               kernel_size=3, \r\n",
        "                               padding=1)\r\n",
        "        self.pool2 = nn.MaxPool1d(kernel_size=2)\r\n",
        "        self.conv3 = nn.Conv1d(in_channels=64, \r\n",
        "                               out_channels=128, \r\n",
        "                               kernel_size=3, \r\n",
        "                               padding=1)\r\n",
        "        self.fc = nn.Linear(in_features=128, \r\n",
        "                            out_features=self.K)\r\n",
        "    \r\n",
        "    def forward(self, X):\r\n",
        "        out = self.embed(X)\r\n",
        "        out = out.permute(0, 2, 1)\r\n",
        "        out = self.conv1(out)\r\n",
        "        out = F.relu(out)\r\n",
        "        out = self.pool1(out)\r\n",
        "        out = self.conv2(out)\r\n",
        "        out = F.relu(out)\r\n",
        "        out = self.pool2(out)\r\n",
        "        out = self.conv3(out)\r\n",
        "        out = F.relu(out)\r\n",
        "\r\n",
        "        out = out.permute(0, 2, 1)\r\n",
        "\r\n",
        "        out, _ = torch.max(out, 1)\r\n",
        "\r\n",
        "        out = self.fc(out)\r\n",
        "        return out"
      ],
      "execution_count": 52,
      "outputs": []
    },
    {
      "cell_type": "code",
      "metadata": {
        "colab": {
          "base_uri": "https://localhost:8080/"
        },
        "id": "SIt2swvTE6PP",
        "outputId": "0bad387f-54b9-44da-eb17-4ee0744884cd"
      },
      "source": [
        "model = CNN(len(vocab), 20, 1)\r\n",
        "model.to(device)"
      ],
      "execution_count": 53,
      "outputs": [
        {
          "output_type": "execute_result",
          "data": {
            "text/plain": [
              "CNN(\n",
              "  (embed): Embedding(10869, 20)\n",
              "  (conv1): Conv1d(20, 32, kernel_size=(3,), stride=(1,), padding=(1,))\n",
              "  (pool1): MaxPool1d(kernel_size=2, stride=2, padding=0, dilation=1, ceil_mode=False)\n",
              "  (conv2): Conv1d(32, 64, kernel_size=(3,), stride=(1,), padding=(1,))\n",
              "  (pool2): MaxPool1d(kernel_size=2, stride=2, padding=0, dilation=1, ceil_mode=False)\n",
              "  (conv3): Conv1d(64, 128, kernel_size=(3,), stride=(1,), padding=(1,))\n",
              "  (fc): Linear(in_features=128, out_features=1, bias=True)\n",
              ")"
            ]
          },
          "metadata": {
            "tags": []
          },
          "execution_count": 53
        }
      ]
    },
    {
      "cell_type": "code",
      "metadata": {
        "id": "5600skmGIPQC"
      },
      "source": [
        "criterion = nn.BCEWithLogitsLoss()\r\n",
        "optimizer = torch.optim.Adam(params=model.parameters())"
      ],
      "execution_count": 54,
      "outputs": []
    },
    {
      "cell_type": "code",
      "metadata": {
        "id": "3X77MtEfIdaJ"
      },
      "source": [
        "def batch_gd(model, \r\n",
        "             criterion, \r\n",
        "             optimizer, \r\n",
        "             train_iter, \r\n",
        "             test_iter, \r\n",
        "             epochs):\r\n",
        "    train_losses = np.zeros(epochs)\r\n",
        "    test_losses = np.zeros(epochs)\r\n",
        "\r\n",
        "    for epoch in range(epochs):\r\n",
        "        t0 = datetime.now()\r\n",
        "\r\n",
        "        train_loss = []\r\n",
        "        for inputs, targets in train_iter:\r\n",
        "            inputs, targets = inputs.to(device), targets.to(device)\r\n",
        "            targets = targets.view(-1, 1).float()\r\n",
        "\r\n",
        "            optimizer.zero_grad()\r\n",
        "\r\n",
        "            outputs = model(inputs)\r\n",
        "            loss = criterion(outputs, targets)\r\n",
        "            train_loss.append(loss.item())\r\n",
        "\r\n",
        "            loss.backward()\r\n",
        "            optimizer.step()\r\n",
        "        train_loss = np.mean(train_loss)\r\n",
        "        train_losses[epoch] = train_loss\r\n",
        "\r\n",
        "        test_loss = []\r\n",
        "        for inputs, targets in test_iter:\r\n",
        "            inputs, targets = inputs.to(device), targets.to(device)\r\n",
        "            targets = targets.view(-1, 1).float()\r\n",
        "\r\n",
        "            outputs = model(inputs)\r\n",
        "            loss = criterion(outputs, targets)\r\n",
        "            test_loss.append(loss.item())\r\n",
        "\r\n",
        "        test_loss = np.mean(test_loss)\r\n",
        "        test_losses[epoch] = test_loss\r\n",
        "        dt = datetime.now() - t0\r\n",
        "        print(f\"Epoch {epoch + 1}/{epochs}, Train Loss: {train_loss:.4f}, Test Loss: {test_loss:.4f}, Duration: {dt}\")\r\n",
        "    return train_losses, test_losses"
      ],
      "execution_count": 55,
      "outputs": []
    },
    {
      "cell_type": "code",
      "metadata": {
        "colab": {
          "base_uri": "https://localhost:8080/"
        },
        "id": "_PQ5KYv0KAvV",
        "outputId": "bc9b78cb-712a-4bef-b736-fc4a298259b7"
      },
      "source": [
        "train_losses, test_losses = batch_gd(model, criterion, optimizer, train_iter, test_iter, 8)"
      ],
      "execution_count": 56,
      "outputs": [
        {
          "output_type": "stream",
          "text": [
            "Epoch 1/8, Train Loss: 0.4084, Test Loss: 0.4566, Duration: 0:00:00.562978\n",
            "Epoch 2/8, Train Loss: 0.2973, Test Loss: 0.2413, Duration: 0:00:00.526412\n",
            "Epoch 3/8, Train Loss: 0.1581, Test Loss: 0.1905, Duration: 0:00:00.526544\n",
            "Epoch 4/8, Train Loss: 0.1046, Test Loss: 0.1710, Duration: 0:00:00.531158\n",
            "Epoch 5/8, Train Loss: 0.0786, Test Loss: 0.1471, Duration: 0:00:00.528451\n",
            "Epoch 6/8, Train Loss: 0.0558, Test Loss: 0.1464, Duration: 0:00:00.541799\n",
            "Epoch 7/8, Train Loss: 0.0342, Test Loss: 0.1506, Duration: 0:00:00.521534\n",
            "Epoch 8/8, Train Loss: 0.0291, Test Loss: 0.1412, Duration: 0:00:00.541424\n"
          ],
          "name": "stdout"
        }
      ]
    },
    {
      "cell_type": "code",
      "metadata": {
        "colab": {
          "base_uri": "https://localhost:8080/",
          "height": 265
        },
        "id": "Zo_5DSRyKIHf",
        "outputId": "c4b39c74-3a5d-445c-b493-c319434c1a75"
      },
      "source": [
        "plt.plot(train_losses, label=\"train loss\")\r\n",
        "plt.plot(test_losses, label=\"test loss\")\r\n",
        "plt.legend()\r\n",
        "plt.show()"
      ],
      "execution_count": 57,
      "outputs": [
        {
          "output_type": "display_data",
          "data": {
            "image/png": "[encoded data removed]",
            "text/plain": [
              "<Figure size 432x288 with 1 Axes>"
            ]
          },
          "metadata": {
            "tags": [],
            "needs_background": "light"
          }
        }
      ]
    },
    {
      "cell_type": "code",
      "metadata": {
        "colab": {
          "base_uri": "https://localhost:8080/"
        },
        "id": "CWfSH8-HKe_m",
        "outputId": "6be80f09-a4ce-4744-ae31-2ed6ca871076"
      },
      "source": [
        "n_correct = 0\r\n",
        "n_total = 0\r\n",
        "for inputs, targets in train_iter:\r\n",
        "    inputs, targets = inputs.to(device), targets.to(device)\r\n",
        "    targets = targets.view(-1, 1).float()\r\n",
        "\r\n",
        "    outputs = model(inputs)\r\n",
        "    predictions = (outputs > 0)\r\n",
        "    n_correct += (predictions == targets).sum().item()\r\n",
        "    n_total += inputs.shape[0]  \r\n",
        "train_acc = n_correct / n_total\r\n",
        "\r\n",
        "n_correct = 0\r\n",
        "n_total = 0\r\n",
        "for inputs, targets in test_iter:\r\n",
        "    inputs, targets = inputs.to(device), targets.to(device)\r\n",
        "    targets = targets.view(-1, 1).float()\r\n",
        "\r\n",
        "    outputs = model(inputs)\r\n",
        "    predictions = (outputs > 0)\r\n",
        "    n_correct += (predictions == targets).sum().item()\r\n",
        "    n_total += inputs.shape[0]  \r\n",
        "test_acc = n_correct / n_total\r\n",
        "\r\n",
        "print(f\"Train acc: {train_acc:.4f}, Test acc: {test_acc:.4f}\")"
      ],
      "execution_count": 59,
      "outputs": [
        {
          "output_type": "stream",
          "text": [
            "Train acc: 0.9931, Test acc: 0.9551\n"
          ],
          "name": "stdout"
        }
      ]
    },
    {
      "cell_type": "code",
      "metadata": {
        "id": "1tEMfpKULQc_"
      },
      "source": [
        ""
      ],
      "execution_count": null,
      "outputs": []
    }
  ]
}