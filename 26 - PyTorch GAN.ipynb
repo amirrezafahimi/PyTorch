{
  "nbformat": 4,
  "nbformat_minor": 0,
  "metadata": {
    "colab": {
      "name": "PyTorch GAN.ipynb",
      "provenance": []
    },
    "kernelspec": {
      "name": "python3",
      "display_name": "Python 3"
    },
    "accelerator": "GPU",
    "widgets": {
      "application/vnd.jupyter.widget-state+json": {
        "0f350d3da7934dfbbe28a58de36aabc0": {
          "model_module": "@jupyter-widgets/controls",
          "model_name": "HBoxModel",
          "state": {
            "_view_name": "HBoxView",
            "_dom_classes": [],
            "_model_name": "HBoxModel",
            "_view_module": "@jupyter-widgets/controls",
            "_model_module_version": "1.5.0",
            "_view_count": null,
            "_view_module_version": "1.5.0",
            "box_style": "",
            "layout": "IPY_MODEL_5cc3916510264c2e8f1fdddb23df92e7",
            "_model_module": "@jupyter-widgets/controls",
            "children": [
              "IPY_MODEL_c4364dd8b0964a439b31b4ab28ffc5ce",
              "IPY_MODEL_b294a600761c4ae3a7f997b434f493c3"
            ]
          }
        },
        "5cc3916510264c2e8f1fdddb23df92e7": {
          "model_module": "@jupyter-widgets/base",
          "model_name": "LayoutModel",
          "state": {
            "_view_name": "LayoutView",
            "grid_template_rows": null,
            "right": null,
            "justify_content": null,
            "_view_module": "@jupyter-widgets/base",
            "overflow": null,
            "_model_module_version": "1.2.0",
            "_view_count": null,
            "flex_flow": null,
            "width": null,
            "min_width": null,
            "border": null,
            "align_items": null,
            "bottom": null,
            "_model_module": "@jupyter-widgets/base",
            "top": null,
            "grid_column": null,
            "overflow_y": null,
            "overflow_x": null,
            "grid_auto_flow": null,
            "grid_area": null,
            "grid_template_columns": null,
            "flex": null,
            "_model_name": "LayoutModel",
            "justify_items": null,
            "grid_row": null,
            "max_height": null,
            "align_content": null,
            "visibility": null,
            "align_self": null,
            "height": null,
            "min_height": null,
            "padding": null,
            "grid_auto_rows": null,
            "grid_gap": null,
            "max_width": null,
            "order": null,
            "_view_module_version": "1.2.0",
            "grid_template_areas": null,
            "object_position": null,
            "object_fit": null,
            "grid_auto_columns": null,
            "margin": null,
            "display": null,
            "left": null
          }
        },
        "c4364dd8b0964a439b31b4ab28ffc5ce": {
          "model_module": "@jupyter-widgets/controls",
          "model_name": "FloatProgressModel",
          "state": {
            "_view_name": "ProgressView",
            "style": "IPY_MODEL_3df93c1106b14c8799ecd4b8ca980bca",
            "_dom_classes": [],
            "description": "",
            "_model_name": "FloatProgressModel",
            "bar_style": "info",
            "max": 1,
            "_view_module": "@jupyter-widgets/controls",
            "_model_module_version": "1.5.0",
            "value": 1,
            "_view_count": null,
            "_view_module_version": "1.5.0",
            "orientation": "horizontal",
            "min": 0,
            "description_tooltip": null,
            "_model_module": "@jupyter-widgets/controls",
            "layout": "IPY_MODEL_b91d94966c984960a9689d33ab70ffd9"
          }
        },
        "b294a600761c4ae3a7f997b434f493c3": {
          "model_module": "@jupyter-widgets/controls",
          "model_name": "HTMLModel",
          "state": {
            "_view_name": "HTMLView",
            "style": "IPY_MODEL_4b79c22c6b04420089080148775e66e0",
            "_dom_classes": [],
            "description": "",
            "_model_name": "HTMLModel",
            "placeholder": "​",
            "_view_module": "@jupyter-widgets/controls",
            "_model_module_version": "1.5.0",
            "value": " 9920512/? [00:20&lt;00:00, 1114691.04it/s]",
            "_view_count": null,
            "_view_module_version": "1.5.0",
            "description_tooltip": null,
            "_model_module": "@jupyter-widgets/controls",
            "layout": "IPY_MODEL_9de22523821c495b86424a06f39509e8"
          }
        },
        "3df93c1106b14c8799ecd4b8ca980bca": {
          "model_module": "@jupyter-widgets/controls",
          "model_name": "ProgressStyleModel",
          "state": {
            "_view_name": "StyleView",
            "_model_name": "ProgressStyleModel",
            "description_width": "initial",
            "_view_module": "@jupyter-widgets/base",
            "_model_module_version": "1.5.0",
            "_view_count": null,
            "_view_module_version": "1.2.0",
            "bar_color": null,
            "_model_module": "@jupyter-widgets/controls"
          }
        },
        "b91d94966c984960a9689d33ab70ffd9": {
          "model_module": "@jupyter-widgets/base",
          "model_name": "LayoutModel",
          "state": {
            "_view_name": "LayoutView",
            "grid_template_rows": null,
            "right": null,
            "justify_content": null,
            "_view_module": "@jupyter-widgets/base",
            "overflow": null,
            "_model_module_version": "1.2.0",
            "_view_count": null,
            "flex_flow": null,
            "width": null,
            "min_width": null,
            "border": null,
            "align_items": null,
            "bottom": null,
            "_model_module": "@jupyter-widgets/base",
            "top": null,
            "grid_column": null,
            "overflow_y": null,
            "overflow_x": null,
            "grid_auto_flow": null,
            "grid_area": null,
            "grid_template_columns": null,
            "flex": null,
            "_model_name": "LayoutModel",
            "justify_items": null,
            "grid_row": null,
            "max_height": null,
            "align_content": null,
            "visibility": null,
            "align_self": null,
            "height": null,
            "min_height": null,
            "padding": null,
            "grid_auto_rows": null,
            "grid_gap": null,
            "max_width": null,
            "order": null,
            "_view_module_version": "1.2.0",
            "grid_template_areas": null,
            "object_position": null,
            "object_fit": null,
            "grid_auto_columns": null,
            "margin": null,
            "display": null,
            "left": null
          }
        },
        "4b79c22c6b04420089080148775e66e0": {
          "model_module": "@jupyter-widgets/controls",
          "model_name": "DescriptionStyleModel",
          "state": {
            "_view_name": "StyleView",
            "_model_name": "DescriptionStyleModel",
            "description_width": "",
            "_view_module": "@jupyter-widgets/base",
            "_model_module_version": "1.5.0",
            "_view_count": null,
            "_view_module_version": "1.2.0",
            "_model_module": "@jupyter-widgets/controls"
          }
        },
        "9de22523821c495b86424a06f39509e8": {
          "model_module": "@jupyter-widgets/base",
          "model_name": "LayoutModel",
          "state": {
            "_view_name": "LayoutView",
            "grid_template_rows": null,
            "right": null,
            "justify_content": null,
            "_view_module": "@jupyter-widgets/base",
            "overflow": null,
            "_model_module_version": "1.2.0",
            "_view_count": null,
            "flex_flow": null,
            "width": null,
            "min_width": null,
            "border": null,
            "align_items": null,
            "bottom": null,
            "_model_module": "@jupyter-widgets/base",
            "top": null,
            "grid_column": null,
            "overflow_y": null,
            "overflow_x": null,
            "grid_auto_flow": null,
            "grid_area": null,
            "grid_template_columns": null,
            "flex": null,
            "_model_name": "LayoutModel",
            "justify_items": null,
            "grid_row": null,
            "max_height": null,
            "align_content": null,
            "visibility": null,
            "align_self": null,
            "height": null,
            "min_height": null,
            "padding": null,
            "grid_auto_rows": null,
            "grid_gap": null,
            "max_width": null,
            "order": null,
            "_view_module_version": "1.2.0",
            "grid_template_areas": null,
            "object_position": null,
            "object_fit": null,
            "grid_auto_columns": null,
            "margin": null,
            "display": null,
            "left": null
          }
        },
        "66cec8dbabb9454ab245e956f3f06cee": {
          "model_module": "@jupyter-widgets/controls",
          "model_name": "HBoxModel",
          "state": {
            "_view_name": "HBoxView",
            "_dom_classes": [],
            "_model_name": "HBoxModel",
            "_view_module": "@jupyter-widgets/controls",
            "_model_module_version": "1.5.0",
            "_view_count": null,
            "_view_module_version": "1.5.0",
            "box_style": "",
            "layout": "IPY_MODEL_76f037ac6bea42e8afb84ebb98dbb92c",
            "_model_module": "@jupyter-widgets/controls",
            "children": [
              "IPY_MODEL_fc61cc3646a4425aa0210308ccc48a06",
              "IPY_MODEL_a43e33338b224208b2816237e00c89e6"
            ]
          }
        },
        "76f037ac6bea42e8afb84ebb98dbb92c": {
          "model_module": "@jupyter-widgets/base",
          "model_name": "LayoutModel",
          "state": {
            "_view_name": "LayoutView",
            "grid_template_rows": null,
            "right": null,
            "justify_content": null,
            "_view_module": "@jupyter-widgets/base",
            "overflow": null,
            "_model_module_version": "1.2.0",
            "_view_count": null,
            "flex_flow": null,
            "width": null,
            "min_width": null,
            "border": null,
            "align_items": null,
            "bottom": null,
            "_model_module": "@jupyter-widgets/base",
            "top": null,
            "grid_column": null,
            "overflow_y": null,
            "overflow_x": null,
            "grid_auto_flow": null,
            "grid_area": null,
            "grid_template_columns": null,
            "flex": null,
            "_model_name": "LayoutModel",
            "justify_items": null,
            "grid_row": null,
            "max_height": null,
            "align_content": null,
            "visibility": null,
            "align_self": null,
            "height": null,
            "min_height": null,
            "padding": null,
            "grid_auto_rows": null,
            "grid_gap": null,
            "max_width": null,
            "order": null,
            "_view_module_version": "1.2.0",
            "grid_template_areas": null,
            "object_position": null,
            "object_fit": null,
            "grid_auto_columns": null,
            "margin": null,
            "display": null,
            "left": null
          }
        },
        "fc61cc3646a4425aa0210308ccc48a06": {
          "model_module": "@jupyter-widgets/controls",
          "model_name": "FloatProgressModel",
          "state": {
            "_view_name": "ProgressView",
            "style": "IPY_MODEL_092354329f2a4daea2054323f10e76e5",
            "_dom_classes": [],
            "description": "",
            "_model_name": "FloatProgressModel",
            "bar_style": "success",
            "max": 1,
            "_view_module": "@jupyter-widgets/controls",
            "_model_module_version": "1.5.0",
            "value": 1,
            "_view_count": null,
            "_view_module_version": "1.5.0",
            "orientation": "horizontal",
            "min": 0,
            "description_tooltip": null,
            "_model_module": "@jupyter-widgets/controls",
            "layout": "IPY_MODEL_f1420898563148a7b36acbaf556f9361"
          }
        },
        "a43e33338b224208b2816237e00c89e6": {
          "model_module": "@jupyter-widgets/controls",
          "model_name": "HTMLModel",
          "state": {
            "_view_name": "HTMLView",
            "style": "IPY_MODEL_18d40a8e4a7543f28a86c2eed9824aa9",
            "_dom_classes": [],
            "description": "",
            "_model_name": "HTMLModel",
            "placeholder": "​",
            "_view_module": "@jupyter-widgets/controls",
            "_model_module_version": "1.5.0",
            "value": " 32768/? [00:00&lt;00:00, 117730.11it/s]",
            "_view_count": null,
            "_view_module_version": "1.5.0",
            "description_tooltip": null,
            "_model_module": "@jupyter-widgets/controls",
            "layout": "IPY_MODEL_ab70295a405d48c9ab2681243d4b90a2"
          }
        },
        "092354329f2a4daea2054323f10e76e5": {
          "model_module": "@jupyter-widgets/controls",
          "model_name": "ProgressStyleModel",
          "state": {
            "_view_name": "StyleView",
            "_model_name": "ProgressStyleModel",
            "description_width": "initial",
            "_view_module": "@jupyter-widgets/base",
            "_model_module_version": "1.5.0",
            "_view_count": null,
            "_view_module_version": "1.2.0",
            "bar_color": null,
            "_model_module": "@jupyter-widgets/controls"
          }
        },
        "f1420898563148a7b36acbaf556f9361": {
          "model_module": "@jupyter-widgets/base",
          "model_name": "LayoutModel",
          "state": {
            "_view_name": "LayoutView",
            "grid_template_rows": null,
            "right": null,
            "justify_content": null,
            "_view_module": "@jupyter-widgets/base",
            "overflow": null,
            "_model_module_version": "1.2.0",
            "_view_count": null,
            "flex_flow": null,
            "width": null,
            "min_width": null,
            "border": null,
            "align_items": null,
            "bottom": null,
            "_model_module": "@jupyter-widgets/base",
            "top": null,
            "grid_column": null,
            "overflow_y": null,
            "overflow_x": null,
            "grid_auto_flow": null,
            "grid_area": null,
            "grid_template_columns": null,
            "flex": null,
            "_model_name": "LayoutModel",
            "justify_items": null,
            "grid_row": null,
            "max_height": null,
            "align_content": null,
            "visibility": null,
            "align_self": null,
            "height": null,
            "min_height": null,
            "padding": null,
            "grid_auto_rows": null,
            "grid_gap": null,
            "max_width": null,
            "order": null,
            "_view_module_version": "1.2.0",
            "grid_template_areas": null,
            "object_position": null,
            "object_fit": null,
            "grid_auto_columns": null,
            "margin": null,
            "display": null,
            "left": null
          }
        },
        "18d40a8e4a7543f28a86c2eed9824aa9": {
          "model_module": "@jupyter-widgets/controls",
          "model_name": "DescriptionStyleModel",
          "state": {
            "_view_name": "StyleView",
            "_model_name": "DescriptionStyleModel",
            "description_width": "",
            "_view_module": "@jupyter-widgets/base",
            "_model_module_version": "1.5.0",
            "_view_count": null,
            "_view_module_version": "1.2.0",
            "_model_module": "@jupyter-widgets/controls"
          }
        },
        "ab70295a405d48c9ab2681243d4b90a2": {
          "model_module": "@jupyter-widgets/base",
          "model_name": "LayoutModel",
          "state": {
            "_view_name": "LayoutView",
            "grid_template_rows": null,
            "right": null,
            "justify_content": null,
            "_view_module": "@jupyter-widgets/base",
            "overflow": null,
            "_model_module_version": "1.2.0",
            "_view_count": null,
            "flex_flow": null,
            "width": null,
            "min_width": null,
            "border": null,
            "align_items": null,
            "bottom": null,
            "_model_module": "@jupyter-widgets/base",
            "top": null,
            "grid_column": null,
            "overflow_y": null,
            "overflow_x": null,
            "grid_auto_flow": null,
            "grid_area": null,
            "grid_template_columns": null,
            "flex": null,
            "_model_name": "LayoutModel",
            "justify_items": null,
            "grid_row": null,
            "max_height": null,
            "align_content": null,
            "visibility": null,
            "align_self": null,
            "height": null,
            "min_height": null,
            "padding": null,
            "grid_auto_rows": null,
            "grid_gap": null,
            "max_width": null,
            "order": null,
            "_view_module_version": "1.2.0",
            "grid_template_areas": null,
            "object_position": null,
            "object_fit": null,
            "grid_auto_columns": null,
            "margin": null,
            "display": null,
            "left": null
          }
        },
        "ac9d4c6ee3164291899c4412d73c770a": {
          "model_module": "@jupyter-widgets/controls",
          "model_name": "HBoxModel",
          "state": {
            "_view_name": "HBoxView",
            "_dom_classes": [],
            "_model_name": "HBoxModel",
            "_view_module": "@jupyter-widgets/controls",
            "_model_module_version": "1.5.0",
            "_view_count": null,
            "_view_module_version": "1.5.0",
            "box_style": "",
            "layout": "IPY_MODEL_7de9a1a564ad41549e8d87373319b3ea",
            "_model_module": "@jupyter-widgets/controls",
            "children": [
              "IPY_MODEL_ca7d4e137bb145a7a2f1f26bfe0d042a",
              "IPY_MODEL_2977cebb74654eaa8bf723ac5248071c"
            ]
          }
        },
        "7de9a1a564ad41549e8d87373319b3ea": {
          "model_module": "@jupyter-widgets/base",
          "model_name": "LayoutModel",
          "state": {
            "_view_name": "LayoutView",
            "grid_template_rows": null,
            "right": null,
            "justify_content": null,
            "_view_module": "@jupyter-widgets/base",
            "overflow": null,
            "_model_module_version": "1.2.0",
            "_view_count": null,
            "flex_flow": null,
            "width": null,
            "min_width": null,
            "border": null,
            "align_items": null,
            "bottom": null,
            "_model_module": "@jupyter-widgets/base",
            "top": null,
            "grid_column": null,
            "overflow_y": null,
            "overflow_x": null,
            "grid_auto_flow": null,
            "grid_area": null,
            "grid_template_columns": null,
            "flex": null,
            "_model_name": "LayoutModel",
            "justify_items": null,
            "grid_row": null,
            "max_height": null,
            "align_content": null,
            "visibility": null,
            "align_self": null,
            "height": null,
            "min_height": null,
            "padding": null,
            "grid_auto_rows": null,
            "grid_gap": null,
            "max_width": null,
            "order": null,
            "_view_module_version": "1.2.0",
            "grid_template_areas": null,
            "object_position": null,
            "object_fit": null,
            "grid_auto_columns": null,
            "margin": null,
            "display": null,
            "left": null
          }
        },
        "ca7d4e137bb145a7a2f1f26bfe0d042a": {
          "model_module": "@jupyter-widgets/controls",
          "model_name": "FloatProgressModel",
          "state": {
            "_view_name": "ProgressView",
            "style": "IPY_MODEL_8edbedb593b84046bbc0ccbbb4beb1e5",
            "_dom_classes": [],
            "description": "",
            "_model_name": "FloatProgressModel",
            "bar_style": "info",
            "max": 1,
            "_view_module": "@jupyter-widgets/controls",
            "_model_module_version": "1.5.0",
            "value": 1,
            "_view_count": null,
            "_view_module_version": "1.5.0",
            "orientation": "horizontal",
            "min": 0,
            "description_tooltip": null,
            "_model_module": "@jupyter-widgets/controls",
            "layout": "IPY_MODEL_415a40e19d554fd2902cf10c3f6a6e8c"
          }
        },
        "2977cebb74654eaa8bf723ac5248071c": {
          "model_module": "@jupyter-widgets/controls",
          "model_name": "HTMLModel",
          "state": {
            "_view_name": "HTMLView",
            "style": "IPY_MODEL_75c648ad786a4bf3b4223a8ed30a83f5",
            "_dom_classes": [],
            "description": "",
            "_model_name": "HTMLModel",
            "placeholder": "​",
            "_view_module": "@jupyter-widgets/controls",
            "_model_module_version": "1.5.0",
            "value": " 1654784/? [00:18&lt;00:00, 525128.58it/s]",
            "_view_count": null,
            "_view_module_version": "1.5.0",
            "description_tooltip": null,
            "_model_module": "@jupyter-widgets/controls",
            "layout": "IPY_MODEL_3ee2ec407a764e2fa006b91edacc8508"
          }
        },
        "8edbedb593b84046bbc0ccbbb4beb1e5": {
          "model_module": "@jupyter-widgets/controls",
          "model_name": "ProgressStyleModel",
          "state": {
            "_view_name": "StyleView",
            "_model_name": "ProgressStyleModel",
            "description_width": "initial",
            "_view_module": "@jupyter-widgets/base",
            "_model_module_version": "1.5.0",
            "_view_count": null,
            "_view_module_version": "1.2.0",
            "bar_color": null,
            "_model_module": "@jupyter-widgets/controls"
          }
        },
        "415a40e19d554fd2902cf10c3f6a6e8c": {
          "model_module": "@jupyter-widgets/base",
          "model_name": "LayoutModel",
          "state": {
            "_view_name": "LayoutView",
            "grid_template_rows": null,
            "right": null,
            "justify_content": null,
            "_view_module": "@jupyter-widgets/base",
            "overflow": null,
            "_model_module_version": "1.2.0",
            "_view_count": null,
            "flex_flow": null,
            "width": null,
            "min_width": null,
            "border": null,
            "align_items": null,
            "bottom": null,
            "_model_module": "@jupyter-widgets/base",
            "top": null,
            "grid_column": null,
            "overflow_y": null,
            "overflow_x": null,
            "grid_auto_flow": null,
            "grid_area": null,
            "grid_template_columns": null,
            "flex": null,
            "_model_name": "LayoutModel",
            "justify_items": null,
            "grid_row": null,
            "max_height": null,
            "align_content": null,
            "visibility": null,
            "align_self": null,
            "height": null,
            "min_height": null,
            "padding": null,
            "grid_auto_rows": null,
            "grid_gap": null,
            "max_width": null,
            "order": null,
            "_view_module_version": "1.2.0",
            "grid_template_areas": null,
            "object_position": null,
            "object_fit": null,
            "grid_auto_columns": null,
            "margin": null,
            "display": null,
            "left": null
          }
        },
        "75c648ad786a4bf3b4223a8ed30a83f5": {
          "model_module": "@jupyter-widgets/controls",
          "model_name": "DescriptionStyleModel",
          "state": {
            "_view_name": "StyleView",
            "_model_name": "DescriptionStyleModel",
            "description_width": "",
            "_view_module": "@jupyter-widgets/base",
            "_model_module_version": "1.5.0",
            "_view_count": null,
            "_view_module_version": "1.2.0",
            "_model_module": "@jupyter-widgets/controls"
          }
        },
        "3ee2ec407a764e2fa006b91edacc8508": {
          "model_module": "@jupyter-widgets/base",
          "model_name": "LayoutModel",
          "state": {
            "_view_name": "LayoutView",
            "grid_template_rows": null,
            "right": null,
            "justify_content": null,
            "_view_module": "@jupyter-widgets/base",
            "overflow": null,
            "_model_module_version": "1.2.0",
            "_view_count": null,
            "flex_flow": null,
            "width": null,
            "min_width": null,
            "border": null,
            "align_items": null,
            "bottom": null,
            "_model_module": "@jupyter-widgets/base",
            "top": null,
            "grid_column": null,
            "overflow_y": null,
            "overflow_x": null,
            "grid_auto_flow": null,
            "grid_area": null,
            "grid_template_columns": null,
            "flex": null,
            "_model_name": "LayoutModel",
            "justify_items": null,
            "grid_row": null,
            "max_height": null,
            "align_content": null,
            "visibility": null,
            "align_self": null,
            "height": null,
            "min_height": null,
            "padding": null,
            "grid_auto_rows": null,
            "grid_gap": null,
            "max_width": null,
            "order": null,
            "_view_module_version": "1.2.0",
            "grid_template_areas": null,
            "object_position": null,
            "object_fit": null,
            "grid_auto_columns": null,
            "margin": null,
            "display": null,
            "left": null
          }
        },
        "5a7eeaa40f49433196a4ec35d0da541a": {
          "model_module": "@jupyter-widgets/controls",
          "model_name": "HBoxModel",
          "state": {
            "_view_name": "HBoxView",
            "_dom_classes": [],
            "_model_name": "HBoxModel",
            "_view_module": "@jupyter-widgets/controls",
            "_model_module_version": "1.5.0",
            "_view_count": null,
            "_view_module_version": "1.5.0",
            "box_style": "",
            "layout": "IPY_MODEL_e079f0a2f18e44b38185915de0318e33",
            "_model_module": "@jupyter-widgets/controls",
            "children": [
              "IPY_MODEL_d0afc26112b248e6816c51fb49e63cf7",
              "IPY_MODEL_b5c1df1a6eff45e396b3bf085519ae22"
            ]
          }
        },
        "e079f0a2f18e44b38185915de0318e33": {
          "model_module": "@jupyter-widgets/base",
          "model_name": "LayoutModel",
          "state": {
            "_view_name": "LayoutView",
            "grid_template_rows": null,
            "right": null,
            "justify_content": null,
            "_view_module": "@jupyter-widgets/base",
            "overflow": null,
            "_model_module_version": "1.2.0",
            "_view_count": null,
            "flex_flow": null,
            "width": null,
            "min_width": null,
            "border": null,
            "align_items": null,
            "bottom": null,
            "_model_module": "@jupyter-widgets/base",
            "top": null,
            "grid_column": null,
            "overflow_y": null,
            "overflow_x": null,
            "grid_auto_flow": null,
            "grid_area": null,
            "grid_template_columns": null,
            "flex": null,
            "_model_name": "LayoutModel",
            "justify_items": null,
            "grid_row": null,
            "max_height": null,
            "align_content": null,
            "visibility": null,
            "align_self": null,
            "height": null,
            "min_height": null,
            "padding": null,
            "grid_auto_rows": null,
            "grid_gap": null,
            "max_width": null,
            "order": null,
            "_view_module_version": "1.2.0",
            "grid_template_areas": null,
            "object_position": null,
            "object_fit": null,
            "grid_auto_columns": null,
            "margin": null,
            "display": null,
            "left": null
          }
        },
        "d0afc26112b248e6816c51fb49e63cf7": {
          "model_module": "@jupyter-widgets/controls",
          "model_name": "FloatProgressModel",
          "state": {
            "_view_name": "ProgressView",
            "style": "IPY_MODEL_f3cfdd7688274f18b823ebda41427902",
            "_dom_classes": [],
            "description": "",
            "_model_name": "FloatProgressModel",
            "bar_style": "success",
            "max": 1,
            "_view_module": "@jupyter-widgets/controls",
            "_model_module_version": "1.5.0",
            "value": 1,
            "_view_count": null,
            "_view_module_version": "1.5.0",
            "orientation": "horizontal",
            "min": 0,
            "description_tooltip": null,
            "_model_module": "@jupyter-widgets/controls",
            "layout": "IPY_MODEL_a5770e4c621144d490fb7e86d84b9d55"
          }
        },
        "b5c1df1a6eff45e396b3bf085519ae22": {
          "model_module": "@jupyter-widgets/controls",
          "model_name": "HTMLModel",
          "state": {
            "_view_name": "HTMLView",
            "style": "IPY_MODEL_b7d7c8da29a44683911e5f342328f1fa",
            "_dom_classes": [],
            "description": "",
            "_model_name": "HTMLModel",
            "placeholder": "​",
            "_view_module": "@jupyter-widgets/controls",
            "_model_module_version": "1.5.0",
            "value": " 8192/? [00:03&lt;00:00, 2090.35it/s]",
            "_view_count": null,
            "_view_module_version": "1.5.0",
            "description_tooltip": null,
            "_model_module": "@jupyter-widgets/controls",
            "layout": "IPY_MODEL_9f1bcea1aafa401885d3fad1522ddabc"
          }
        },
        "f3cfdd7688274f18b823ebda41427902": {
          "model_module": "@jupyter-widgets/controls",
          "model_name": "ProgressStyleModel",
          "state": {
            "_view_name": "StyleView",
            "_model_name": "ProgressStyleModel",
            "description_width": "initial",
            "_view_module": "@jupyter-widgets/base",
            "_model_module_version": "1.5.0",
            "_view_count": null,
            "_view_module_version": "1.2.0",
            "bar_color": null,
            "_model_module": "@jupyter-widgets/controls"
          }
        },
        "a5770e4c621144d490fb7e86d84b9d55": {
          "model_module": "@jupyter-widgets/base",
          "model_name": "LayoutModel",
          "state": {
            "_view_name": "LayoutView",
            "grid_template_rows": null,
            "right": null,
            "justify_content": null,
            "_view_module": "@jupyter-widgets/base",
            "overflow": null,
            "_model_module_version": "1.2.0",
            "_view_count": null,
            "flex_flow": null,
            "width": null,
            "min_width": null,
            "border": null,
            "align_items": null,
            "bottom": null,
            "_model_module": "@jupyter-widgets/base",
            "top": null,
            "grid_column": null,
            "overflow_y": null,
            "overflow_x": null,
            "grid_auto_flow": null,
            "grid_area": null,
            "grid_template_columns": null,
            "flex": null,
            "_model_name": "LayoutModel",
            "justify_items": null,
            "grid_row": null,
            "max_height": null,
            "align_content": null,
            "visibility": null,
            "align_self": null,
            "height": null,
            "min_height": null,
            "padding": null,
            "grid_auto_rows": null,
            "grid_gap": null,
            "max_width": null,
            "order": null,
            "_view_module_version": "1.2.0",
            "grid_template_areas": null,
            "object_position": null,
            "object_fit": null,
            "grid_auto_columns": null,
            "margin": null,
            "display": null,
            "left": null
          }
        },
        "b7d7c8da29a44683911e5f342328f1fa": {
          "model_module": "@jupyter-widgets/controls",
          "model_name": "DescriptionStyleModel",
          "state": {
            "_view_name": "StyleView",
            "_model_name": "DescriptionStyleModel",
            "description_width": "",
            "_view_module": "@jupyter-widgets/base",
            "_model_module_version": "1.5.0",
            "_view_count": null,
            "_view_module_version": "1.2.0",
            "_model_module": "@jupyter-widgets/controls"
          }
        },
        "9f1bcea1aafa401885d3fad1522ddabc": {
          "model_module": "@jupyter-widgets/base",
          "model_name": "LayoutModel",
          "state": {
            "_view_name": "LayoutView",
            "grid_template_rows": null,
            "right": null,
            "justify_content": null,
            "_view_module": "@jupyter-widgets/base",
            "overflow": null,
            "_model_module_version": "1.2.0",
            "_view_count": null,
            "flex_flow": null,
            "width": null,
            "min_width": null,
            "border": null,
            "align_items": null,
            "bottom": null,
            "_model_module": "@jupyter-widgets/base",
            "top": null,
            "grid_column": null,
            "overflow_y": null,
            "overflow_x": null,
            "grid_auto_flow": null,
            "grid_area": null,
            "grid_template_columns": null,
            "flex": null,
            "_model_name": "LayoutModel",
            "justify_items": null,
            "grid_row": null,
            "max_height": null,
            "align_content": null,
            "visibility": null,
            "align_self": null,
            "height": null,
            "min_height": null,
            "padding": null,
            "grid_auto_rows": null,
            "grid_gap": null,
            "max_width": null,
            "order": null,
            "_view_module_version": "1.2.0",
            "grid_template_areas": null,
            "object_position": null,
            "object_fit": null,
            "grid_auto_columns": null,
            "margin": null,
            "display": null,
            "left": null
          }
        }
      }
    }
  },
  "cells": [
    {
      "cell_type": "code",
      "metadata": {
        "id": "CWvpFSTUH9Bv"
      },
      "source": [
        "import numpy as np\r\n",
        "import matplotlib.pyplot as plt\r\n",
        "\r\n",
        "import torch\r\n",
        "import torch.nn as nn\r\n",
        "import torchvision\r\n",
        "import torchvision.transforms as transforms\r\n",
        "from torchvision.utils import save_image\r\n",
        "\r\n",
        "from datetime import datetime\r\n",
        "import os"
      ],
      "execution_count": 1,
      "outputs": []
    },
    {
      "cell_type": "code",
      "metadata": {
        "id": "XRatZl6FIXWW"
      },
      "source": [
        "transform = transforms.Compose([\r\n",
        "                    transforms.ToTensor(), \r\n",
        "                    transforms.Normalize(mean=(0.5,), \r\n",
        "                                         std=(0.5,))])"
      ],
      "execution_count": 2,
      "outputs": []
    },
    {
      "cell_type": "code",
      "metadata": {
        "colab": {
          "base_uri": "https://localhost:8080/",
          "height": 386,
          "referenced_widgets": [
            "0f350d3da7934dfbbe28a58de36aabc0",
            "5cc3916510264c2e8f1fdddb23df92e7",
            "c4364dd8b0964a439b31b4ab28ffc5ce",
            "b294a600761c4ae3a7f997b434f493c3",
            "3df93c1106b14c8799ecd4b8ca980bca",
            "b91d94966c984960a9689d33ab70ffd9",
            "4b79c22c6b04420089080148775e66e0",
            "9de22523821c495b86424a06f39509e8",
            "66cec8dbabb9454ab245e956f3f06cee",
            "76f037ac6bea42e8afb84ebb98dbb92c",
            "fc61cc3646a4425aa0210308ccc48a06",
            "a43e33338b224208b2816237e00c89e6",
            "092354329f2a4daea2054323f10e76e5",
            "f1420898563148a7b36acbaf556f9361",
            "18d40a8e4a7543f28a86c2eed9824aa9",
            "ab70295a405d48c9ab2681243d4b90a2",
            "ac9d4c6ee3164291899c4412d73c770a",
            "7de9a1a564ad41549e8d87373319b3ea",
            "ca7d4e137bb145a7a2f1f26bfe0d042a",
            "2977cebb74654eaa8bf723ac5248071c",
            "8edbedb593b84046bbc0ccbbb4beb1e5",
            "415a40e19d554fd2902cf10c3f6a6e8c",
            "75c648ad786a4bf3b4223a8ed30a83f5",
            "3ee2ec407a764e2fa006b91edacc8508",
            "5a7eeaa40f49433196a4ec35d0da541a",
            "e079f0a2f18e44b38185915de0318e33",
            "d0afc26112b248e6816c51fb49e63cf7",
            "b5c1df1a6eff45e396b3bf085519ae22",
            "f3cfdd7688274f18b823ebda41427902",
            "a5770e4c621144d490fb7e86d84b9d55",
            "b7d7c8da29a44683911e5f342328f1fa",
            "9f1bcea1aafa401885d3fad1522ddabc"
          ]
        },
        "id": "jPNVXiFpJZZF",
        "outputId": "10d3d358-432f-453e-fb64-85af3af31d70"
      },
      "source": [
        "train_dataset = torchvision.datasets.MNIST(root=\".\", \r\n",
        "                                           train=True, \r\n",
        "                                           transform=transform, \r\n",
        "                                           download=True)"
      ],
      "execution_count": 3,
      "outputs": [
        {
          "output_type": "stream",
          "text": [
            "Downloading http://yann.lecun.com/exdb/mnist/train-images-idx3-ubyte.gz to ./MNIST/raw/train-images-idx3-ubyte.gz\n"
          ],
          "name": "stdout"
        },
        {
          "output_type": "display_data",
          "data": {
            "application/vnd.jupyter.widget-view+json": {
              "model_id": "0f350d3da7934dfbbe28a58de36aabc0",
              "version_minor": 0,
              "version_major": 2
            },
            "text/plain": [
              "HBox(children=(FloatProgress(value=1.0, bar_style='info', max=1.0), HTML(value='')))"
            ]
          },
          "metadata": {
            "tags": []
          }
        },
        {
          "output_type": "stream",
          "text": [
            "Extracting ./MNIST/raw/train-images-idx3-ubyte.gz to ./MNIST/raw\n",
            "Downloading http://yann.lecun.com/exdb/mnist/train-labels-idx1-ubyte.gz to ./MNIST/raw/train-labels-idx1-ubyte.gz\n"
          ],
          "name": "stdout"
        },
        {
          "output_type": "display_data",
          "data": {
            "application/vnd.jupyter.widget-view+json": {
              "model_id": "66cec8dbabb9454ab245e956f3f06cee",
              "version_minor": 0,
              "version_major": 2
            },
            "text/plain": [
              "HBox(children=(FloatProgress(value=1.0, bar_style='info', max=1.0), HTML(value='')))"
            ]
          },
          "metadata": {
            "tags": []
          }
        },
        {
          "output_type": "stream",
          "text": [
            "Extracting ./MNIST/raw/train-labels-idx1-ubyte.gz to ./MNIST/raw\n",
            "Downloading http://yann.lecun.com/exdb/mnist/t10k-images-idx3-ubyte.gz to ./MNIST/raw/t10k-images-idx3-ubyte.gz\n",
            "\n"
          ],
          "name": "stdout"
        },
        {
          "output_type": "display_data",
          "data": {
            "application/vnd.jupyter.widget-view+json": {
              "model_id": "ac9d4c6ee3164291899c4412d73c770a",
              "version_minor": 0,
              "version_major": 2
            },
            "text/plain": [
              "HBox(children=(FloatProgress(value=1.0, bar_style='info', max=1.0), HTML(value='')))"
            ]
          },
          "metadata": {
            "tags": []
          }
        },
        {
          "output_type": "stream",
          "text": [
            "Extracting ./MNIST/raw/t10k-images-idx3-ubyte.gz to ./MNIST/raw\n",
            "Downloading http://yann.lecun.com/exdb/mnist/t10k-labels-idx1-ubyte.gz to ./MNIST/raw/t10k-labels-idx1-ubyte.gz\n"
          ],
          "name": "stdout"
        },
        {
          "output_type": "display_data",
          "data": {
            "application/vnd.jupyter.widget-view+json": {
              "model_id": "5a7eeaa40f49433196a4ec35d0da541a",
              "version_minor": 0,
              "version_major": 2
            },
            "text/plain": [
              "HBox(children=(FloatProgress(value=1.0, bar_style='info', max=1.0), HTML(value='')))"
            ]
          },
          "metadata": {
            "tags": []
          }
        },
        {
          "output_type": "stream",
          "text": [
            "Extracting ./MNIST/raw/t10k-labels-idx1-ubyte.gz to ./MNIST/raw\n",
            "Processing...\n",
            "Done!\n"
          ],
          "name": "stdout"
        },
        {
          "output_type": "stream",
          "text": [
            "/usr/local/lib/python3.6/dist-packages/torchvision/datasets/mnist.py:480: UserWarning: The given NumPy array is not writeable, and PyTorch does not support non-writeable tensors. This means you can write to the underlying (supposedly non-writeable) NumPy array using the tensor. You may want to copy the array to protect its data or make it writeable before converting it to a tensor. This type of warning will be suppressed for the rest of this program. (Triggered internally at  /pytorch/torch/csrc/utils/tensor_numpy.cpp:141.)\n",
            "  return torch.from_numpy(parsed.astype(m[2], copy=False)).view(*s)\n"
          ],
          "name": "stderr"
        }
      ]
    },
    {
      "cell_type": "code",
      "metadata": {
        "id": "XuGSXt7yJnAk"
      },
      "source": [
        "batch_size = 128\r\n",
        "train_loader = torch.utils.data.DataLoader(dataset=train_dataset, \r\n",
        "                                           batch_size=batch_size, \r\n",
        "                                           shuffle=True, \r\n",
        "                                           num_workers=8, \r\n",
        "                                           pin_memory=True)"
      ],
      "execution_count": 4,
      "outputs": []
    },
    {
      "cell_type": "code",
      "metadata": {
        "id": "9ny-9froJ2xJ"
      },
      "source": [
        "discriminator = nn.Sequential(\r\n",
        "    nn.Linear(in_features=784, out_features=512), \r\n",
        "    nn.LeakyReLU(negative_slope=0.2), \r\n",
        "    nn.Linear(in_features=512, out_features=256), \r\n",
        "    nn.LeakyReLU(negative_slope=0.2), \r\n",
        "    nn.Linear(in_features=256, out_features=1)\r\n",
        "    # nn.Sigmoid()\r\n",
        ")"
      ],
      "execution_count": 19,
      "outputs": []
    },
    {
      "cell_type": "code",
      "metadata": {
        "id": "S94GT0sdJ5Cf"
      },
      "source": [
        "latent_dim = 100\r\n",
        "generator = nn.Sequential(\r\n",
        "    nn.Linear(in_features=latent_dim, out_features=256), \r\n",
        "    nn.LeakyReLU(negative_slope=0.2), \r\n",
        "    nn.BatchNorm1d(num_features=256, momentum=0.7), \r\n",
        "    nn.Linear(in_features=256, out_features=512), \r\n",
        "    nn.LeakyReLU(negative_slope=0.2), \r\n",
        "    nn.BatchNorm1d(num_features=512, momentum=0.7), \r\n",
        "    nn.Linear(in_features=512, out_features=1024), \r\n",
        "    nn.LeakyReLU(negative_slope=0.2), \r\n",
        "    nn.BatchNorm1d(num_features=1024, momentum=0.7), \r\n",
        "    nn.Linear(in_features=1024, out_features=784), \r\n",
        "    nn.Tanh()\r\n",
        ")"
      ],
      "execution_count": 20,
      "outputs": []
    },
    {
      "cell_type": "code",
      "metadata": {
        "id": "OpxfrXdFL7lz"
      },
      "source": [
        "device = torch.device(\"cuda:0\" if torch.cuda.is_available() else \"cpu\")\r\n",
        "generator = generator.to(device)\r\n",
        "discriminator = discriminator.to(device)"
      ],
      "execution_count": 21,
      "outputs": []
    },
    {
      "cell_type": "code",
      "metadata": {
        "id": "s2eITc7WMN90"
      },
      "source": [
        "criterion = nn.BCEWithLogitsLoss()\r\n",
        "d_optimizer = torch.optim.Adam(params=discriminator.parameters(), lr=0.0002, betas=(0.5, 0.999))\r\n",
        "g_optimizer = torch.optim.Adam(params=generator.parameters(), lr=0.0002, betas=(0.5, 0.999))"
      ],
      "execution_count": 22,
      "outputs": []
    },
    {
      "cell_type": "code",
      "metadata": {
        "id": "tSn14bnrMqmL"
      },
      "source": [
        "def scale_image(img):\r\n",
        "    return (img + 1) / 2"
      ],
      "execution_count": 23,
      "outputs": []
    },
    {
      "cell_type": "code",
      "metadata": {
        "id": "yAX45IUkM4Y8"
      },
      "source": [
        "if not os.path.exists(path=\"gan_images\"):\r\n",
        "    os.makedirs(name=\"gan_images\")"
      ],
      "execution_count": 24,
      "outputs": []
    },
    {
      "cell_type": "code",
      "metadata": {
        "colab": {
          "base_uri": "https://localhost:8080/"
        },
        "id": "uaTJfySbNBjB",
        "outputId": "43da37a8-d7da-460f-950f-69bc22853815"
      },
      "source": [
        "zeros_ = torch.zeros(batch_size, 1).to(device)\r\n",
        "ones_ = torch.ones(batch_size, 1).to(device)\r\n",
        "\r\n",
        "d_losses = []\r\n",
        "g_losses = []\r\n",
        "\r\n",
        "for epoch in range(200):\r\n",
        "    for inputs, _ in train_loader:\r\n",
        "\r\n",
        "        n = inputs.size(0)\r\n",
        "        inputs = inputs.reshape(n, 784).to(device)       \r\n",
        "\r\n",
        "        zeros = zeros_[:n]\r\n",
        "        ones = ones_[:n]\r\n",
        "\r\n",
        "        real_outputs = discriminator(inputs)\r\n",
        "        d_loss_real = criterion(real_outputs, ones)\r\n",
        "\r\n",
        "        noise = torch.randn(n, latent_dim, device=device)\r\n",
        "        fake_images = generator(noise)\r\n",
        "        fake_outputs = discriminator(fake_images)\r\n",
        "        d_loss_fake = criterion(fake_outputs, zeros)\r\n",
        "\r\n",
        "        d_loss = (d_loss_real + d_loss_fake) * 0.5\r\n",
        "\r\n",
        "        for param in discriminator.parameters():\r\n",
        "            param.grad = None\r\n",
        "        for param in generator.parameters():\r\n",
        "            param.grad = None\r\n",
        "        # g_optimizer.zero_grad()\r\n",
        "        # d_optimizer.zero_grad()\r\n",
        "\r\n",
        "        d_loss.backward()\r\n",
        "        d_optimizer.step()\r\n",
        "\r\n",
        "\r\n",
        "        ## Train Generator\r\n",
        "        for _ in range(2):\r\n",
        "            noise = torch.randn(n, latent_dim, device=device)\r\n",
        "            fake_images = generator(noise)\r\n",
        "            fake_outputs = discriminator(fake_images)\r\n",
        "\r\n",
        "            g_loss = criterion(fake_outputs, ones)\r\n",
        "\r\n",
        "            for param in discriminator.parameters():\r\n",
        "                param.grad = None\r\n",
        "            for param in generator.parameters():\r\n",
        "                param.grad = None\r\n",
        "            # d_optimizer.zero_grad()\r\n",
        "            # g_optimizer.zero_grad()\r\n",
        "\r\n",
        "            g_loss.backward()\r\n",
        "            g_optimizer.step()\r\n",
        "\r\n",
        "        d_losses.append(d_loss.detach())\r\n",
        "        g_losses.append(g_loss.detach())\r\n",
        "\r\n",
        "    print(f\"Epoch {epoch + 1}, d_loss: {d_loss.detach():.4f}, g_loss: {g_loss.detach():.4f}\")\r\n",
        "\r\n",
        "    fake_images = fake_images.reshape(-1, 1, 28, 28)\r\n",
        "    save_image(tensor=fake_images, fp=f\"gan_images/{epoch + 1}.png\")"
      ],
      "execution_count": 27,
      "outputs": [
        {
          "output_type": "stream",
          "text": [
            "Epoch 1, d_loss: 0.6858, g_loss: 0.6787\n",
            "Epoch 2, d_loss: 0.6997, g_loss: 0.6871\n",
            "Epoch 3, d_loss: 0.6647, g_loss: 0.7685\n",
            "Epoch 4, d_loss: 0.6895, g_loss: 0.7398\n",
            "Epoch 5, d_loss: 0.6758, g_loss: 0.7248\n",
            "Epoch 6, d_loss: 0.6871, g_loss: 0.7083\n",
            "Epoch 7, d_loss: 0.6921, g_loss: 0.7100\n",
            "Epoch 8, d_loss: 0.6904, g_loss: 0.6966\n",
            "Epoch 9, d_loss: 0.6854, g_loss: 0.7160\n",
            "Epoch 10, d_loss: 0.6836, g_loss: 0.7070\n",
            "Epoch 11, d_loss: 0.6755, g_loss: 0.7067\n",
            "Epoch 12, d_loss: 0.6846, g_loss: 0.7176\n",
            "Epoch 13, d_loss: 0.6912, g_loss: 0.7129\n",
            "Epoch 14, d_loss: 0.6880, g_loss: 0.7352\n",
            "Epoch 15, d_loss: 0.6855, g_loss: 0.7165\n",
            "Epoch 16, d_loss: 0.6781, g_loss: 0.7673\n",
            "Epoch 17, d_loss: 0.6873, g_loss: 0.7359\n",
            "Epoch 18, d_loss: 0.6953, g_loss: 0.7035\n",
            "Epoch 19, d_loss: 0.6820, g_loss: 0.7417\n",
            "Epoch 20, d_loss: 0.6860, g_loss: 0.7255\n",
            "Epoch 21, d_loss: 0.6743, g_loss: 0.7297\n",
            "Epoch 22, d_loss: 0.6863, g_loss: 0.7509\n",
            "Epoch 23, d_loss: 0.6840, g_loss: 0.7167\n",
            "Epoch 24, d_loss: 0.6730, g_loss: 0.7276\n",
            "Epoch 25, d_loss: 0.6903, g_loss: 0.7223\n",
            "Epoch 26, d_loss: 0.6878, g_loss: 0.7368\n",
            "Epoch 27, d_loss: 0.6739, g_loss: 0.7437\n",
            "Epoch 28, d_loss: 0.6931, g_loss: 0.7312\n",
            "Epoch 29, d_loss: 0.6937, g_loss: 0.7425\n",
            "Epoch 30, d_loss: 0.6939, g_loss: 0.6739\n",
            "Epoch 31, d_loss: 0.6732, g_loss: 0.6748\n",
            "Epoch 32, d_loss: 0.6809, g_loss: 0.7192\n",
            "Epoch 33, d_loss: 0.6869, g_loss: 0.7125\n",
            "Epoch 34, d_loss: 0.6807, g_loss: 0.7292\n",
            "Epoch 35, d_loss: 0.6628, g_loss: 0.7212\n",
            "Epoch 36, d_loss: 0.6623, g_loss: 0.8155\n",
            "Epoch 37, d_loss: 0.6825, g_loss: 0.7343\n",
            "Epoch 38, d_loss: 0.6761, g_loss: 0.7802\n",
            "Epoch 39, d_loss: 0.6787, g_loss: 0.6705\n",
            "Epoch 40, d_loss: 0.6631, g_loss: 0.7078\n",
            "Epoch 41, d_loss: 0.6602, g_loss: 0.7563\n",
            "Epoch 42, d_loss: 0.6836, g_loss: 0.8139\n",
            "Epoch 43, d_loss: 0.6838, g_loss: 0.7085\n",
            "Epoch 44, d_loss: 0.6653, g_loss: 0.7537\n",
            "Epoch 45, d_loss: 0.6676, g_loss: 0.6886\n",
            "Epoch 46, d_loss: 0.6618, g_loss: 0.7413\n",
            "Epoch 47, d_loss: 0.6770, g_loss: 0.7754\n",
            "Epoch 48, d_loss: 0.6830, g_loss: 0.7999\n",
            "Epoch 49, d_loss: 0.6665, g_loss: 0.6764\n",
            "Epoch 50, d_loss: 0.6589, g_loss: 0.8115\n",
            "Epoch 51, d_loss: 0.6764, g_loss: 0.9229\n",
            "Epoch 52, d_loss: 0.6734, g_loss: 0.7367\n",
            "Epoch 53, d_loss: 0.6742, g_loss: 0.8573\n",
            "Epoch 54, d_loss: 0.6668, g_loss: 0.6369\n",
            "Epoch 55, d_loss: 0.6568, g_loss: 0.6362\n",
            "Epoch 56, d_loss: 0.6416, g_loss: 0.8677\n",
            "Epoch 57, d_loss: 0.6592, g_loss: 0.7041\n",
            "Epoch 58, d_loss: 0.6526, g_loss: 0.7223\n",
            "Epoch 59, d_loss: 0.6181, g_loss: 0.7711\n",
            "Epoch 60, d_loss: 0.6378, g_loss: 0.8551\n",
            "Epoch 61, d_loss: 0.6731, g_loss: 0.6878\n",
            "Epoch 62, d_loss: 0.6501, g_loss: 0.8043\n",
            "Epoch 63, d_loss: 0.6513, g_loss: 0.8778\n",
            "Epoch 64, d_loss: 0.6386, g_loss: 0.8434\n",
            "Epoch 65, d_loss: 0.6386, g_loss: 0.7964\n",
            "Epoch 66, d_loss: 0.6411, g_loss: 0.8746\n",
            "Epoch 67, d_loss: 0.6384, g_loss: 0.7966\n",
            "Epoch 68, d_loss: 0.6321, g_loss: 0.8740\n",
            "Epoch 69, d_loss: 0.6194, g_loss: 0.8905\n",
            "Epoch 70, d_loss: 0.6217, g_loss: 0.8920\n",
            "Epoch 71, d_loss: 0.6406, g_loss: 0.9500\n",
            "Epoch 72, d_loss: 0.6343, g_loss: 0.7492\n",
            "Epoch 73, d_loss: 0.6364, g_loss: 0.8044\n",
            "Epoch 74, d_loss: 0.6505, g_loss: 0.9208\n",
            "Epoch 75, d_loss: 0.6369, g_loss: 0.9295\n",
            "Epoch 76, d_loss: 0.6634, g_loss: 0.6835\n",
            "Epoch 77, d_loss: 0.6546, g_loss: 0.7269\n",
            "Epoch 78, d_loss: 0.6398, g_loss: 1.0082\n",
            "Epoch 79, d_loss: 0.6283, g_loss: 0.8149\n",
            "Epoch 80, d_loss: 0.6661, g_loss: 0.7321\n",
            "Epoch 81, d_loss: 0.6071, g_loss: 0.9164\n",
            "Epoch 82, d_loss: 0.6494, g_loss: 0.9204\n",
            "Epoch 83, d_loss: 0.7019, g_loss: 0.5935\n",
            "Epoch 84, d_loss: 0.6168, g_loss: 0.6370\n",
            "Epoch 85, d_loss: 0.6532, g_loss: 0.7579\n",
            "Epoch 86, d_loss: 0.6880, g_loss: 0.8707\n",
            "Epoch 87, d_loss: 0.6113, g_loss: 0.7042\n",
            "Epoch 88, d_loss: 0.6330, g_loss: 0.8084\n",
            "Epoch 89, d_loss: 0.6253, g_loss: 0.8965\n",
            "Epoch 90, d_loss: 0.6018, g_loss: 0.9707\n",
            "Epoch 91, d_loss: 0.6495, g_loss: 0.9834\n",
            "Epoch 92, d_loss: 0.6420, g_loss: 0.7372\n",
            "Epoch 93, d_loss: 0.6224, g_loss: 1.0277\n",
            "Epoch 94, d_loss: 0.6109, g_loss: 0.8345\n",
            "Epoch 95, d_loss: 0.6473, g_loss: 0.7081\n",
            "Epoch 96, d_loss: 0.6552, g_loss: 0.8030\n",
            "Epoch 97, d_loss: 0.6102, g_loss: 0.9963\n",
            "Epoch 98, d_loss: 0.5793, g_loss: 0.9646\n",
            "Epoch 99, d_loss: 0.6271, g_loss: 0.9069\n",
            "Epoch 100, d_loss: 0.6085, g_loss: 0.8524\n",
            "Epoch 101, d_loss: 0.6477, g_loss: 0.8835\n",
            "Epoch 102, d_loss: 0.6473, g_loss: 0.6531\n",
            "Epoch 103, d_loss: 0.5901, g_loss: 0.8616\n",
            "Epoch 104, d_loss: 0.6119, g_loss: 0.8339\n",
            "Epoch 105, d_loss: 0.6308, g_loss: 0.8400\n",
            "Epoch 106, d_loss: 0.6246, g_loss: 0.8297\n",
            "Epoch 107, d_loss: 0.6615, g_loss: 0.6832\n",
            "Epoch 108, d_loss: 0.6245, g_loss: 0.9820\n",
            "Epoch 109, d_loss: 0.5984, g_loss: 1.0915\n",
            "Epoch 110, d_loss: 0.6069, g_loss: 0.9751\n",
            "Epoch 111, d_loss: 0.6096, g_loss: 0.7367\n",
            "Epoch 112, d_loss: 0.6172, g_loss: 1.0633\n",
            "Epoch 113, d_loss: 0.6277, g_loss: 0.8021\n",
            "Epoch 114, d_loss: 0.6756, g_loss: 0.5428\n",
            "Epoch 115, d_loss: 0.6013, g_loss: 0.9520\n",
            "Epoch 116, d_loss: 0.6942, g_loss: 0.4697\n",
            "Epoch 117, d_loss: 0.6294, g_loss: 0.9422\n",
            "Epoch 118, d_loss: 0.6247, g_loss: 0.9411\n",
            "Epoch 119, d_loss: 0.6465, g_loss: 0.6788\n",
            "Epoch 120, d_loss: 0.6096, g_loss: 1.0126\n",
            "Epoch 121, d_loss: 0.6565, g_loss: 1.1474\n",
            "Epoch 122, d_loss: 0.6074, g_loss: 0.7889\n",
            "Epoch 123, d_loss: 0.5884, g_loss: 1.0506\n",
            "Epoch 124, d_loss: 0.6225, g_loss: 1.0418\n",
            "Epoch 125, d_loss: 0.6090, g_loss: 1.2714\n",
            "Epoch 126, d_loss: 0.5938, g_loss: 0.8824\n",
            "Epoch 127, d_loss: 0.6023, g_loss: 0.7555\n",
            "Epoch 128, d_loss: 0.6069, g_loss: 0.8891\n",
            "Epoch 129, d_loss: 0.5732, g_loss: 0.9356\n",
            "Epoch 130, d_loss: 0.6385, g_loss: 0.7646\n",
            "Epoch 131, d_loss: 0.5963, g_loss: 0.9632\n",
            "Epoch 132, d_loss: 0.6026, g_loss: 0.7680\n",
            "Epoch 133, d_loss: 0.6026, g_loss: 0.8767\n",
            "Epoch 134, d_loss: 0.6096, g_loss: 1.0297\n",
            "Epoch 135, d_loss: 0.5997, g_loss: 0.9702\n",
            "Epoch 136, d_loss: 0.6119, g_loss: 1.3158\n",
            "Epoch 137, d_loss: 0.6441, g_loss: 0.6993\n",
            "Epoch 138, d_loss: 0.5822, g_loss: 0.7849\n",
            "Epoch 139, d_loss: 0.6231, g_loss: 1.0650\n",
            "Epoch 140, d_loss: 0.6306, g_loss: 0.9974\n",
            "Epoch 141, d_loss: 0.5937, g_loss: 1.0564\n",
            "Epoch 142, d_loss: 0.5931, g_loss: 1.2412\n",
            "Epoch 143, d_loss: 0.5869, g_loss: 0.8571\n",
            "Epoch 144, d_loss: 0.6213, g_loss: 1.2282\n",
            "Epoch 145, d_loss: 0.5812, g_loss: 1.1858\n",
            "Epoch 146, d_loss: 0.6212, g_loss: 0.7719\n",
            "Epoch 147, d_loss: 0.6288, g_loss: 0.6585\n",
            "Epoch 148, d_loss: 0.6191, g_loss: 1.4276\n",
            "Epoch 149, d_loss: 0.5779, g_loss: 0.8507\n",
            "Epoch 150, d_loss: 0.5756, g_loss: 0.8622\n",
            "Epoch 151, d_loss: 0.6083, g_loss: 1.1166\n",
            "Epoch 152, d_loss: 0.5622, g_loss: 0.9022\n",
            "Epoch 153, d_loss: 0.6054, g_loss: 1.1598\n",
            "Epoch 154, d_loss: 0.5978, g_loss: 0.7615\n",
            "Epoch 155, d_loss: 0.5715, g_loss: 0.8686\n",
            "Epoch 156, d_loss: 0.5701, g_loss: 1.0556\n",
            "Epoch 157, d_loss: 0.5966, g_loss: 1.0174\n",
            "Epoch 158, d_loss: 0.5613, g_loss: 1.1818\n",
            "Epoch 159, d_loss: 0.6237, g_loss: 0.8516\n",
            "Epoch 160, d_loss: 0.5737, g_loss: 1.1481\n",
            "Epoch 161, d_loss: 0.5878, g_loss: 1.0353\n",
            "Epoch 162, d_loss: 0.5898, g_loss: 0.8642\n",
            "Epoch 163, d_loss: 0.6486, g_loss: 1.3943\n",
            "Epoch 164, d_loss: 0.5682, g_loss: 1.0702\n",
            "Epoch 165, d_loss: 0.6156, g_loss: 1.1424\n",
            "Epoch 166, d_loss: 0.5754, g_loss: 0.9243\n",
            "Epoch 167, d_loss: 0.5617, g_loss: 1.0138\n",
            "Epoch 168, d_loss: 0.5786, g_loss: 0.7160\n",
            "Epoch 169, d_loss: 0.6269, g_loss: 0.7611\n",
            "Epoch 170, d_loss: 0.5983, g_loss: 1.2388\n",
            "Epoch 171, d_loss: 0.5813, g_loss: 1.0060\n",
            "Epoch 172, d_loss: 0.5750, g_loss: 0.7511\n",
            "Epoch 173, d_loss: 0.6856, g_loss: 0.4356\n",
            "Epoch 174, d_loss: 0.5463, g_loss: 0.7479\n",
            "Epoch 175, d_loss: 0.5365, g_loss: 1.2884\n",
            "Epoch 176, d_loss: 0.6456, g_loss: 1.5550\n",
            "Epoch 177, d_loss: 0.5798, g_loss: 0.7915\n",
            "Epoch 178, d_loss: 0.6358, g_loss: 1.2764\n",
            "Epoch 179, d_loss: 0.5790, g_loss: 1.4346\n",
            "Epoch 180, d_loss: 0.6267, g_loss: 0.7640\n",
            "Epoch 181, d_loss: 0.6168, g_loss: 1.1448\n",
            "Epoch 182, d_loss: 0.5528, g_loss: 0.9045\n",
            "Epoch 183, d_loss: 0.5490, g_loss: 0.9231\n",
            "Epoch 184, d_loss: 0.7531, g_loss: 1.5090\n",
            "Epoch 185, d_loss: 0.5506, g_loss: 0.9347\n",
            "Epoch 186, d_loss: 0.5170, g_loss: 1.0229\n",
            "Epoch 187, d_loss: 0.5788, g_loss: 1.2694\n",
            "Epoch 188, d_loss: 0.5816, g_loss: 1.0605\n",
            "Epoch 189, d_loss: 0.5872, g_loss: 1.2169\n",
            "Epoch 190, d_loss: 0.6230, g_loss: 1.3225\n",
            "Epoch 191, d_loss: 0.6176, g_loss: 1.2868\n",
            "Epoch 192, d_loss: 0.5874, g_loss: 1.2270\n",
            "Epoch 193, d_loss: 0.5738, g_loss: 1.3491\n",
            "Epoch 194, d_loss: 0.5487, g_loss: 1.1489\n",
            "Epoch 195, d_loss: 0.5838, g_loss: 1.1892\n",
            "Epoch 196, d_loss: 0.5450, g_loss: 1.1716\n",
            "Epoch 197, d_loss: 0.5332, g_loss: 1.1047\n",
            "Epoch 198, d_loss: 0.5723, g_loss: 0.8077\n",
            "Epoch 199, d_loss: 0.5518, g_loss: 1.1130\n",
            "Epoch 200, d_loss: 0.5502, g_loss: 1.2495\n"
          ],
          "name": "stdout"
        }
      ]
    },
    {
      "cell_type": "code",
      "metadata": {
        "id": "-QgNV9DzR6Zz",
        "colab": {
          "base_uri": "https://localhost:8080/",
          "height": 265
        },
        "outputId": "6020fab2-719d-4c93-ae9c-7b9befcfb3e3"
      },
      "source": [
        "plt.plot(g_losses, label=\"g_losses\")\r\n",
        "plt.plot(d_losses, label=\"d_losses\")\r\n",
        "plt.legend()\r\n",
        "plt.show()"
      ],
      "execution_count": 28,
      "outputs": [
        {
          "output_type": "display_data",
          "data": {
            "image/png": "[encoded data removed]",
            "text/plain": [
              "<Figure size 432x288 with 1 Axes>"
            ]
          },
          "metadata": {
            "tags": [],
            "needs_background": "light"
          }
        }
      ]
    },
    {
      "cell_type": "code",
      "metadata": {
        "colab": {
          "base_uri": "https://localhost:8080/",
          "height": 269
        },
        "id": "yospR5K57JnM",
        "outputId": "53dece43-f1a9-4721-8522-1f2839cd9009"
      },
      "source": [
        "from skimage.io import imread\r\n",
        "a = imread(\"gan_images/1.png\")\r\n",
        "plt.imshow(a)\r\n",
        "plt.show()"
      ],
      "execution_count": 34,
      "outputs": [
        {
          "output_type": "display_data",
          "data": {
            "image/png": "[encoded data removed]",
            "text/plain": [
              "<Figure size 432x288 with 1 Axes>"
            ]
          },
          "metadata": {
            "tags": [],
            "needs_background": "light"
          }
        }
      ]
    },
    {
      "cell_type": "code",
      "metadata": {
        "colab": {
          "base_uri": "https://localhost:8080/",
          "height": 269
        },
        "id": "WBNkm6C27Y8u",
        "outputId": "98b61bc5-ebbc-4ace-9f31-5dcb17e324ac"
      },
      "source": [
        "a = imread(\"gan_images/50.png\")\r\n",
        "plt.imshow(a)\r\n",
        "plt.show()"
      ],
      "execution_count": 35,
      "outputs": [
        {
          "output_type": "display_data",
          "data": {
            "image/png": "[encoded data removed]",
            "text/plain": [
              "<Figure size 432x288 with 1 Axes>"
            ]
          },
          "metadata": {
            "tags": [],
            "needs_background": "light"
          }
        }
      ]
    },
    {
      "cell_type": "code",
      "metadata": {
        "colab": {
          "base_uri": "https://localhost:8080/",
          "height": 269
        },
        "id": "ERLXCobK7gxL",
        "outputId": "492f6070-8320-45ba-c718-630ec9b7d7f6"
      },
      "source": [
        "a = imread(\"gan_images/100.png\")\r\n",
        "plt.imshow(a)\r\n",
        "plt.show()"
      ],
      "execution_count": 36,
      "outputs": [
        {
          "output_type": "display_data",
          "data": {
            "image/png": "[encoded data removed]",
            "text/plain": [
              "<Figure size 432x288 with 1 Axes>"
            ]
          },
          "metadata": {
            "tags": [],
            "needs_background": "light"
          }
        }
      ]
    },
    {
      "cell_type": "code",
      "metadata": {
        "colab": {
          "base_uri": "https://localhost:8080/",
          "height": 269
        },
        "id": "GFsUgwYz7kKf",
        "outputId": "c1c3e7d8-6a9a-4e65-8251-d8b4974232ab"
      },
      "source": [
        "a = imread(\"gan_images/150.png\")\r\n",
        "plt.imshow(a)\r\n",
        "plt.show()"
      ],
      "execution_count": 37,
      "outputs": [
        {
          "output_type": "display_data",
          "data": {
            "image/png": "[encoded data removed]",
            "text/plain": [
              "<Figure size 432x288 with 1 Axes>"
            ]
          },
          "metadata": {
            "tags": [],
            "needs_background": "light"
          }
        }
      ]
    },
    {
      "cell_type": "code",
      "metadata": {
        "colab": {
          "base_uri": "https://localhost:8080/",
          "height": 269
        },
        "id": "tHD2qXcf7oJd",
        "outputId": "5ab0fc81-d959-4b45-dcda-72b2af322bfd"
      },
      "source": [
        "a = imread(\"gan_images/200.png\")\r\n",
        "plt.imshow(a)\r\n",
        "plt.show()"
      ],
      "execution_count": 38,
      "outputs": [
        {
          "output_type": "display_data",
          "data": {
            "image/png": "[encoded data removed]",
            "text/plain": [
              "<Figure size 432x288 with 1 Axes>"
            ]
          },
          "metadata": {
            "tags": [],
            "needs_background": "light"
          }
        }
      ]
    },
    {
      "cell_type": "code",
      "metadata": {
        "id": "NezOquGb7rDx"
      },
      "source": [
        ""
      ],
      "execution_count": null,
      "outputs": []
    }
  ]
}