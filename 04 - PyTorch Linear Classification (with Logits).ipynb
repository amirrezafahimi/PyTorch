{
 "cells": [
  {
   "cell_type": "code",
   "execution_count": 1,
   "metadata": {},
   "outputs": [],
   "source": [
    "import numpy as np\n",
    "import matplotlib.pyplot as plt\n",
    "\n",
    "import torch\n",
    "import torch.nn as nn\n",
    "\n",
    "from sklearn.datasets import load_breast_cancer\n",
    "from sklearn.model_selection import train_test_split\n",
    "from sklearn.preprocessing import StandardScaler"
   ]
  },
  {
   "cell_type": "code",
   "execution_count": 25,
   "metadata": {},
   "outputs": [],
   "source": [
    "data = load_breast_cancer()"
   ]
  },
  {
   "cell_type": "code",
   "execution_count": 26,
   "metadata": {
    "scrolled": false
   },
   "outputs": [
    {
     "name": "stdout",
     "output_type": "stream",
     "text": [
      ".. _breast_cancer_dataset:\n",
      "\n",
      "Breast cancer wisconsin (diagnostic) dataset\n",
      "--------------------------------------------\n",
      "\n",
      "**Data Set Characteristics:**\n",
      "\n",
      "    :Number of Instances: 569\n",
      "\n",
      "    :Number of Attributes: 30 numeric, predictive attributes and the class\n",
      "\n",
      "    :Attribute Information:\n",
      "        - radius (mean of distances from center to points on the perimeter)\n",
      "        - texture (standard deviation of gray-scale values)\n",
      "        - perimeter\n",
      "        - area\n",
      "        - smoothness (local variation in radius lengths)\n",
      "        - compactness (perimeter^2 / area - 1.0)\n",
      "        - concavity (severity of concave portions of the contour)\n",
      "        - concave points (number of concave portions of the contour)\n",
      "        - symmetry\n",
      "        - fractal dimension (\"coastline approximation\" - 1)\n",
      "\n",
      "        The mean, standard error, and \"worst\" or largest (mean of the three\n",
      "        worst/largest values) of these features were computed for each image,\n",
      "        resulting in 30 features.  For instance, field 0 is Mean Radius, field\n",
      "        10 is Radius SE, field 20 is Worst Radius.\n",
      "\n",
      "        - class:\n",
      "                - WDBC-Malignant\n",
      "                - WDBC-Benign\n",
      "\n",
      "    :Summary Statistics:\n",
      "\n",
      "    ===================================== ====== ======\n",
      "                                           Min    Max\n",
      "    ===================================== ====== ======\n",
      "    radius (mean):                        6.981  28.11\n",
      "    texture (mean):                       9.71   39.28\n",
      "    perimeter (mean):                     43.79  188.5\n",
      "    area (mean):                          143.5  2501.0\n",
      "    smoothness (mean):                    0.053  0.163\n",
      "    compactness (mean):                   0.019  0.345\n",
      "    concavity (mean):                     0.0    0.427\n",
      "    concave points (mean):                0.0    0.201\n",
      "    symmetry (mean):                      0.106  0.304\n",
      "    fractal dimension (mean):             0.05   0.097\n",
      "    radius (standard error):              0.112  2.873\n",
      "    texture (standard error):             0.36   4.885\n",
      "    perimeter (standard error):           0.757  21.98\n",
      "    area (standard error):                6.802  542.2\n",
      "    smoothness (standard error):          0.002  0.031\n",
      "    compactness (standard error):         0.002  0.135\n",
      "    concavity (standard error):           0.0    0.396\n",
      "    concave points (standard error):      0.0    0.053\n",
      "    symmetry (standard error):            0.008  0.079\n",
      "    fractal dimension (standard error):   0.001  0.03\n",
      "    radius (worst):                       7.93   36.04\n",
      "    texture (worst):                      12.02  49.54\n",
      "    perimeter (worst):                    50.41  251.2\n",
      "    area (worst):                         185.2  4254.0\n",
      "    smoothness (worst):                   0.071  0.223\n",
      "    compactness (worst):                  0.027  1.058\n",
      "    concavity (worst):                    0.0    1.252\n",
      "    concave points (worst):               0.0    0.291\n",
      "    symmetry (worst):                     0.156  0.664\n",
      "    fractal dimension (worst):            0.055  0.208\n",
      "    ===================================== ====== ======\n",
      "\n",
      "    :Missing Attribute Values: None\n",
      "\n",
      "    :Class Distribution: 212 - Malignant, 357 - Benign\n",
      "\n",
      "    :Creator:  Dr. William H. Wolberg, W. Nick Street, Olvi L. Mangasarian\n",
      "\n",
      "    :Donor: Nick Street\n",
      "\n",
      "    :Date: November, 1995\n",
      "\n",
      "This is a copy of UCI ML Breast Cancer Wisconsin (Diagnostic) datasets.\n",
      "https://goo.gl/U2Uwz2\n",
      "\n",
      "Features are computed from a digitized image of a fine needle\n",
      "aspirate (FNA) of a breast mass.  They describe\n",
      "characteristics of the cell nuclei present in the image.\n",
      "\n",
      "Separating plane described above was obtained using\n",
      "Multisurface Method-Tree (MSM-T) [K. P. Bennett, \"Decision Tree\n",
      "Construction Via Linear Programming.\" Proceedings of the 4th\n",
      "Midwest Artificial Intelligence and Cognitive Science Society,\n",
      "pp. 97-101, 1992], a classification method which uses linear\n",
      "programming to construct a decision tree.  Relevant features\n",
      "were selected using an exhaustive search in the space of 1-4\n",
      "features and 1-3 separating planes.\n",
      "\n",
      "The actual linear program used to obtain the separating plane\n",
      "in the 3-dimensional space is that described in:\n",
      "[K. P. Bennett and O. L. Mangasarian: \"Robust Linear\n",
      "Programming Discrimination of Two Linearly Inseparable Sets\",\n",
      "Optimization Methods and Software 1, 1992, 23-34].\n",
      "\n",
      "This database is also available through the UW CS ftp server:\n",
      "\n",
      "ftp ftp.cs.wisc.edu\n",
      "cd math-prog/cpo-dataset/machine-learn/WDBC/\n",
      "\n",
      ".. topic:: References\n",
      "\n",
      "   - W.N. Street, W.H. Wolberg and O.L. Mangasarian. Nuclear feature extraction \n",
      "     for breast tumor diagnosis. IS&T/SPIE 1993 International Symposium on \n",
      "     Electronic Imaging: Science and Technology, volume 1905, pages 861-870,\n",
      "     San Jose, CA, 1993.\n",
      "   - O.L. Mangasarian, W.N. Street and W.H. Wolberg. Breast cancer diagnosis and \n",
      "     prognosis via linear programming. Operations Research, 43(4), pages 570-577, \n",
      "     July-August 1995.\n",
      "   - W.H. Wolberg, W.N. Street, and O.L. Mangasarian. Machine learning techniques\n",
      "     to diagnose breast cancer from fine-needle aspirates. Cancer Letters 77 (1994) \n",
      "     163-171.\n"
     ]
    }
   ],
   "source": [
    "print(data.DESCR)"
   ]
  },
  {
   "cell_type": "code",
   "execution_count": 27,
   "metadata": {},
   "outputs": [],
   "source": [
    "X, y = data.data, data.target"
   ]
  },
  {
   "cell_type": "code",
   "execution_count": 28,
   "metadata": {},
   "outputs": [
    {
     "data": {
      "text/plain": [
       "((569, 30), (569,))"
      ]
     },
     "execution_count": 28,
     "metadata": {},
     "output_type": "execute_result"
    }
   ],
   "source": [
    "X.shape, y.shape"
   ]
  },
  {
   "cell_type": "code",
   "execution_count": 29,
   "metadata": {},
   "outputs": [],
   "source": [
    "X_train, X_test, y_train, y_test = train_test_split(X, y, test_size=0.2, random_state=42)"
   ]
  },
  {
   "cell_type": "code",
   "execution_count": 30,
   "metadata": {},
   "outputs": [
    {
     "data": {
      "text/plain": [
       "((455, 30), (455,), (114, 30), (114,))"
      ]
     },
     "execution_count": 30,
     "metadata": {},
     "output_type": "execute_result"
    }
   ],
   "source": [
    "X_train.shape, y_train.shape, X_test.shape, y_test.shape"
   ]
  },
  {
   "cell_type": "code",
   "execution_count": 31,
   "metadata": {},
   "outputs": [],
   "source": [
    "scaler = StandardScaler()"
   ]
  },
  {
   "cell_type": "code",
   "execution_count": 32,
   "metadata": {},
   "outputs": [],
   "source": [
    "X_train_scaled = scaler.fit_transform(X_train)\n",
    "X_test_scaled = scaler.transform(X_test)"
   ]
  },
  {
   "cell_type": "code",
   "execution_count": 33,
   "metadata": {},
   "outputs": [],
   "source": [
    "X_train_scaled = torch.from_numpy(X_train_scaled.astype(np.float32))\n",
    "y_train = torch.from_numpy(y_train.astype(np.float32).reshape(-1, 1))\n",
    "X_test_scaled = torch.from_numpy(X_test_scaled.astype(np.float32))\n",
    "y_test = torch.from_numpy(y_test.astype(np.float32).reshape(-1, 1))"
   ]
  },
  {
   "cell_type": "code",
   "execution_count": 34,
   "metadata": {},
   "outputs": [
    {
     "data": {
      "text/plain": [
       "torch.Size([455, 1])"
      ]
     },
     "execution_count": 34,
     "metadata": {},
     "output_type": "execute_result"
    }
   ],
   "source": [
    "y_train.shape"
   ]
  },
  {
   "cell_type": "markdown",
   "metadata": {},
   "source": [
    "$$\\ell_c(x, y) = L_c = \\{l_{1,c},\\dots,l_{N,c}\\}^\\top, \\quad\n",
    "    l_{n,c} = - w_{n,c} \\left[ p_c y_{n,c} \\cdot \\log \\sigma(x_{n,c})\n",
    "    + (1 - y_{n,c}) \\cdot \\log (1 - \\sigma(x_{n,c})) \\right]$$"
   ]
  },
  {
   "cell_type": "code",
   "execution_count": 55,
   "metadata": {},
   "outputs": [],
   "source": [
    "model = nn.Sequential(    \n",
    "    nn.Linear(X_train.shape[1], 1), \n",
    "    nn.Sigmoid()\n",
    ")"
   ]
  },
  {
   "cell_type": "code",
   "execution_count": 56,
   "metadata": {},
   "outputs": [],
   "source": [
    "criterion = nn.BCEWithLogitsLoss()\n",
    "optimizer = torch.optim.Adam(params=model.parameters())"
   ]
  },
  {
   "cell_type": "code",
   "execution_count": 57,
   "metadata": {},
   "outputs": [
    {
     "name": "stdout",
     "output_type": "stream",
     "text": [
      "Epoch: 50/2000, Train Loss: 0.5661, Test Loss: 0.5667\n",
      "Epoch: 100/2000, Train Loss: 0.5414, Test Loss: 0.5408\n",
      "Epoch: 150/2000, Train Loss: 0.5269, Test Loss: 0.5259\n",
      "Epoch: 200/2000, Train Loss: 0.5170, Test Loss: 0.5163\n",
      "Epoch: 250/2000, Train Loss: 0.5100, Test Loss: 0.5094\n",
      "Epoch: 300/2000, Train Loss: 0.5048, Test Loss: 0.5042\n",
      "Epoch: 350/2000, Train Loss: 0.5007, Test Loss: 0.5001\n",
      "Epoch: 400/2000, Train Loss: 0.4975, Test Loss: 0.4968\n",
      "Epoch: 450/2000, Train Loss: 0.4949, Test Loss: 0.4941\n",
      "Epoch: 500/2000, Train Loss: 0.4926, Test Loss: 0.4918\n",
      "Epoch: 550/2000, Train Loss: 0.4907, Test Loss: 0.4899\n",
      "Epoch: 600/2000, Train Loss: 0.4890, Test Loss: 0.4883\n",
      "Epoch: 650/2000, Train Loss: 0.4876, Test Loss: 0.4869\n",
      "Epoch: 700/2000, Train Loss: 0.4863, Test Loss: 0.4856\n",
      "Epoch: 750/2000, Train Loss: 0.4851, Test Loss: 0.4846\n",
      "Epoch: 800/2000, Train Loss: 0.4840, Test Loss: 0.4836\n",
      "Epoch: 850/2000, Train Loss: 0.4831, Test Loss: 0.4827\n",
      "Epoch: 900/2000, Train Loss: 0.4822, Test Loss: 0.4820\n",
      "Epoch: 950/2000, Train Loss: 0.4813, Test Loss: 0.4813\n",
      "Epoch: 1000/2000, Train Loss: 0.4806, Test Loss: 0.4806\n",
      "Epoch: 1050/2000, Train Loss: 0.4799, Test Loss: 0.4800\n",
      "Epoch: 1100/2000, Train Loss: 0.4792, Test Loss: 0.4795\n",
      "Epoch: 1150/2000, Train Loss: 0.4786, Test Loss: 0.4790\n",
      "Epoch: 1200/2000, Train Loss: 0.4780, Test Loss: 0.4786\n",
      "Epoch: 1250/2000, Train Loss: 0.4775, Test Loss: 0.4782\n",
      "Epoch: 1300/2000, Train Loss: 0.4770, Test Loss: 0.4778\n",
      "Epoch: 1350/2000, Train Loss: 0.4765, Test Loss: 0.4774\n",
      "Epoch: 1400/2000, Train Loss: 0.4761, Test Loss: 0.4771\n",
      "Epoch: 1450/2000, Train Loss: 0.4757, Test Loss: 0.4767\n",
      "Epoch: 1500/2000, Train Loss: 0.4753, Test Loss: 0.4764\n",
      "Epoch: 1550/2000, Train Loss: 0.4749, Test Loss: 0.4761\n",
      "Epoch: 1600/2000, Train Loss: 0.4745, Test Loss: 0.4759\n",
      "Epoch: 1650/2000, Train Loss: 0.4742, Test Loss: 0.4756\n",
      "Epoch: 1700/2000, Train Loss: 0.4738, Test Loss: 0.4754\n",
      "Epoch: 1750/2000, Train Loss: 0.4735, Test Loss: 0.4751\n",
      "Epoch: 1800/2000, Train Loss: 0.4732, Test Loss: 0.4749\n",
      "Epoch: 1850/2000, Train Loss: 0.4729, Test Loss: 0.4747\n",
      "Epoch: 1900/2000, Train Loss: 0.4726, Test Loss: 0.4745\n",
      "Epoch: 1950/2000, Train Loss: 0.4724, Test Loss: 0.4743\n",
      "Epoch: 2000/2000, Train Loss: 0.4721, Test Loss: 0.4741\n"
     ]
    }
   ],
   "source": [
    "n_epochs = 2000\n",
    "\n",
    "train_losses = np.zeros(n_epochs)\n",
    "test_losses = np.zeros(n_epochs)\n",
    "\n",
    "train_accuracy = np.zeros(n_epochs)\n",
    "test_accuracy = np.zeros(n_epochs)\n",
    "\n",
    "for epoch in range(n_epochs):\n",
    "    optimizer.zero_grad()\n",
    "    \n",
    "    outputs = model(X_train_scaled)\n",
    "    loss = criterion(outputs, y_train)\n",
    "    \n",
    "    loss.backward()\n",
    "    optimizer.step()        \n",
    "    \n",
    "    output_test = model(X_test_scaled)\n",
    "    loss_test = criterion(output_test, y_test)\n",
    "    \n",
    "    with torch.no_grad():\n",
    "        train_pred = model(X_train_scaled)\n",
    "        train_pred = np.round(train_pred.numpy())\n",
    "        train_acc = np.mean(train_pred == y_train.numpy())\n",
    "        train_accuracy[epoch] = train_acc\n",
    "        \n",
    "        test_pred = model(X_test_scaled)\n",
    "        test_pred = np.round(test_pred.numpy())\n",
    "        test_acc = np.mean(test_pred == y_test.numpy())\n",
    "        test_accuracy[epoch] = test_acc\n",
    "    \n",
    "    test_losses[epoch] = loss_test.item()\n",
    "    train_losses[epoch] = loss.item()\n",
    "    \n",
    "    if (epoch + 1) % 50 == 0:\n",
    "        print(f\"Epoch: {epoch + 1}/{n_epochs}, Train Loss: {loss.item():.4f}, Test Loss: {loss_test.item():.4f}\")"
   ]
  },
  {
   "cell_type": "code",
   "execution_count": 58,
   "metadata": {},
   "outputs": [
    {
     "data": {
      "image/png": "[encoded data removed]",
      "text/plain": [
       "<Figure size 432x288 with 1 Axes>"
      ]
     },
     "metadata": {
      "needs_background": "light"
     },
     "output_type": "display_data"
    }
   ],
   "source": [
    "plt.plot(train_losses, label=\"Train Loss\")\n",
    "plt.plot(test_losses, label=\"Test Loss\")\n",
    "plt.title(\"Train and Test Loss\", fontsize=12)\n",
    "plt.legend()\n",
    "plt.show()"
   ]
  },
  {
   "cell_type": "code",
   "execution_count": 59,
   "metadata": {},
   "outputs": [
    {
     "data": {
      "image/png": "[encoded data removed]",
      "text/plain": [
       "<Figure size 432x288 with 1 Axes>"
      ]
     },
     "metadata": {
      "needs_background": "light"
     },
     "output_type": "display_data"
    }
   ],
   "source": [
    "plt.plot(train_accuracy, label=\"Train Accuracy\")\n",
    "plt.plot(test_accuracy, label=\"Test Accuracy\")\n",
    "plt.title(\"Train and Test Accuracy\", fontsize=12)\n",
    "plt.legend()\n",
    "plt.show()"
   ]
  },
  {
   "cell_type": "code",
   "execution_count": 60,
   "metadata": {},
   "outputs": [
    {
     "name": "stdout",
     "output_type": "stream",
     "text": [
      "Train Acc: 0.9824, Test Acc: 0.9912\n"
     ]
    }
   ],
   "source": [
    "with torch.no_grad():\n",
    "    p_train = model(X_train_scaled)\n",
    "    p_train = np.round(p_train.numpy())\n",
    "    train_acc = np.mean(p_train == y_train.numpy())\n",
    "    \n",
    "    p_test = model(X_test_scaled)\n",
    "    p_test = np.round(p_test.numpy())\n",
    "    test_acc = np.mean(p_test == y_test.numpy())\n",
    "    \n",
    "print(f\"Train Acc: {train_acc:.4f}, Test Acc: {test_acc:.4f}\")"
   ]
  },
  {
   "cell_type": "code",
   "execution_count": null,
   "metadata": {},
   "outputs": [],
   "source": []
  }
 ],
 "metadata": {
  "kernelspec": {
   "display_name": "Python 3",
   "language": "python",
   "name": "python3"
  },
  "language_info": {
   "codemirror_mode": {
    "name": "ipython",
    "version": 3
   },
   "file_extension": ".py",
   "mimetype": "text/x-python",
   "name": "python",
   "nbconvert_exporter": "python",
   "pygments_lexer": "ipython3",
   "version": "3.8.5"
  }
 },
 "nbformat": 4,
 "nbformat_minor": 4
}
