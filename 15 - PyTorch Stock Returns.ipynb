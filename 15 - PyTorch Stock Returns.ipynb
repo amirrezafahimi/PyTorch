{
 "cells": [
  {
   "cell_type": "code",
   "execution_count": 1,
   "metadata": {
    "id": "3YERLTJjD4kk"
   },
   "outputs": [],
   "source": [
    "import torch\n",
    "import torch.nn as nn\n",
    "import numpy as np\n",
    "import pandas as pd\n",
    "import matplotlib.pyplot as plt\n",
    "from sklearn.preprocessing import StandardScaler"
   ]
  },
  {
   "cell_type": "markdown",
   "metadata": {
    "id": "7JQ-aWBwH6zM"
   },
   "source": [
    "# Part 1: Price Prediction"
   ]
  },
  {
   "cell_type": "code",
   "execution_count": 2,
   "metadata": {
    "id": "0ARJutSvD772"
   },
   "outputs": [],
   "source": [
    "# yes, you can read dataframes from URLs!\n",
    "df = pd.read_csv('https://raw.githubusercontent.com/lazyprogrammer/machine_learning_examples/master/tf2.0/sbux.csv')"
   ]
  },
  {
   "cell_type": "code",
   "execution_count": 3,
   "metadata": {
    "colab": {
     "base_uri": "https://localhost:8080/",
     "height": 204
    },
    "id": "2Enitd48EA1e",
    "outputId": "44eca8ef-44d5-4631-d895-e1ad61ee4fc2"
   },
   "outputs": [
    {
     "data": {
      "text/html": [
       "<div>\n",
       "<style scoped>\n",
       "    .dataframe tbody tr th:only-of-type {\n",
       "        vertical-align: middle;\n",
       "    }\n",
       "\n",
       "    .dataframe tbody tr th {\n",
       "        vertical-align: top;\n",
       "    }\n",
       "\n",
       "    .dataframe thead th {\n",
       "        text-align: right;\n",
       "    }\n",
       "</style>\n",
       "<table border=\"1\" class=\"dataframe\">\n",
       "  <thead>\n",
       "    <tr style=\"text-align: right;\">\n",
       "      <th></th>\n",
       "      <th>date</th>\n",
       "      <th>open</th>\n",
       "      <th>high</th>\n",
       "      <th>low</th>\n",
       "      <th>close</th>\n",
       "      <th>volume</th>\n",
       "      <th>Name</th>\n",
       "    </tr>\n",
       "  </thead>\n",
       "  <tbody>\n",
       "    <tr>\n",
       "      <th>0</th>\n",
       "      <td>2013-02-08</td>\n",
       "      <td>27.920</td>\n",
       "      <td>28.325</td>\n",
       "      <td>27.920</td>\n",
       "      <td>28.185</td>\n",
       "      <td>7146296</td>\n",
       "      <td>SBUX</td>\n",
       "    </tr>\n",
       "    <tr>\n",
       "      <th>1</th>\n",
       "      <td>2013-02-11</td>\n",
       "      <td>28.260</td>\n",
       "      <td>28.260</td>\n",
       "      <td>27.930</td>\n",
       "      <td>28.070</td>\n",
       "      <td>5457354</td>\n",
       "      <td>SBUX</td>\n",
       "    </tr>\n",
       "    <tr>\n",
       "      <th>2</th>\n",
       "      <td>2013-02-12</td>\n",
       "      <td>28.000</td>\n",
       "      <td>28.275</td>\n",
       "      <td>27.975</td>\n",
       "      <td>28.130</td>\n",
       "      <td>8665592</td>\n",
       "      <td>SBUX</td>\n",
       "    </tr>\n",
       "    <tr>\n",
       "      <th>3</th>\n",
       "      <td>2013-02-13</td>\n",
       "      <td>28.230</td>\n",
       "      <td>28.230</td>\n",
       "      <td>27.750</td>\n",
       "      <td>27.915</td>\n",
       "      <td>7022056</td>\n",
       "      <td>SBUX</td>\n",
       "    </tr>\n",
       "    <tr>\n",
       "      <th>4</th>\n",
       "      <td>2013-02-14</td>\n",
       "      <td>27.765</td>\n",
       "      <td>27.905</td>\n",
       "      <td>27.675</td>\n",
       "      <td>27.775</td>\n",
       "      <td>8899188</td>\n",
       "      <td>SBUX</td>\n",
       "    </tr>\n",
       "  </tbody>\n",
       "</table>\n",
       "</div>"
      ],
      "text/plain": [
       "         date    open    high     low   close   volume  Name\n",
       "0  2013-02-08  27.920  28.325  27.920  28.185  7146296  SBUX\n",
       "1  2013-02-11  28.260  28.260  27.930  28.070  5457354  SBUX\n",
       "2  2013-02-12  28.000  28.275  27.975  28.130  8665592  SBUX\n",
       "3  2013-02-13  28.230  28.230  27.750  27.915  7022056  SBUX\n",
       "4  2013-02-14  27.765  27.905  27.675  27.775  8899188  SBUX"
      ]
     },
     "execution_count": 3,
     "metadata": {},
     "output_type": "execute_result"
    }
   ],
   "source": [
    "df.head()"
   ]
  },
  {
   "cell_type": "code",
   "execution_count": 4,
   "metadata": {
    "colab": {
     "base_uri": "https://localhost:8080/",
     "height": 204
    },
    "id": "kCITTItVECqS",
    "outputId": "dade9bc9-6c6e-4b63-910d-2f455172b755"
   },
   "outputs": [
    {
     "data": {
      "text/html": [
       "<div>\n",
       "<style scoped>\n",
       "    .dataframe tbody tr th:only-of-type {\n",
       "        vertical-align: middle;\n",
       "    }\n",
       "\n",
       "    .dataframe tbody tr th {\n",
       "        vertical-align: top;\n",
       "    }\n",
       "\n",
       "    .dataframe thead th {\n",
       "        text-align: right;\n",
       "    }\n",
       "</style>\n",
       "<table border=\"1\" class=\"dataframe\">\n",
       "  <thead>\n",
       "    <tr style=\"text-align: right;\">\n",
       "      <th></th>\n",
       "      <th>date</th>\n",
       "      <th>open</th>\n",
       "      <th>high</th>\n",
       "      <th>low</th>\n",
       "      <th>close</th>\n",
       "      <th>volume</th>\n",
       "      <th>Name</th>\n",
       "    </tr>\n",
       "  </thead>\n",
       "  <tbody>\n",
       "    <tr>\n",
       "      <th>1254</th>\n",
       "      <td>2018-02-01</td>\n",
       "      <td>56.280</td>\n",
       "      <td>56.42</td>\n",
       "      <td>55.89</td>\n",
       "      <td>56.00</td>\n",
       "      <td>14690146</td>\n",
       "      <td>SBUX</td>\n",
       "    </tr>\n",
       "    <tr>\n",
       "      <th>1255</th>\n",
       "      <td>2018-02-02</td>\n",
       "      <td>55.900</td>\n",
       "      <td>56.32</td>\n",
       "      <td>55.70</td>\n",
       "      <td>55.77</td>\n",
       "      <td>15358909</td>\n",
       "      <td>SBUX</td>\n",
       "    </tr>\n",
       "    <tr>\n",
       "      <th>1256</th>\n",
       "      <td>2018-02-05</td>\n",
       "      <td>55.530</td>\n",
       "      <td>56.26</td>\n",
       "      <td>54.57</td>\n",
       "      <td>54.69</td>\n",
       "      <td>16059955</td>\n",
       "      <td>SBUX</td>\n",
       "    </tr>\n",
       "    <tr>\n",
       "      <th>1257</th>\n",
       "      <td>2018-02-06</td>\n",
       "      <td>53.685</td>\n",
       "      <td>56.06</td>\n",
       "      <td>53.56</td>\n",
       "      <td>55.61</td>\n",
       "      <td>17415065</td>\n",
       "      <td>SBUX</td>\n",
       "    </tr>\n",
       "    <tr>\n",
       "      <th>1258</th>\n",
       "      <td>2018-02-07</td>\n",
       "      <td>55.080</td>\n",
       "      <td>55.43</td>\n",
       "      <td>54.44</td>\n",
       "      <td>54.46</td>\n",
       "      <td>13927022</td>\n",
       "      <td>SBUX</td>\n",
       "    </tr>\n",
       "  </tbody>\n",
       "</table>\n",
       "</div>"
      ],
      "text/plain": [
       "            date    open   high    low  close    volume  Name\n",
       "1254  2018-02-01  56.280  56.42  55.89  56.00  14690146  SBUX\n",
       "1255  2018-02-02  55.900  56.32  55.70  55.77  15358909  SBUX\n",
       "1256  2018-02-05  55.530  56.26  54.57  54.69  16059955  SBUX\n",
       "1257  2018-02-06  53.685  56.06  53.56  55.61  17415065  SBUX\n",
       "1258  2018-02-07  55.080  55.43  54.44  54.46  13927022  SBUX"
      ]
     },
     "execution_count": 4,
     "metadata": {},
     "output_type": "execute_result"
    }
   ],
   "source": [
    "df.tail()"
   ]
  },
  {
   "cell_type": "code",
   "execution_count": 5,
   "metadata": {
    "id": "lvZLvhINEEXm"
   },
   "outputs": [],
   "source": [
    "# Start by doing the WRONG thing - trying to predict the price itself\n",
    "series = df['close'].values.reshape(-1, 1)"
   ]
  },
  {
   "cell_type": "code",
   "execution_count": 6,
   "metadata": {
    "id": "sJlZEBuhEIhx"
   },
   "outputs": [],
   "source": [
    "# Normalize the data\n",
    "# Note: I didn't think about where the true boundary is, this is just approx.\n",
    "scaler = StandardScaler()\n",
    "scaler.fit(series[:len(series) // 2])\n",
    "series = scaler.transform(series).flatten()"
   ]
  },
  {
   "cell_type": "code",
   "execution_count": 7,
   "metadata": {
    "colab": {
     "base_uri": "https://localhost:8080/",
     "height": 34
    },
    "id": "lFWSq_z-EKp6",
    "outputId": "1651f2e6-5250-4b20-bbed-5f89251840a6"
   },
   "outputs": [
    {
     "name": "stdout",
     "output_type": "stream",
     "text": [
      "X.shape (1239, 20, 1) Y.shape (1239, 1)\n"
     ]
    }
   ],
   "source": [
    "### build the dataset\n",
    "# let's see if we can use T past values to predict the next value\n",
    "T = 20\n",
    "D = 1\n",
    "X = []\n",
    "Y = []\n",
    "for t in range(len(series) - T):\n",
    "    x = series[t:t+T]\n",
    "    X.append(x)\n",
    "    y = series[t+T]\n",
    "    Y.append(y)\n",
    "\n",
    "X = np.array(X).reshape(-1, T, 1) # Now the data should be N x T x D\n",
    "Y = np.array(Y).reshape(-1, 1)\n",
    "N = len(X)\n",
    "print(\"X.shape\", X.shape, \"Y.shape\", Y.shape)"
   ]
  },
  {
   "cell_type": "code",
   "execution_count": 8,
   "metadata": {
    "id": "ejA41yIHEMMs"
   },
   "outputs": [],
   "source": [
    "### try autoregressive RNN model\n",
    "class RNN(nn.Module):\n",
    "    def __init__(self, n_inputs, n_hidden, n_rnnlayers, n_outputs):\n",
    "        super(RNN, self).__init__()\n",
    "        self.D = n_inputs\n",
    "        self.M = n_hidden\n",
    "        self.K = n_outputs\n",
    "        self.L = n_rnnlayers\n",
    "\n",
    "        self.rnn = nn.LSTM(\n",
    "            input_size=self.D,\n",
    "            hidden_size=self.M,\n",
    "            num_layers=self.L,\n",
    "            batch_first=True)\n",
    "        self.fc = nn.Linear(self.M, self.K)\n",
    "  \n",
    "    def forward(self, X):\n",
    "        # initial hidden states\n",
    "        h0 = torch.zeros(self.L, X.size(0), self.M).to(device)\n",
    "        c0 = torch.zeros(self.L, X.size(0), self.M).to(device)\n",
    "\n",
    "        # get RNN unit output\n",
    "        out, _ = self.rnn(X, (h0, c0))\n",
    "\n",
    "        # we only want h(T) at the final time step\n",
    "        out = self.fc(out[:, -1, :])\n",
    "        return out"
   ]
  },
  {
   "cell_type": "code",
   "execution_count": 9,
   "metadata": {
    "id": "hxjVvws8EUfr"
   },
   "outputs": [],
   "source": [
    "model = RNN(1, 5, 1, 1)"
   ]
  },
  {
   "cell_type": "code",
   "execution_count": 10,
   "metadata": {
    "colab": {
     "base_uri": "https://localhost:8080/",
     "height": 102
    },
    "id": "7zL5f7KWEcVw",
    "outputId": "4680ee2a-4550-4651-a833-3c86341da2bc"
   },
   "outputs": [
    {
     "name": "stdout",
     "output_type": "stream",
     "text": [
      "cpu\n"
     ]
    },
    {
     "data": {
      "text/plain": [
       "RNN(\n",
       "  (rnn): LSTM(1, 5, batch_first=True)\n",
       "  (fc): Linear(in_features=5, out_features=1, bias=True)\n",
       ")"
      ]
     },
     "execution_count": 10,
     "metadata": {},
     "output_type": "execute_result"
    }
   ],
   "source": [
    "device = torch.device(\"cuda:0\" if torch.cuda.is_available() else \"cpu\")\n",
    "print(device)\n",
    "model.to(device)"
   ]
  },
  {
   "cell_type": "code",
   "execution_count": 11,
   "metadata": {
    "id": "h8Qlpc1sEvcA"
   },
   "outputs": [],
   "source": [
    "# Loss and optimizer\n",
    "criterion = nn.MSELoss()\n",
    "optimizer = torch.optim.Adam(model.parameters(), lr=0.1)"
   ]
  },
  {
   "cell_type": "code",
   "execution_count": 12,
   "metadata": {
    "id": "SbUEPOnZE1c9"
   },
   "outputs": [],
   "source": [
    "# Training\n",
    "def full_gd(model,\n",
    "            criterion,\n",
    "            optimizer,\n",
    "            X_train,\n",
    "            y_train,\n",
    "            X_test,\n",
    "            y_test,\n",
    "            epochs=200):\n",
    "\n",
    "    # Stuff to store\n",
    "    train_losses = np.zeros(epochs)\n",
    "    test_losses = np.zeros(epochs)\n",
    "\n",
    "    for it in range(epochs):\n",
    "        # zero the parameter gradients\n",
    "        optimizer.zero_grad()\n",
    "\n",
    "        # Forward pass\n",
    "        outputs = model(X_train)\n",
    "        loss = criterion(outputs, y_train)\n",
    "\n",
    "        # Backward and optimize\n",
    "        loss.backward()\n",
    "        optimizer.step()\n",
    "\n",
    "        # Save losses\n",
    "        train_losses[it] = loss.item()\n",
    "\n",
    "        # Test loss\n",
    "        test_outputs = model(X_test)\n",
    "        test_loss = criterion(test_outputs, y_test)\n",
    "        test_losses[it] = test_loss.item()\n",
    "\n",
    "        if (it + 1) % 5 == 0:\n",
    "            print(f'Epoch {it+1}/{epochs}, Train Loss: {loss.item():.4f}, Test Loss: {test_loss.item():.4f}')\n",
    "\n",
    "    return train_losses, test_losses"
   ]
  },
  {
   "cell_type": "code",
   "execution_count": 13,
   "metadata": {
    "id": "lnQkAXuxE8G5"
   },
   "outputs": [],
   "source": [
    "# Make inputs and targets\n",
    "X_train = torch.from_numpy(X[:-N//2].astype(np.float32))\n",
    "y_train = torch.from_numpy(Y[:-N//2].astype(np.float32))\n",
    "X_test = torch.from_numpy(X[-N//2:].astype(np.float32))\n",
    "y_test = torch.from_numpy(Y[-N//2:].astype(np.float32))"
   ]
  },
  {
   "cell_type": "code",
   "execution_count": 14,
   "metadata": {
    "id": "QM8yEi78E_RG"
   },
   "outputs": [],
   "source": [
    "# move data to GPU\n",
    "X_train, y_train = X_train.to(device), y_train.to(device)\n",
    "X_test, y_test = X_test.to(device), y_test.to(device)"
   ]
  },
  {
   "cell_type": "code",
   "execution_count": 15,
   "metadata": {
    "colab": {
     "base_uri": "https://localhost:8080/",
     "height": 697
    },
    "id": "eeU5KgjXFA7S",
    "outputId": "e8438fd3-53ff-441b-c969-cf54563fcfe9"
   },
   "outputs": [
    {
     "name": "stdout",
     "output_type": "stream",
     "text": [
      "Epoch 5/200, Train Loss: 0.4497, Test Loss: 2.2022\n",
      "Epoch 10/200, Train Loss: 0.2964, Test Loss: 0.1888\n",
      "Epoch 15/200, Train Loss: 0.1597, Test Loss: 0.6933\n",
      "Epoch 20/200, Train Loss: 0.0934, Test Loss: 1.2970\n",
      "Epoch 25/200, Train Loss: 0.0544, Test Loss: 0.5226\n",
      "Epoch 30/200, Train Loss: 0.0139, Test Loss: 0.1473\n",
      "Epoch 35/200, Train Loss: 0.0148, Test Loss: 0.0496\n",
      "Epoch 40/200, Train Loss: 0.0084, Test Loss: 0.0418\n",
      "Epoch 45/200, Train Loss: 0.0081, Test Loss: 0.0206\n",
      "Epoch 50/200, Train Loss: 0.0062, Test Loss: 0.0172\n",
      "Epoch 55/200, Train Loss: 0.0062, Test Loss: 0.0195\n",
      "Epoch 60/200, Train Loss: 0.0055, Test Loss: 0.0235\n",
      "Epoch 65/200, Train Loss: 0.0056, Test Loss: 0.0202\n",
      "Epoch 70/200, Train Loss: 0.0055, Test Loss: 0.0152\n",
      "Epoch 75/200, Train Loss: 0.0053, Test Loss: 0.0161\n",
      "Epoch 80/200, Train Loss: 0.0053, Test Loss: 0.0174\n",
      "Epoch 85/200, Train Loss: 0.0053, Test Loss: 0.0158\n",
      "Epoch 90/200, Train Loss: 0.0053, Test Loss: 0.0166\n",
      "Epoch 95/200, Train Loss: 0.0053, Test Loss: 0.0169\n",
      "Epoch 100/200, Train Loss: 0.0052, Test Loss: 0.0154\n",
      "Epoch 105/200, Train Loss: 0.0052, Test Loss: 0.0153\n",
      "Epoch 110/200, Train Loss: 0.0052, Test Loss: 0.0156\n",
      "Epoch 115/200, Train Loss: 0.0052, Test Loss: 0.0152\n",
      "Epoch 120/200, Train Loss: 0.0052, Test Loss: 0.0151\n",
      "Epoch 125/200, Train Loss: 0.0052, Test Loss: 0.0149\n",
      "Epoch 130/200, Train Loss: 0.0052, Test Loss: 0.0147\n",
      "Epoch 135/200, Train Loss: 0.0052, Test Loss: 0.0148\n",
      "Epoch 140/200, Train Loss: 0.0052, Test Loss: 0.0147\n",
      "Epoch 145/200, Train Loss: 0.0052, Test Loss: 0.0146\n",
      "Epoch 150/200, Train Loss: 0.0052, Test Loss: 0.0145\n",
      "Epoch 155/200, Train Loss: 0.0052, Test Loss: 0.0144\n",
      "Epoch 160/200, Train Loss: 0.0052, Test Loss: 0.0144\n",
      "Epoch 165/200, Train Loss: 0.0052, Test Loss: 0.0143\n",
      "Epoch 170/200, Train Loss: 0.0051, Test Loss: 0.0142\n",
      "Epoch 175/200, Train Loss: 0.0051, Test Loss: 0.0142\n",
      "Epoch 180/200, Train Loss: 0.0051, Test Loss: 0.0142\n",
      "Epoch 185/200, Train Loss: 0.0051, Test Loss: 0.0141\n",
      "Epoch 190/200, Train Loss: 0.0051, Test Loss: 0.0141\n",
      "Epoch 195/200, Train Loss: 0.0051, Test Loss: 0.0140\n",
      "Epoch 200/200, Train Loss: 0.0051, Test Loss: 0.0140\n"
     ]
    }
   ],
   "source": [
    "train_losses, test_losses = full_gd(model,\n",
    "                                    criterion,\n",
    "                                    optimizer,\n",
    "                                    X_train,\n",
    "                                    y_train,\n",
    "                                    X_test,\n",
    "                                    y_test)"
   ]
  },
  {
   "cell_type": "code",
   "execution_count": 16,
   "metadata": {
    "colab": {
     "base_uri": "https://localhost:8080/",
     "height": 265
    },
    "id": "TA9ZKt4aFIGO",
    "outputId": "a893539f-a28e-4370-b07a-0d757cfae672"
   },
   "outputs": [
    {
     "data": {
      "image/png": "[encoded data removed]",
      "text/plain": [
       "<Figure size 432x288 with 1 Axes>"
      ]
     },
     "metadata": {
      "needs_background": "light"
     },
     "output_type": "display_data"
    }
   ],
   "source": [
    "# Plot the train loss and test loss per iteration\n",
    "plt.plot(train_losses, label='train loss')\n",
    "plt.plot(test_losses, label='test loss')\n",
    "plt.legend()\n",
    "plt.show()"
   ]
  },
  {
   "cell_type": "code",
   "execution_count": 17,
   "metadata": {
    "id": "1vAQGe6JFSM9"
   },
   "outputs": [],
   "source": [
    "# One-step forecast using true targets\n",
    "validation_target = Y\n",
    "validation_predictions = []\n",
    "\n",
    "# index of first validation input\n",
    "i = 0\n",
    "\n",
    "X_on_device = torch.from_numpy(X.astype(np.float32)).to(device)\n",
    "\n",
    "while len(validation_predictions) < len(validation_target):\n",
    "    input_ = X_on_device[i].reshape(1, T, 1)\n",
    "    p = model(input_)[0,0].item() # 1x1 array -> scalar\n",
    "    i += 1\n",
    "\n",
    "    # update the predictions list\n",
    "    validation_predictions.append(p)"
   ]
  },
  {
   "cell_type": "code",
   "execution_count": 18,
   "metadata": {
    "colab": {
     "base_uri": "https://localhost:8080/",
     "height": 282
    },
    "id": "WmlRrKo8FU9d",
    "outputId": "dd45ebf3-7c3f-4e9b-dff2-9503d77f1cca"
   },
   "outputs": [
    {
     "data": {
      "text/plain": [
       "<matplotlib.legend.Legend at 0x25f86b35b20>"
      ]
     },
     "execution_count": 18,
     "metadata": {},
     "output_type": "execute_result"
    },
    {
     "data": {
      "image/png": "[encoded data removed]",
      "text/plain": [
       "<Figure size 432x288 with 1 Axes>"
      ]
     },
     "metadata": {
      "needs_background": "light"
     },
     "output_type": "display_data"
    }
   ],
   "source": [
    "plt.plot(validation_target, label='forecast target')\n",
    "plt.plot(validation_predictions, label='forecast prediction')\n",
    "plt.legend()"
   ]
  },
  {
   "cell_type": "code",
   "execution_count": 19,
   "metadata": {
    "id": "o_nIYq4tGU4g"
   },
   "outputs": [],
   "source": [
    "# Multi-step forecast\n",
    "validation_target = Y[-N//2:]\n",
    "validation_predictions = []\n",
    "\n",
    "# last train input\n",
    "last_x = X_test[0].view(T)\n",
    "\n",
    "while len(validation_predictions) < len(validation_target):\n",
    "    input_ = last_x.reshape(1, T, 1)\n",
    "    p = model(input_)\n",
    "    # [0,0] # 1x1 array -> scalar\n",
    "\n",
    "    # update the predictions list\n",
    "    validation_predictions.append(p[0,0].item())\n",
    "\n",
    "    # make the new input\n",
    "    last_x = torch.cat((last_x[1:], p[0]))"
   ]
  },
  {
   "cell_type": "code",
   "execution_count": 20,
   "metadata": {
    "colab": {
     "base_uri": "https://localhost:8080/",
     "height": 282
    },
    "id": "rc-qBmQlGs7-",
    "outputId": "f59c596a-920c-4f80-cd2b-8b19f7abfba4"
   },
   "outputs": [
    {
     "data": {
      "text/plain": [
       "<matplotlib.legend.Legend at 0x25f9296feb0>"
      ]
     },
     "execution_count": 20,
     "metadata": {},
     "output_type": "execute_result"
    },
    {
     "data": {
      "image/png": "[encoded data removed]",
      "text/plain": [
       "<Figure size 432x288 with 1 Axes>"
      ]
     },
     "metadata": {
      "needs_background": "light"
     },
     "output_type": "display_data"
    }
   ],
   "source": [
    "plt.plot(validation_target, label='forecast target')\n",
    "plt.plot(validation_predictions, label='forecast prediction')\n",
    "plt.legend()"
   ]
  },
  {
   "cell_type": "markdown",
   "metadata": {
    "id": "tHOwz6LxH4RJ"
   },
   "source": [
    "# Part 2: Returns"
   ]
  },
  {
   "cell_type": "code",
   "execution_count": 31,
   "metadata": {},
   "outputs": [],
   "source": [
    "df[\"Return\"] = df.close.pct_change()"
   ]
  },
  {
   "cell_type": "code",
   "execution_count": 32,
   "metadata": {},
   "outputs": [
    {
     "data": {
      "text/html": [
       "<div>\n",
       "<style scoped>\n",
       "    .dataframe tbody tr th:only-of-type {\n",
       "        vertical-align: middle;\n",
       "    }\n",
       "\n",
       "    .dataframe tbody tr th {\n",
       "        vertical-align: top;\n",
       "    }\n",
       "\n",
       "    .dataframe thead th {\n",
       "        text-align: right;\n",
       "    }\n",
       "</style>\n",
       "<table border=\"1\" class=\"dataframe\">\n",
       "  <thead>\n",
       "    <tr style=\"text-align: right;\">\n",
       "      <th></th>\n",
       "      <th>date</th>\n",
       "      <th>open</th>\n",
       "      <th>high</th>\n",
       "      <th>low</th>\n",
       "      <th>close</th>\n",
       "      <th>volume</th>\n",
       "      <th>Name</th>\n",
       "      <th>Return</th>\n",
       "    </tr>\n",
       "  </thead>\n",
       "  <tbody>\n",
       "    <tr>\n",
       "      <th>0</th>\n",
       "      <td>2013-02-08</td>\n",
       "      <td>27.920</td>\n",
       "      <td>28.325</td>\n",
       "      <td>27.920</td>\n",
       "      <td>28.185</td>\n",
       "      <td>7146296</td>\n",
       "      <td>SBUX</td>\n",
       "      <td>NaN</td>\n",
       "    </tr>\n",
       "    <tr>\n",
       "      <th>1</th>\n",
       "      <td>2013-02-11</td>\n",
       "      <td>28.260</td>\n",
       "      <td>28.260</td>\n",
       "      <td>27.930</td>\n",
       "      <td>28.070</td>\n",
       "      <td>5457354</td>\n",
       "      <td>SBUX</td>\n",
       "      <td>-0.004080</td>\n",
       "    </tr>\n",
       "    <tr>\n",
       "      <th>2</th>\n",
       "      <td>2013-02-12</td>\n",
       "      <td>28.000</td>\n",
       "      <td>28.275</td>\n",
       "      <td>27.975</td>\n",
       "      <td>28.130</td>\n",
       "      <td>8665592</td>\n",
       "      <td>SBUX</td>\n",
       "      <td>0.002138</td>\n",
       "    </tr>\n",
       "    <tr>\n",
       "      <th>3</th>\n",
       "      <td>2013-02-13</td>\n",
       "      <td>28.230</td>\n",
       "      <td>28.230</td>\n",
       "      <td>27.750</td>\n",
       "      <td>27.915</td>\n",
       "      <td>7022056</td>\n",
       "      <td>SBUX</td>\n",
       "      <td>-0.007643</td>\n",
       "    </tr>\n",
       "    <tr>\n",
       "      <th>4</th>\n",
       "      <td>2013-02-14</td>\n",
       "      <td>27.765</td>\n",
       "      <td>27.905</td>\n",
       "      <td>27.675</td>\n",
       "      <td>27.775</td>\n",
       "      <td>8899188</td>\n",
       "      <td>SBUX</td>\n",
       "      <td>-0.005015</td>\n",
       "    </tr>\n",
       "  </tbody>\n",
       "</table>\n",
       "</div>"
      ],
      "text/plain": [
       "         date    open    high     low   close   volume  Name    Return\n",
       "0  2013-02-08  27.920  28.325  27.920  28.185  7146296  SBUX       NaN\n",
       "1  2013-02-11  28.260  28.260  27.930  28.070  5457354  SBUX -0.004080\n",
       "2  2013-02-12  28.000  28.275  27.975  28.130  8665592  SBUX  0.002138\n",
       "3  2013-02-13  28.230  28.230  27.750  27.915  7022056  SBUX -0.007643\n",
       "4  2013-02-14  27.765  27.905  27.675  27.775  8899188  SBUX -0.005015"
      ]
     },
     "execution_count": 32,
     "metadata": {},
     "output_type": "execute_result"
    }
   ],
   "source": [
    "df.head()"
   ]
  },
  {
   "cell_type": "code",
   "execution_count": 34,
   "metadata": {},
   "outputs": [
    {
     "data": {
      "image/png": "[encoded data removed]",
      "text/plain": [
       "<Figure size 432x288 with 1 Axes>"
      ]
     },
     "metadata": {
      "needs_background": "light"
     },
     "output_type": "display_data"
    }
   ],
   "source": [
    "plt.plot(df.Return)\n",
    "plt.show()"
   ]
  },
  {
   "cell_type": "code",
   "execution_count": 36,
   "metadata": {},
   "outputs": [
    {
     "data": {
      "image/png": "[encoded data removed]",
      "text/plain": [
       "<Figure size 432x288 with 1 Axes>"
      ]
     },
     "metadata": {
      "needs_background": "light"
     },
     "output_type": "display_data"
    }
   ],
   "source": [
    "df.Return.hist()\n",
    "plt.show()"
   ]
  },
  {
   "cell_type": "code",
   "execution_count": 41,
   "metadata": {},
   "outputs": [],
   "source": [
    "series = df.Return.values[1:].reshape(-1, 1)"
   ]
  },
  {
   "cell_type": "code",
   "execution_count": 42,
   "metadata": {},
   "outputs": [],
   "source": [
    "scaler = StandardScaler()\n",
    "scaler.fit(series[:len(series) // 2])\n",
    "series = scaler.transform(series).flatten()"
   ]
  },
  {
   "cell_type": "code",
   "execution_count": 45,
   "metadata": {},
   "outputs": [
    {
     "name": "stdout",
     "output_type": "stream",
     "text": [
      "X.shape: (1238, 20, 1), Y.shape: (1238, 1)\n"
     ]
    }
   ],
   "source": [
    "T = 20\n",
    "X = []\n",
    "Y = []\n",
    "for t in range(len(series) - T):\n",
    "    x = series[t:t + T]\n",
    "    X.append(x)\n",
    "    y = series[t + T]\n",
    "    Y.append(y)\n",
    "X = np.array(X).reshape(-1, T, 1)\n",
    "Y = np.array(Y).reshape(-1, 1)\n",
    "N = len(series)\n",
    "print(f\"X.shape: {X.shape}, Y.shape: {Y.shape}\")"
   ]
  },
  {
   "cell_type": "code",
   "execution_count": 46,
   "metadata": {},
   "outputs": [
    {
     "data": {
      "text/plain": [
       "RNN(\n",
       "  (rnn): LSTM(1, 5, batch_first=True)\n",
       "  (fc): Linear(in_features=5, out_features=1, bias=True)\n",
       ")"
      ]
     },
     "execution_count": 46,
     "metadata": {},
     "output_type": "execute_result"
    }
   ],
   "source": [
    "model = RNN(1, 5, 1, 1)\n",
    "model.to(device)"
   ]
  },
  {
   "cell_type": "code",
   "execution_count": 49,
   "metadata": {},
   "outputs": [],
   "source": [
    "criterion = nn.MSELoss()\n",
    "optimizer = torch.optim.Adam(params=model.parameters(), lr=0.01)"
   ]
  },
  {
   "cell_type": "code",
   "execution_count": 50,
   "metadata": {},
   "outputs": [],
   "source": [
    "X_train = torch.from_numpy(X[:-N//2].astype(np.float32))\n",
    "y_train = torch.from_numpy(Y[:-N//2].astype(np.float32))\n",
    "X_test = torch.from_numpy(X[-N//2:].astype(np.float32))\n",
    "y_test = torch.from_numpy(Y[-N//2:].astype(np.float32))"
   ]
  },
  {
   "cell_type": "code",
   "execution_count": 51,
   "metadata": {},
   "outputs": [],
   "source": [
    "X_train, y_train = X_train.to(device), y_train.to(device)\n",
    "X_test, y_test = X_test.to(device), y_test.to(device)"
   ]
  },
  {
   "cell_type": "code",
   "execution_count": 52,
   "metadata": {},
   "outputs": [
    {
     "name": "stdout",
     "output_type": "stream",
     "text": [
      "Epoch 5/200, Train Loss: 0.9937, Test Loss: 1.1269\n",
      "Epoch 10/200, Train Loss: 0.9900, Test Loss: 1.1374\n",
      "Epoch 15/200, Train Loss: 0.9878, Test Loss: 1.1363\n",
      "Epoch 20/200, Train Loss: 0.9868, Test Loss: 1.1409\n",
      "Epoch 25/200, Train Loss: 0.9857, Test Loss: 1.1416\n",
      "Epoch 30/200, Train Loss: 0.9845, Test Loss: 1.1410\n",
      "Epoch 35/200, Train Loss: 0.9835, Test Loss: 1.1408\n",
      "Epoch 40/200, Train Loss: 0.9822, Test Loss: 1.1443\n",
      "Epoch 45/200, Train Loss: 0.9807, Test Loss: 1.1477\n",
      "Epoch 50/200, Train Loss: 0.9789, Test Loss: 1.1539\n",
      "Epoch 55/200, Train Loss: 0.9770, Test Loss: 1.1572\n",
      "Epoch 60/200, Train Loss: 0.9749, Test Loss: 1.1627\n",
      "Epoch 65/200, Train Loss: 0.9725, Test Loss: 1.1683\n",
      "Epoch 70/200, Train Loss: 0.9694, Test Loss: 1.1735\n",
      "Epoch 75/200, Train Loss: 0.9652, Test Loss: 1.1792\n",
      "Epoch 80/200, Train Loss: 0.9596, Test Loss: 1.1863\n",
      "Epoch 85/200, Train Loss: 0.9526, Test Loss: 1.2006\n",
      "Epoch 90/200, Train Loss: 0.9443, Test Loss: 1.2258\n",
      "Epoch 95/200, Train Loss: 0.9353, Test Loss: 1.2548\n",
      "Epoch 100/200, Train Loss: 0.9276, Test Loss: 1.2862\n",
      "Epoch 105/200, Train Loss: 0.9213, Test Loss: 1.3193\n",
      "Epoch 110/200, Train Loss: 0.9158, Test Loss: 1.3478\n",
      "Epoch 115/200, Train Loss: 0.9099, Test Loss: 1.3715\n",
      "Epoch 120/200, Train Loss: 0.9034, Test Loss: 1.3802\n",
      "Epoch 125/200, Train Loss: 0.8969, Test Loss: 1.4096\n",
      "Epoch 130/200, Train Loss: 0.8904, Test Loss: 1.4010\n",
      "Epoch 135/200, Train Loss: 0.8827, Test Loss: 1.4214\n",
      "Epoch 140/200, Train Loss: 0.8742, Test Loss: 1.4579\n",
      "Epoch 145/200, Train Loss: 0.8646, Test Loss: 1.4973\n",
      "Epoch 150/200, Train Loss: 0.8532, Test Loss: 1.5574\n",
      "Epoch 155/200, Train Loss: 0.8435, Test Loss: 1.6473\n",
      "Epoch 160/200, Train Loss: 0.8339, Test Loss: 1.7214\n",
      "Epoch 165/200, Train Loss: 0.8231, Test Loss: 1.8002\n",
      "Epoch 170/200, Train Loss: 0.8129, Test Loss: 1.8343\n",
      "Epoch 175/200, Train Loss: 0.8033, Test Loss: 1.8848\n",
      "Epoch 180/200, Train Loss: 0.8116, Test Loss: 1.9392\n",
      "Epoch 185/200, Train Loss: 0.8066, Test Loss: 2.0626\n",
      "Epoch 190/200, Train Loss: 0.7921, Test Loss: 2.1202\n",
      "Epoch 195/200, Train Loss: 0.7855, Test Loss: 2.1146\n",
      "Epoch 200/200, Train Loss: 0.7824, Test Loss: 2.1235\n"
     ]
    }
   ],
   "source": [
    "train_losses, test_losses = full_gd(model, \n",
    "                                   criterion, \n",
    "                                   optimizer, \n",
    "                                   X_train, \n",
    "                                   y_train, \n",
    "                                   X_test, \n",
    "                                   y_test)"
   ]
  },
  {
   "cell_type": "code",
   "execution_count": 53,
   "metadata": {},
   "outputs": [
    {
     "data": {
      "image/png": "[encoded data removed]",
      "text/plain": [
       "<Figure size 432x288 with 1 Axes>"
      ]
     },
     "metadata": {
      "needs_background": "light"
     },
     "output_type": "display_data"
    }
   ],
   "source": [
    "plt.plot(train_losses, label=\"train loss\")\n",
    "plt.plot(test_losses, label=\"test loss\")\n",
    "plt.legend()\n",
    "plt.show()"
   ]
  },
  {
   "cell_type": "code",
   "execution_count": 54,
   "metadata": {},
   "outputs": [],
   "source": [
    "validation_target = Y\n",
    "validation_predictions = []\n",
    "\n",
    "i = 0\n",
    "X_on_device = torch.from_numpy(X.astype(np.float32)).to(device)\n",
    "\n",
    "while len(validation_predictions) < len(validation_target):\n",
    "    input_ = X_on_device[i].reshape(-1, T, 1)\n",
    "    p = model(input_)[0, 0].item()\n",
    "    \n",
    "    i += 1\n",
    "    \n",
    "    validation_predictions.append(p)"
   ]
  },
  {
   "cell_type": "code",
   "execution_count": 55,
   "metadata": {},
   "outputs": [
    {
     "data": {
      "image/png": "[encoded data removed]",
      "text/plain": [
       "<Figure size 432x288 with 1 Axes>"
      ]
     },
     "metadata": {
      "needs_background": "light"
     },
     "output_type": "display_data"
    }
   ],
   "source": [
    "plt.plot(validation_target, label=\"forecast target\")\n",
    "plt.plot(validation_predictions, label=\"forecast predictions\")\n",
    "plt.legend()\n",
    "plt.show()"
   ]
  },
  {
   "cell_type": "code",
   "execution_count": 56,
   "metadata": {},
   "outputs": [],
   "source": [
    "validation_target = Y[-N//2:]\n",
    "validation_predictions = []\n",
    "\n",
    "last_x = X_test[0].view(T)\n",
    "while len(validation_predictions) < len(validation_target):\n",
    "    input_ = last_x.reshape(-1, T, 1)\n",
    "    p = model(input_)\n",
    "    \n",
    "    validation_predictions.append(p[0, 0].item())\n",
    "    \n",
    "    last_x = torch.cat((last_x[1:], p[0]))"
   ]
  },
  {
   "cell_type": "code",
   "execution_count": 57,
   "metadata": {},
   "outputs": [
    {
     "data": {
      "image/png": "[encoded data removed]",
      "text/plain": [
       "<Figure size 432x288 with 1 Axes>"
      ]
     },
     "metadata": {
      "needs_background": "light"
     },
     "output_type": "display_data"
    }
   ],
   "source": [
    "plt.plot(validation_target, label=\"forecast target\")\n",
    "plt.plot(validation_predictions, label=\"forecast predictions\")\n",
    "plt.legend()\n",
    "plt.show()"
   ]
  },
  {
   "cell_type": "markdown",
   "metadata": {},
   "source": [
    "## Part 3: Binary Classification"
   ]
  },
  {
   "cell_type": "code",
   "execution_count": 79,
   "metadata": {},
   "outputs": [],
   "source": [
    "input_data = df[[\"open\", \"high\", \"low\", \"close\", \"volume\"]].values\n",
    "targets = df[\"Return\"].values"
   ]
  },
  {
   "cell_type": "code",
   "execution_count": 80,
   "metadata": {},
   "outputs": [],
   "source": [
    "T = 10\n",
    "D = input_data.shape[1]\n",
    "N = len(input_data) - T"
   ]
  },
  {
   "cell_type": "code",
   "execution_count": 81,
   "metadata": {},
   "outputs": [
    {
     "data": {
      "text/plain": [
       "5"
      ]
     },
     "execution_count": 81,
     "metadata": {},
     "output_type": "execute_result"
    }
   ],
   "source": [
    "input_data.shape[1]"
   ]
  },
  {
   "cell_type": "code",
   "execution_count": 92,
   "metadata": {},
   "outputs": [],
   "source": [
    "Ntrain = len(input_data) * 2 // 3\n",
    "scaler = StandardScaler()\n",
    "scaler.fit(input_data[:Ntrain + T - 1])\n",
    "input_data = scaler.transform(input_data)"
   ]
  },
  {
   "cell_type": "code",
   "execution_count": 93,
   "metadata": {},
   "outputs": [],
   "source": [
    "X_train = np.zeros((Ntrain, T, D))\n",
    "y_train = np.zeros((Ntrain, 1))\n",
    "\n",
    "for t in range(Ntrain):\n",
    "    X_train[t, :, :] = input_data[t:t + T]\n",
    "    y_train[t] = (targets[t + T] > 0)    "
   ]
  },
  {
   "cell_type": "code",
   "execution_count": 94,
   "metadata": {},
   "outputs": [],
   "source": [
    "X_test = np.zeros((N - Ntrain, T, D))\n",
    "y_test = np.zeros((N - Ntrain, 1))\n",
    "\n",
    "for u in range(N - Ntrain):\n",
    "    t = u + Ntrain\n",
    "    X_test[u, :, :] = input_data[t:t + T]\n",
    "    y_test[u] = (targets[t + T] > 0)"
   ]
  },
  {
   "cell_type": "code",
   "execution_count": 95,
   "metadata": {},
   "outputs": [
    {
     "data": {
      "text/plain": [
       "RNN(\n",
       "  (rnn): LSTM(5, 50, num_layers=2, batch_first=True)\n",
       "  (fc): Linear(in_features=50, out_features=1, bias=True)\n",
       ")"
      ]
     },
     "execution_count": 95,
     "metadata": {},
     "output_type": "execute_result"
    }
   ],
   "source": [
    "model = RNN(5, 50, 2, 1)\n",
    "model.to(device)"
   ]
  },
  {
   "cell_type": "code",
   "execution_count": 96,
   "metadata": {},
   "outputs": [],
   "source": [
    "criterion = nn.BCEWithLogitsLoss()\n",
    "optimizer = torch.optim.Adam(params=model.parameters(), lr=0.01)"
   ]
  },
  {
   "cell_type": "code",
   "execution_count": 97,
   "metadata": {},
   "outputs": [],
   "source": [
    "X_train = torch.from_numpy(X_train.astype(np.float32))\n",
    "y_train = torch.from_numpy(y_train.astype(np.float32))\n",
    "X_test = torch.from_numpy(X_test.astype(np.float32))\n",
    "y_test = torch.from_numpy(y_test.astype(np.float32))"
   ]
  },
  {
   "cell_type": "code",
   "execution_count": 98,
   "metadata": {},
   "outputs": [],
   "source": [
    "X_train, y_train = X_train.to(device), y_train.to(device)\n",
    "X_test, y_test = X_test.to(device), y_test.to(device)"
   ]
  },
  {
   "cell_type": "code",
   "execution_count": 99,
   "metadata": {},
   "outputs": [
    {
     "name": "stdout",
     "output_type": "stream",
     "text": [
      "Epoch 5/300, Train Loss: 0.6917, Test Loss: 0.6925\n",
      "Epoch 10/300, Train Loss: 0.6908, Test Loss: 0.6956\n",
      "Epoch 15/300, Train Loss: 0.6878, Test Loss: 0.6956\n",
      "Epoch 20/300, Train Loss: 0.6837, Test Loss: 0.6935\n",
      "Epoch 25/300, Train Loss: 0.6780, Test Loss: 0.6927\n",
      "Epoch 30/300, Train Loss: 0.6722, Test Loss: 0.7051\n",
      "Epoch 35/300, Train Loss: 0.6646, Test Loss: 0.7032\n",
      "Epoch 40/300, Train Loss: 0.6512, Test Loss: 0.7049\n",
      "Epoch 45/300, Train Loss: 0.6395, Test Loss: 0.7119\n",
      "Epoch 50/300, Train Loss: 0.6314, Test Loss: 0.7366\n",
      "Epoch 55/300, Train Loss: 0.6201, Test Loss: 0.7095\n",
      "Epoch 60/300, Train Loss: 0.5852, Test Loss: 0.7497\n",
      "Epoch 65/300, Train Loss: 0.5754, Test Loss: 0.7759\n",
      "Epoch 70/300, Train Loss: 0.5470, Test Loss: 0.7972\n",
      "Epoch 75/300, Train Loss: 0.5004, Test Loss: 0.8034\n",
      "Epoch 80/300, Train Loss: 0.4605, Test Loss: 0.8401\n",
      "Epoch 85/300, Train Loss: 0.4612, Test Loss: 0.8253\n",
      "Epoch 90/300, Train Loss: 0.4221, Test Loss: 0.8691\n",
      "Epoch 95/300, Train Loss: 0.3994, Test Loss: 0.9041\n",
      "Epoch 100/300, Train Loss: 0.3518, Test Loss: 1.0204\n",
      "Epoch 105/300, Train Loss: 0.3339, Test Loss: 0.9615\n",
      "Epoch 110/300, Train Loss: 0.2916, Test Loss: 1.0536\n",
      "Epoch 115/300, Train Loss: 0.3665, Test Loss: 1.1215\n",
      "Epoch 120/300, Train Loss: 0.3930, Test Loss: 1.0907\n",
      "Epoch 125/300, Train Loss: 0.3080, Test Loss: 1.1252\n",
      "Epoch 130/300, Train Loss: 0.2546, Test Loss: 1.1506\n",
      "Epoch 135/300, Train Loss: 0.2380, Test Loss: 1.1943\n",
      "Epoch 140/300, Train Loss: 0.2113, Test Loss: 1.3097\n",
      "Epoch 145/300, Train Loss: 0.1896, Test Loss: 1.3305\n",
      "Epoch 150/300, Train Loss: 0.1714, Test Loss: 1.4105\n",
      "Epoch 155/300, Train Loss: 0.1812, Test Loss: 1.5635\n",
      "Epoch 160/300, Train Loss: 0.2632, Test Loss: 1.4035\n",
      "Epoch 165/300, Train Loss: 0.2729, Test Loss: 1.4400\n",
      "Epoch 170/300, Train Loss: 0.1995, Test Loss: 1.6421\n",
      "Epoch 175/300, Train Loss: 0.1721, Test Loss: 1.4832\n",
      "Epoch 180/300, Train Loss: 0.1529, Test Loss: 1.6555\n",
      "Epoch 185/300, Train Loss: 0.1286, Test Loss: 1.6996\n",
      "Epoch 190/300, Train Loss: 0.1122, Test Loss: 1.8169\n",
      "Epoch 195/300, Train Loss: 0.0998, Test Loss: 1.8579\n",
      "Epoch 200/300, Train Loss: 0.0903, Test Loss: 1.9337\n",
      "Epoch 205/300, Train Loss: 0.1980, Test Loss: 2.0623\n",
      "Epoch 210/300, Train Loss: 0.0999, Test Loss: 1.9909\n",
      "Epoch 215/300, Train Loss: 0.0990, Test Loss: 1.8815\n",
      "Epoch 220/300, Train Loss: 0.0960, Test Loss: 1.9840\n",
      "Epoch 225/300, Train Loss: 0.0798, Test Loss: 2.0480\n",
      "Epoch 230/300, Train Loss: 0.0678, Test Loss: 2.0117\n",
      "Epoch 235/300, Train Loss: 0.0591, Test Loss: 2.1319\n",
      "Epoch 240/300, Train Loss: 0.0514, Test Loss: 2.1242\n",
      "Epoch 245/300, Train Loss: 0.0453, Test Loss: 2.2554\n",
      "Epoch 250/300, Train Loss: 0.0730, Test Loss: 2.3260\n",
      "Epoch 255/300, Train Loss: 0.0558, Test Loss: 2.3148\n",
      "Epoch 260/300, Train Loss: 0.0462, Test Loss: 2.3493\n",
      "Epoch 265/300, Train Loss: 0.0320, Test Loss: 2.3538\n",
      "Epoch 270/300, Train Loss: 0.0265, Test Loss: 2.4546\n",
      "Epoch 275/300, Train Loss: 0.0206, Test Loss: 2.5060\n",
      "Epoch 280/300, Train Loss: 0.0153, Test Loss: 2.5878\n",
      "Epoch 285/300, Train Loss: 0.0121, Test Loss: 2.6432\n",
      "Epoch 290/300, Train Loss: 0.0090, Test Loss: 2.7520\n",
      "Epoch 295/300, Train Loss: 0.0070, Test Loss: 2.8688\n",
      "Epoch 300/300, Train Loss: 0.0053, Test Loss: 2.9428\n"
     ]
    }
   ],
   "source": [
    "train_losses, test_losses = full_gd(model, \n",
    "                                   criterion, \n",
    "                                   optimizer, \n",
    "                                   X_train, \n",
    "                                   y_train, \n",
    "                                   X_test, \n",
    "                                   y_test, \n",
    "                                   epochs=300)"
   ]
  },
  {
   "cell_type": "code",
   "execution_count": 100,
   "metadata": {},
   "outputs": [
    {
     "data": {
      "image/png": "[encoded data removed]",
      "text/plain": [
       "<Figure size 432x288 with 1 Axes>"
      ]
     },
     "metadata": {
      "needs_background": "light"
     },
     "output_type": "display_data"
    }
   ],
   "source": [
    "plt.plot(train_losses, label=\"train loss\")\n",
    "plt.plot(test_losses, label=\"test loss\")\n",
    "plt.legend()\n",
    "plt.show()"
   ]
  },
  {
   "cell_type": "code",
   "execution_count": 102,
   "metadata": {},
   "outputs": [
    {
     "name": "stdout",
     "output_type": "stream",
     "text": [
      "train acc: 1.0000, test acc: 0.5146\n"
     ]
    }
   ],
   "source": [
    "with torch.no_grad():\n",
    "    p_train = model(X_train)\n",
    "    p_train = (p_train.cpu().numpy() > 0)\n",
    "    train_acc = np.mean(y_train.cpu().numpy() == p_train)\n",
    "    \n",
    "    p_test = model(X_test)\n",
    "    p_test = (p_test.cpu().numpy() == p_test)\n",
    "    test_acc = np.mean(y_test.cpu().numpy() == p_test)\n",
    "print(f\"train acc: {train_acc:.4f}, test acc: {test_acc:.4f}\")"
   ]
  },
  {
   "cell_type": "code",
   "execution_count": null,
   "metadata": {},
   "outputs": [],
   "source": []
  }
 ],
 "metadata": {
  "colab": {
   "name": "PyTorch Stock Returns.ipynb",
   "provenance": []
  },
  "kernelspec": {
   "display_name": "Python 3",
   "language": "python",
   "name": "python3"
  },
  "language_info": {
   "codemirror_mode": {
    "name": "ipython",
    "version": 3
   },
   "file_extension": ".py",
   "mimetype": "text/x-python",
   "name": "python",
   "nbconvert_exporter": "python",
   "pygments_lexer": "ipython3",
   "version": "3.8.5"
  }
 },
 "nbformat": 4,
 "nbformat_minor": 1
}
