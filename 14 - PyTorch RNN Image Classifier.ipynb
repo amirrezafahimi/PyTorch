{
  "nbformat": 4,
  "nbformat_minor": 0,
  "metadata": {
    "colab": {
      "name": "PyTorch RNN Image Classifier.ipynb",
      "provenance": []
    },
    "kernelspec": {
      "name": "python3",
      "display_name": "Python 3"
    },
    "accelerator": "GPU"
  },
  "cells": [
    {
      "cell_type": "code",
      "metadata": {
        "id": "WzatqHxzNomt"
      },
      "source": [
        "import numpy as np\r\n",
        "import matplotlib.pyplot as plt\r\n",
        "\r\n",
        "import torch\r\n",
        "import torch.nn as nn\r\n",
        "import torchvision\r\n",
        "import torchvision.transforms as transforms\r\n",
        "from torchsummary import summary\r\n",
        "\r\n",
        "from sklearn.metrics import confusion_matrix\r\n",
        "\r\n",
        "from datetime import datetime\r\n",
        "import itertools"
      ],
      "execution_count": 55,
      "outputs": []
    },
    {
      "cell_type": "code",
      "metadata": {
        "colab": {
          "base_uri": "https://localhost:8080/"
        },
        "id": "LUPZnb62OD54",
        "outputId": "48101ba9-2be4-40bf-d318-ba156b886e9d"
      },
      "source": [
        "train_dataset = torchvision.datasets.MNIST(root=\".\", \r\n",
        "                           train=True, \r\n",
        "                           transform=transforms.ToTensor(), \r\n",
        "                           download=True)\r\n",
        "print(train_dataset.data.shape)\r\n",
        "\r\n",
        "test_dataset = torchvision.datasets.MNIST(root=\".\", \r\n",
        "                                          train=False, \r\n",
        "                                          transform=transforms.ToTensor(), \r\n",
        "                                          download=True)\r\n",
        "print(test_dataset.data.shape)"
      ],
      "execution_count": 43,
      "outputs": [
        {
          "output_type": "stream",
          "text": [
            "torch.Size([60000, 28, 28])\n",
            "torch.Size([10000, 28, 28])\n"
          ],
          "name": "stdout"
        }
      ]
    },
    {
      "cell_type": "code",
      "metadata": {
        "id": "rigdeDF0PCr9"
      },
      "source": [
        "batch_size = 128\r\n",
        "train_loader = torch.utils.data.DataLoader(dataset=train_dataset, \r\n",
        "                                           batch_size=batch_size, \r\n",
        "                                           shuffle=True)\r\n",
        "test_loader = torch.utils.data.DataLoader(dataset=test_dataset, \r\n",
        "                                          batch_size=batch_size, \r\n",
        "                                          shuffle=False)"
      ],
      "execution_count": 44,
      "outputs": []
    },
    {
      "cell_type": "code",
      "metadata": {
        "id": "BjG-EiQUPuQh"
      },
      "source": [
        "class RNN(nn.Module):\r\n",
        "  def __init__(self, n_inputs, n_hidden, n_rnnlayers, n_outputs):\r\n",
        "    super(RNN, self).__init__()\r\n",
        "    self.D = n_inputs\r\n",
        "    self.M = n_hidden\r\n",
        "    self.L = n_rnnlayers\r\n",
        "    self.K = n_outputs\r\n",
        "    \r\n",
        "    self.rnn = nn.LSTM(input_size=self.D, \r\n",
        "                       hidden_size=self.M, \r\n",
        "                       num_layers=self.L, \r\n",
        "                       batch_first=True)\r\n",
        "    self.fc = nn.Linear(in_features=self.M, \r\n",
        "                        out_features=self.K)\r\n",
        "    \r\n",
        "  def forward(self, X):\r\n",
        "    h0 = torch.zeros(self.L, X.size(0), self.M).to(device)\r\n",
        "    c0 = torch.zeros(self.L, X.size(0), self.M).to(device)\r\n",
        "\r\n",
        "    out, _ = self.rnn(X, (h0, c0))\r\n",
        "    out = self.fc(out[:, -1, :])\r\n",
        "\r\n",
        "    return out"
      ],
      "execution_count": 45,
      "outputs": []
    },
    {
      "cell_type": "code",
      "metadata": {
        "id": "zLnUGvAqQ6aG"
      },
      "source": [
        "model = RNN(28, 128, 2, 10)"
      ],
      "execution_count": 46,
      "outputs": []
    },
    {
      "cell_type": "code",
      "metadata": {
        "colab": {
          "base_uri": "https://localhost:8080/"
        },
        "id": "eZymEHyIRFxB",
        "outputId": "504d87b2-c407-4559-96b3-be56d6107e7a"
      },
      "source": [
        "device = torch.device(\"cuda:0\" if torch.cuda.is_available() else \"cpu\")\r\n",
        "print(device)\r\n",
        "model.to(device)"
      ],
      "execution_count": 47,
      "outputs": [
        {
          "output_type": "stream",
          "text": [
            "cuda:0\n"
          ],
          "name": "stdout"
        },
        {
          "output_type": "execute_result",
          "data": {
            "text/plain": [
              "RNN(\n",
              "  (rnn): LSTM(28, 128, num_layers=2, batch_first=True)\n",
              "  (fc): Linear(in_features=128, out_features=10, bias=True)\n",
              ")"
            ]
          },
          "metadata": {
            "tags": []
          },
          "execution_count": 47
        }
      ]
    },
    {
      "cell_type": "code",
      "metadata": {
        "id": "TYuHqk9BROP_"
      },
      "source": [
        "criterion = nn.CrossEntropyLoss()\r\n",
        "optimizer = torch.optim.Adam(params=model.parameters())"
      ],
      "execution_count": 48,
      "outputs": []
    },
    {
      "cell_type": "code",
      "metadata": {
        "colab": {
          "base_uri": "https://localhost:8080/"
        },
        "id": "d_fAp_wkRlZo",
        "outputId": "3c987622-c201-4a2e-9c64-c001b778185e"
      },
      "source": [
        "n_epochs = 10\r\n",
        "\r\n",
        "train_losses = np.zeros(n_epochs)\r\n",
        "test_losses = np.zeros(n_epochs)\r\n",
        "\r\n",
        "for epoch in range(n_epochs):\r\n",
        "\r\n",
        "  train_loss = []\r\n",
        "  for inputs, targets in train_loader:\r\n",
        "    inputs, targets = inputs.to(device), targets.to(device)\r\n",
        "\r\n",
        "    inputs = inputs.view(-1, 28, 28)\r\n",
        "\r\n",
        "    optimizer.zero_grad()\r\n",
        "\r\n",
        "    outputs = model(inputs)\r\n",
        "    loss = criterion(outputs, targets)\r\n",
        "    train_loss.append(loss.item())\r\n",
        "\r\n",
        "    loss.backward()\r\n",
        "    optimizer.step()\r\n",
        "  train_loss = np.mean(train_loss)\r\n",
        "  train_losses[epoch] = train_loss\r\n",
        "\r\n",
        "  test_loss = []\r\n",
        "  for inputs, targets in test_loader:\r\n",
        "    inputs, targets = inputs.to(device), targets.to(device)\r\n",
        "\r\n",
        "    inputs = inputs.view(-1, 28, 28)\r\n",
        "\r\n",
        "    outputs = model(inputs)\r\n",
        "    loss = criterion(outputs, targets)\r\n",
        "    test_loss.append(loss.item())\r\n",
        "\r\n",
        "  test_loss = np.mean(test_loss)\r\n",
        "  test_losses[epoch] = test_loss\r\n",
        "\r\n",
        "  print(f\"Epoch {epoch + 1}/{n_epochs}, Train Loss: {train_loss:.4f}, Test Loss: {test_loss:.4f}\")"
      ],
      "execution_count": 49,
      "outputs": [
        {
          "output_type": "stream",
          "text": [
            "Epoch 1/10, Train Loss: 0.5425, Test Loss: 0.1627\n",
            "Epoch 2/10, Train Loss: 0.1305, Test Loss: 0.0928\n",
            "Epoch 3/10, Train Loss: 0.0823, Test Loss: 0.0777\n",
            "Epoch 4/10, Train Loss: 0.0618, Test Loss: 0.0556\n",
            "Epoch 5/10, Train Loss: 0.0489, Test Loss: 0.0617\n",
            "Epoch 6/10, Train Loss: 0.0412, Test Loss: 0.0433\n",
            "Epoch 7/10, Train Loss: 0.0341, Test Loss: 0.0447\n",
            "Epoch 8/10, Train Loss: 0.0336, Test Loss: 0.0404\n",
            "Epoch 9/10, Train Loss: 0.0261, Test Loss: 0.0420\n",
            "Epoch 10/10, Train Loss: 0.0255, Test Loss: 0.0362\n"
          ],
          "name": "stdout"
        }
      ]
    },
    {
      "cell_type": "code",
      "metadata": {
        "colab": {
          "base_uri": "https://localhost:8080/",
          "height": 282
        },
        "id": "Z4p79sdxSp48",
        "outputId": "5412d70b-d50f-4b26-8bf9-54f3092f3ec1"
      },
      "source": [
        "plt.plot(train_losses, label=\"train loss\")\r\n",
        "plt.plot(test_losses, label=\"test loss\")\r\n",
        "plt.legend()\r\n",
        "plt.plot()"
      ],
      "execution_count": 50,
      "outputs": [
        {
          "output_type": "execute_result",
          "data": {
            "text/plain": [
              "[]"
            ]
          },
          "metadata": {
            "tags": []
          },
          "execution_count": 50
        },
        {
          "output_type": "display_data",
          "data": {
            "image/png": "[encoded data removed]",
            "text/plain": [
              "<Figure size 432x288 with 1 Axes>"
            ]
          },
          "metadata": {
            "tags": [],
            "needs_background": "light"
          }
        }
      ]
    },
    {
      "cell_type": "code",
      "metadata": {
        "id": "3-3fnToFU1LF"
      },
      "source": [
        "n_correct = 0\r\n",
        "n_total = 0\r\n",
        "\r\n",
        "for inputs, targets in test_loader:\r\n",
        "  inputs, targets = inputs.to(device), targets.to(device)\r\n",
        "  inputs = inputs.view(-1, 28, 28)\r\n",
        "\r\n",
        "  outputs = model(inputs)\r\n",
        "  _, predictions = torch.max(outputs, 1)\r\n",
        "\r\n",
        "  n_correct += (predictions == targets).sum().item()\r\n",
        "  n_total += targets.shape[0]\r\n",
        "\r\n",
        "test_acc = n_correct / n_total\r\n",
        "\r\n",
        "n_correct = 0\r\n",
        "n_total = 0\r\n",
        "\r\n",
        "for inputs, targets in train_loader:\r\n",
        "  inputs, targets = inputs.to(device), targets.to(device)\r\n",
        "  inputs = inputs.view(-1, 28, 28)\r\n",
        "\r\n",
        "  outputs = model(inputs)\r\n",
        "  _, predictions = torch.max(outputs, 1)\r\n",
        "\r\n",
        "  n_correct += (predictions == targets).sum().item()\r\n",
        "  n_total += targets.shape[0]\r\n",
        "\r\n",
        "train_acc = n_correct / n_total"
      ],
      "execution_count": 51,
      "outputs": []
    },
    {
      "cell_type": "code",
      "metadata": {
        "colab": {
          "base_uri": "https://localhost:8080/"
        },
        "id": "jKqsGsz_VtKH",
        "outputId": "3c53e83f-cb26-4e83-8d0e-e57891bb67d7"
      },
      "source": [
        "print(f\"Train acc: {train_acc:.4f}, Test acc: {test_acc:.4f}\")"
      ],
      "execution_count": 52,
      "outputs": [
        {
          "output_type": "stream",
          "text": [
            "Train acc: 0.9948, Test acc: 0.9894\n"
          ],
          "name": "stdout"
        }
      ]
    },
    {
      "cell_type": "code",
      "metadata": {
        "id": "-O9QMI-LVuRp"
      },
      "source": [
        "def plot_confucsion_matrix(cm, classes, \r\n",
        "                           normalize=False,\r\n",
        "                           title=\"Confusion Matrix\", \r\n",
        "                           cmap=plt.cm.Blues):\r\n",
        "    \"\"\"\r\n",
        "    This function prints and plots the confusion matrix.\r\n",
        "    Normalization can be applied by setting `normalize=True`.\r\n",
        "    \"\"\"\r\n",
        "\r\n",
        "    if normalize:\r\n",
        "        cm = cm.astype(\"float\") / cm.sum(axis=1)[:, np.newaxis]\r\n",
        "        print(\"normalized confusion matrix\")\r\n",
        "    else:\r\n",
        "        print(\"Confusion matrix, without normalization\")    \r\n",
        "\r\n",
        "    print(cm)\r\n",
        "\r\n",
        "    plt.imshow(cm, interpolation=\"nearest\", cmap=cmap)\r\n",
        "    plt.title(title)\r\n",
        "    plt.colorbar()\r\n",
        "    tick_marks = np.arange(len(classes))\r\n",
        "    plt.xticks(tick_marks, classes, rotation=90)\r\n",
        "    plt.yticks(tick_marks, classes)\r\n",
        "\r\n",
        "    fmt = \".2f\" if normalize else \"d\"\r\n",
        "    thresh = cm.max() / 2.\r\n",
        "    for i, j in itertools.product(range(cm.shape[0]), range(cm.shape[1])):\r\n",
        "        plt.text(j, i, format(cm[i, j], fmt),   \r\n",
        "                 horizontalalignment=\"center\",           \r\n",
        "                 color=\"white\" if cm[i, j] > thresh else \"black\")\r\n",
        "\r\n",
        "    plt.tight_layout()\r\n",
        "    plt.ylabel(\"True label\")\r\n",
        "    plt.xlabel(\"Predicted label\")\r\n",
        "    plt.show()"
      ],
      "execution_count": 56,
      "outputs": []
    },
    {
      "cell_type": "code",
      "metadata": {
        "colab": {
          "base_uri": "https://localhost:8080/",
          "height": 498
        },
        "id": "c9CK52NAYjHa",
        "outputId": "ccc26b7f-ab28-455d-e616-7bb951d3250f"
      },
      "source": [
        "labels = \"\"\"one\r\n",
        "two\r\n",
        "three\r\n",
        "four\r\n",
        "five\r\n",
        "six\r\n",
        "seven\r\n",
        "eight\r\n",
        "nine\r\n",
        "ten\"\"\".split(\"\\n\")\r\n",
        "\r\n",
        "x_test = test_dataset.data.numpy()\r\n",
        "y_test = test_dataset.targets.numpy()\r\n",
        "p_test = np.array([])\r\n",
        "\r\n",
        "for inputs, targets in test_loader:\r\n",
        "    inputs = inputs.to(device)\r\n",
        "\r\n",
        "    inputs = inputs.view(-1, 28, 28)\r\n",
        "\r\n",
        "    outputs = model(inputs)\r\n",
        "\r\n",
        "    _, predictions = torch.max(outputs, 1)\r\n",
        "\r\n",
        "    p_test = np.concatenate((p_test, predictions.cpu().numpy()))\r\n",
        "\r\n",
        "cm = confusion_matrix(y_test, p_test)\r\n",
        "plot_confucsion_matrix(cm, labels)"
      ],
      "execution_count": 59,
      "outputs": [
        {
          "output_type": "stream",
          "text": [
            "Confusion matrix, without normalization\n",
            "[[ 975    0    0    0    0    0    3    1    1    0]\n",
            " [   0 1134    0    0    0    0    1    0    0    0]\n",
            " [   2    2 1021    1    1    0    1    0    3    1]\n",
            " [   0    0    1 1003    0    1    0    0    3    2]\n",
            " [   0    0    2    0  970    0    4    1    0    5]\n",
            " [   2    0    0    6    0  878    2    0    1    3]\n",
            " [   2    2    0    0    2    2  948    0    2    0]\n",
            " [   0    2    8    1    0    0    0 1012    1    4]\n",
            " [   0    0    1    1    1    2    0    3  966    0]\n",
            " [   1    0    0    2   13    1    0    3    2  987]]\n"
          ],
          "name": "stdout"
        },
        {
          "output_type": "display_data",
          "data": {
            "image/png": "[encoded data removed]",
            "text/plain": [
              "<Figure size 432x288 with 2 Axes>"
            ]
          },
          "metadata": {
            "tags": [],
            "needs_background": "light"
          }
        }
      ]
    },
    {
      "cell_type": "code",
      "metadata": {
        "colab": {
          "base_uri": "https://localhost:8080/",
          "height": 281
        },
        "id": "XdIZ8q78Ylhf",
        "outputId": "2cc63b8f-0ff6-4b17-cf70-bacedc45fd12"
      },
      "source": [
        "misclassifed_idx = np.where(p_test != y_test)[0]\r\n",
        "i = np.random.choice(misclassifed_idx)\r\n",
        "plt.imshow(x_test[i], cmap=\"gray\")\r\n",
        "plt.title(\"True Label: %s predicted: %s\" % (labels[y_test[i]], labels[int(p_test[i])]))\r\n",
        "plt.show()"
      ],
      "execution_count": 67,
      "outputs": [
        {
          "output_type": "display_data",
          "data": {
            "image/png": "[encoded data removed]",
            "text/plain": [
              "<Figure size 432x288 with 1 Axes>"
            ]
          },
          "metadata": {
            "tags": [],
            "needs_background": "light"
          }
        }
      ]
    },
    {
      "cell_type": "code",
      "metadata": {
        "id": "-T7DPY4nY8jr"
      },
      "source": [
        ""
      ],
      "execution_count": null,
      "outputs": []
    }
  ]
}