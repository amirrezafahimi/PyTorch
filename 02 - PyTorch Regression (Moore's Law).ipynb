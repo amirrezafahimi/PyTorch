{
 "cells": [
  {
   "cell_type": "code",
   "execution_count": 1,
   "metadata": {},
   "outputs": [],
   "source": [
    "import numpy as np\n",
    "import pandas as pd\n",
    "import torch\n",
    "import torch.nn as nn\n",
    "\n",
    "import matplotlib.pyplot as plt\n",
    "%matplotlib inline"
   ]
  },
  {
   "cell_type": "code",
   "execution_count": 12,
   "metadata": {},
   "outputs": [],
   "source": [
    "df = pd.read_csv(\"Data/moore.csv\", header=None).values"
   ]
  },
  {
   "cell_type": "code",
   "execution_count": 14,
   "metadata": {},
   "outputs": [
    {
     "data": {
      "text/plain": [
       "array([[1971, 2300],\n",
       "       [1972, 3500],\n",
       "       [1973, 2500],\n",
       "       [1973, 2500],\n",
       "       [1974, 4100],\n",
       "       [1974, 4500],\n",
       "       [1974, 8000],\n",
       "       [1975, 3510],\n",
       "       [1976, 5000],\n",
       "       [1976, 8500]], dtype=int64)"
      ]
     },
     "execution_count": 14,
     "metadata": {},
     "output_type": "execute_result"
    }
   ],
   "source": [
    "df[:10]"
   ]
  },
  {
   "cell_type": "code",
   "execution_count": 23,
   "metadata": {},
   "outputs": [],
   "source": [
    "X = df[:, 0].reshape((-1, 1))\n",
    "Y = df[:, 1].reshape((-1, 1))"
   ]
  },
  {
   "cell_type": "code",
   "execution_count": 25,
   "metadata": {},
   "outputs": [
    {
     "data": {
      "text/plain": [
       "<matplotlib.collections.PathCollection at 0x1ea9a0c1160>"
      ]
     },
     "execution_count": 25,
     "metadata": {},
     "output_type": "execute_result"
    },
    {
     "data": {
      "image/png": "[encoded data removed]",
      "text/plain": [
       "<Figure size 432x288 with 1 Axes>"
      ]
     },
     "metadata": {
      "needs_background": "light"
     },
     "output_type": "display_data"
    }
   ],
   "source": [
    "plt.scatter(X, Y)"
   ]
  },
  {
   "cell_type": "code",
   "execution_count": 27,
   "metadata": {},
   "outputs": [
    {
     "data": {
      "text/plain": [
       "<matplotlib.collections.PathCollection at 0x1ea9991c280>"
      ]
     },
     "execution_count": 27,
     "metadata": {},
     "output_type": "execute_result"
    },
    {
     "data": {
      "image/png": "[encoded data removed]",
      "text/plain": [
       "<Figure size 432x288 with 1 Axes>"
      ]
     },
     "metadata": {
      "needs_background": "light"
     },
     "output_type": "display_data"
    }
   ],
   "source": [
    "Y = np.log(Y)\n",
    "plt.scatter(X, Y)"
   ]
  },
  {
   "cell_type": "code",
   "execution_count": 44,
   "metadata": {},
   "outputs": [],
   "source": [
    "mx = X.mean()\n",
    "sx = X.std()\n",
    "my = Y.mean()\n",
    "sy = Y.std()"
   ]
  },
  {
   "cell_type": "code",
   "execution_count": 46,
   "metadata": {},
   "outputs": [],
   "source": [
    "X = (X - mx) / sx\n",
    "Y = (Y - my) / sy"
   ]
  },
  {
   "cell_type": "code",
   "execution_count": 47,
   "metadata": {},
   "outputs": [
    {
     "data": {
      "text/plain": [
       "<matplotlib.collections.PathCollection at 0x1ea99da2af0>"
      ]
     },
     "execution_count": 47,
     "metadata": {},
     "output_type": "execute_result"
    },
    {
     "data": {
      "image/png": "[encoded data removed]",
      "text/plain": [
       "<Figure size 432x288 with 1 Axes>"
      ]
     },
     "metadata": {
      "needs_background": "light"
     },
     "output_type": "display_data"
    }
   ],
   "source": [
    "plt.scatter(X, Y)"
   ]
  },
  {
   "cell_type": "code",
   "execution_count": 48,
   "metadata": {},
   "outputs": [],
   "source": [
    "X = X.astype(np.float32)\n",
    "Y = Y.astype(np.float32)"
   ]
  },
  {
   "cell_type": "code",
   "execution_count": 76,
   "metadata": {},
   "outputs": [],
   "source": [
    "model = nn.Linear(1, 1)\n",
    "\n",
    "criterion = nn.MSELoss()\n",
    "optimizer = torch.optim.SGD(params=model.parameters(), lr=0.01, momentum=0.7)"
   ]
  },
  {
   "cell_type": "code",
   "execution_count": 77,
   "metadata": {},
   "outputs": [],
   "source": [
    "inputs = torch.from_numpy(X)\n",
    "targets = torch.from_numpy(Y)"
   ]
  },
  {
   "cell_type": "code",
   "execution_count": 78,
   "metadata": {},
   "outputs": [
    {
     "name": "stdout",
     "output_type": "stream",
     "text": [
      "Epoch 1/100: loss: 0.0776\n",
      "Epoch 2/100: loss: 0.0761\n",
      "Epoch 3/100: loss: 0.0735\n",
      "Epoch 4/100: loss: 0.0705\n",
      "Epoch 5/100: loss: 0.0672\n",
      "Epoch 6/100: loss: 0.0639\n",
      "Epoch 7/100: loss: 0.0607\n",
      "Epoch 8/100: loss: 0.0578\n",
      "Epoch 9/100: loss: 0.0552\n",
      "Epoch 10/100: loss: 0.0528\n",
      "Epoch 11/100: loss: 0.0507\n",
      "Epoch 12/100: loss: 0.0489\n",
      "Epoch 13/100: loss: 0.0473\n",
      "Epoch 14/100: loss: 0.0460\n",
      "Epoch 15/100: loss: 0.0448\n",
      "Epoch 16/100: loss: 0.0438\n",
      "Epoch 17/100: loss: 0.0430\n",
      "Epoch 18/100: loss: 0.0423\n",
      "Epoch 19/100: loss: 0.0417\n",
      "Epoch 20/100: loss: 0.0412\n",
      "Epoch 21/100: loss: 0.0407\n",
      "Epoch 22/100: loss: 0.0404\n",
      "Epoch 23/100: loss: 0.0401\n",
      "Epoch 24/100: loss: 0.0398\n",
      "Epoch 25/100: loss: 0.0396\n",
      "Epoch 26/100: loss: 0.0394\n",
      "Epoch 27/100: loss: 0.0393\n",
      "Epoch 28/100: loss: 0.0391\n",
      "Epoch 29/100: loss: 0.0390\n",
      "Epoch 30/100: loss: 0.0389\n",
      "Epoch 31/100: loss: 0.0389\n",
      "Epoch 32/100: loss: 0.0388\n",
      "Epoch 33/100: loss: 0.0388\n",
      "Epoch 34/100: loss: 0.0387\n",
      "Epoch 35/100: loss: 0.0387\n",
      "Epoch 36/100: loss: 0.0386\n",
      "Epoch 37/100: loss: 0.0386\n",
      "Epoch 38/100: loss: 0.0386\n",
      "Epoch 39/100: loss: 0.0386\n",
      "Epoch 40/100: loss: 0.0386\n",
      "Epoch 41/100: loss: 0.0385\n",
      "Epoch 42/100: loss: 0.0385\n",
      "Epoch 43/100: loss: 0.0385\n",
      "Epoch 44/100: loss: 0.0385\n",
      "Epoch 45/100: loss: 0.0385\n",
      "Epoch 46/100: loss: 0.0385\n",
      "Epoch 47/100: loss: 0.0385\n",
      "Epoch 48/100: loss: 0.0385\n",
      "Epoch 49/100: loss: 0.0385\n",
      "Epoch 50/100: loss: 0.0385\n",
      "Epoch 51/100: loss: 0.0385\n",
      "Epoch 52/100: loss: 0.0385\n",
      "Epoch 53/100: loss: 0.0385\n",
      "Epoch 54/100: loss: 0.0385\n",
      "Epoch 55/100: loss: 0.0385\n",
      "Epoch 56/100: loss: 0.0385\n",
      "Epoch 57/100: loss: 0.0385\n",
      "Epoch 58/100: loss: 0.0385\n",
      "Epoch 59/100: loss: 0.0385\n",
      "Epoch 60/100: loss: 0.0385\n",
      "Epoch 61/100: loss: 0.0385\n",
      "Epoch 62/100: loss: 0.0385\n",
      "Epoch 63/100: loss: 0.0385\n",
      "Epoch 64/100: loss: 0.0385\n",
      "Epoch 65/100: loss: 0.0385\n",
      "Epoch 66/100: loss: 0.0385\n",
      "Epoch 67/100: loss: 0.0385\n",
      "Epoch 68/100: loss: 0.0385\n",
      "Epoch 69/100: loss: 0.0385\n",
      "Epoch 70/100: loss: 0.0385\n",
      "Epoch 71/100: loss: 0.0385\n",
      "Epoch 72/100: loss: 0.0385\n",
      "Epoch 73/100: loss: 0.0385\n",
      "Epoch 74/100: loss: 0.0385\n",
      "Epoch 75/100: loss: 0.0385\n",
      "Epoch 76/100: loss: 0.0385\n",
      "Epoch 77/100: loss: 0.0385\n",
      "Epoch 78/100: loss: 0.0385\n",
      "Epoch 79/100: loss: 0.0385\n",
      "Epoch 80/100: loss: 0.0385\n",
      "Epoch 81/100: loss: 0.0385\n",
      "Epoch 82/100: loss: 0.0385\n",
      "Epoch 83/100: loss: 0.0385\n",
      "Epoch 84/100: loss: 0.0385\n",
      "Epoch 85/100: loss: 0.0385\n",
      "Epoch 86/100: loss: 0.0385\n",
      "Epoch 87/100: loss: 0.0385\n",
      "Epoch 88/100: loss: 0.0385\n",
      "Epoch 89/100: loss: 0.0385\n",
      "Epoch 90/100: loss: 0.0385\n",
      "Epoch 91/100: loss: 0.0385\n",
      "Epoch 92/100: loss: 0.0385\n",
      "Epoch 93/100: loss: 0.0385\n",
      "Epoch 94/100: loss: 0.0385\n",
      "Epoch 95/100: loss: 0.0385\n",
      "Epoch 96/100: loss: 0.0385\n",
      "Epoch 97/100: loss: 0.0385\n",
      "Epoch 98/100: loss: 0.0385\n",
      "Epoch 99/100: loss: 0.0385\n",
      "Epoch 100/100: loss: 0.0385\n"
     ]
    }
   ],
   "source": [
    "n_epochs = 100\n",
    "losses = []\n",
    "\n",
    "for epoch in range(100):\n",
    "    optimizer.zero_grad()\n",
    "    \n",
    "    outputs = model(inputs)\n",
    "    loss = criterion(outputs, targets)\n",
    "    losses.append(loss.item())\n",
    "    \n",
    "    loss.backward()\n",
    "    optimizer.step()\n",
    "    \n",
    "    print(f\"Epoch {epoch + 1}/{n_epochs}: loss: {loss.item():.4f}\")"
   ]
  },
  {
   "cell_type": "code",
   "execution_count": 79,
   "metadata": {},
   "outputs": [
    {
     "data": {
      "text/plain": [
       "[<matplotlib.lines.Line2D at 0x1ea9adcd520>]"
      ]
     },
     "execution_count": 79,
     "metadata": {},
     "output_type": "execute_result"
    },
    {
     "data": {
      "image/png": "[encoded data removed]",
      "text/plain": [
       "<Figure size 432x288 with 1 Axes>"
      ]
     },
     "metadata": {
      "needs_background": "light"
     },
     "output_type": "display_data"
    }
   ],
   "source": [
    "plt.plot(losses)"
   ]
  },
  {
   "cell_type": "code",
   "execution_count": 84,
   "metadata": {},
   "outputs": [
    {
     "data": {
      "image/png": "[encoded data removed]",
      "text/plain": [
       "<Figure size 432x288 with 1 Axes>"
      ]
     },
     "metadata": {
      "needs_background": "light"
     },
     "output_type": "display_data"
    }
   ],
   "source": [
    "predicted = model(torch.from_numpy(X)).detach().numpy()\n",
    "plt.scatter(X, Y, color=\"red\", label=\"original data\")\n",
    "plt.plot(X, predicted, color=\"blue\", label=\"predicted linear line\")\n",
    "plt.legend()\n",
    "plt.show()"
   ]
  },
  {
   "cell_type": "code",
   "execution_count": 91,
   "metadata": {},
   "outputs": [],
   "source": [
    "w = model.weight.detach().numpy()[0, 0]"
   ]
  },
  {
   "cell_type": "code",
   "execution_count": 92,
   "metadata": {},
   "outputs": [
    {
     "data": {
      "text/plain": [
       "0.98055834"
      ]
     },
     "execution_count": 92,
     "metadata": {},
     "output_type": "execute_result"
    }
   ],
   "source": [
    "w"
   ]
  },
  {
   "cell_type": "code",
   "execution_count": 96,
   "metadata": {},
   "outputs": [],
   "source": [
    "# The intercept after transformation is: \n",
    "a = w * sy / sx"
   ]
  },
  {
   "cell_type": "code",
   "execution_count": 97,
   "metadata": {},
   "outputs": [
    {
     "data": {
      "text/plain": [
       "0.3416780316201537"
      ]
     },
     "execution_count": 97,
     "metadata": {},
     "output_type": "execute_result"
    }
   ],
   "source": [
    "a"
   ]
  },
  {
   "cell_type": "code",
   "execution_count": 98,
   "metadata": {},
   "outputs": [
    {
     "data": {
      "text/plain": [
       "1.4073071161708464"
      ]
     },
     "execution_count": 98,
     "metadata": {},
     "output_type": "execute_result"
    }
   ],
   "source": [
    "np.exp(a)"
   ]
  },
  {
   "cell_type": "code",
   "execution_count": 99,
   "metadata": {},
   "outputs": [
    {
     "name": "stdout",
     "output_type": "stream",
     "text": [
      "Time to double: 2.028655975548708\n"
     ]
    }
   ],
   "source": [
    "print(f\"Time to double: {np.log(2) / a}\")"
   ]
  },
  {
   "cell_type": "markdown",
   "metadata": {},
   "source": [
    "## Unnormalized version"
   ]
  },
  {
   "cell_type": "code",
   "execution_count": 169,
   "metadata": {},
   "outputs": [],
   "source": [
    "X = df[:, 0]\n",
    "Y = df[:, 1]"
   ]
  },
  {
   "cell_type": "code",
   "execution_count": 170,
   "metadata": {},
   "outputs": [],
   "source": [
    "X = X.reshape((-1, 1))\n",
    "Y = Y.reshape((-1, 1))"
   ]
  },
  {
   "cell_type": "code",
   "execution_count": 171,
   "metadata": {},
   "outputs": [],
   "source": [
    "X = X.astype(np.float32)\n",
    "Y = Y.astype(np.float32)"
   ]
  },
  {
   "cell_type": "code",
   "execution_count": 172,
   "metadata": {},
   "outputs": [],
   "source": [
    "X = np.log(X)\n",
    "Y = np.log(Y)"
   ]
  },
  {
   "cell_type": "code",
   "execution_count": 173,
   "metadata": {},
   "outputs": [],
   "source": [
    "inputs = torch.from_numpy(X)\n",
    "targets = torch.from_numpy(Y)"
   ]
  },
  {
   "cell_type": "code",
   "execution_count": 174,
   "metadata": {},
   "outputs": [],
   "source": [
    "model = nn.Linear(1, 1)\n",
    "criterion = nn.MSELoss()\n",
    "optimizer = torch.optim.SGD(params=model.parameters(), lr=0.01, momentum=0.7)"
   ]
  },
  {
   "cell_type": "code",
   "execution_count": 175,
   "metadata": {},
   "outputs": [
    {
     "name": "stdout",
     "output_type": "stream",
     "text": [
      "Epoch 1/100: Loss: 354.7671\n",
      "Epoch 2/100: Loss: 354.7671\n",
      "Epoch 3/100: Loss: 354.7671\n",
      "Epoch 4/100: Loss: 354.7671\n",
      "Epoch 5/100: Loss: 354.7671\n",
      "Epoch 6/100: Loss: 354.7671\n",
      "Epoch 7/100: Loss: 354.7671\n",
      "Epoch 8/100: Loss: 354.7671\n",
      "Epoch 9/100: Loss: 354.7671\n",
      "Epoch 10/100: Loss: 354.7671\n",
      "Epoch 11/100: Loss: 354.7671\n",
      "Epoch 12/100: Loss: 354.7671\n",
      "Epoch 13/100: Loss: 354.7671\n",
      "Epoch 14/100: Loss: 354.7671\n",
      "Epoch 15/100: Loss: 354.7671\n",
      "Epoch 16/100: Loss: 354.7671\n",
      "Epoch 17/100: Loss: 354.7671\n",
      "Epoch 18/100: Loss: 354.7671\n",
      "Epoch 19/100: Loss: 354.7671\n",
      "Epoch 20/100: Loss: 354.7671\n",
      "Epoch 21/100: Loss: 354.7671\n",
      "Epoch 22/100: Loss: 354.7671\n",
      "Epoch 23/100: Loss: 354.7671\n",
      "Epoch 24/100: Loss: 354.7671\n",
      "Epoch 25/100: Loss: 354.7671\n",
      "Epoch 26/100: Loss: 354.7671\n",
      "Epoch 27/100: Loss: 354.7671\n",
      "Epoch 28/100: Loss: 354.7671\n",
      "Epoch 29/100: Loss: 354.7671\n",
      "Epoch 30/100: Loss: 354.7671\n",
      "Epoch 31/100: Loss: 354.7671\n",
      "Epoch 32/100: Loss: 354.7671\n",
      "Epoch 33/100: Loss: 354.7671\n",
      "Epoch 34/100: Loss: 354.7671\n",
      "Epoch 35/100: Loss: 354.7671\n",
      "Epoch 36/100: Loss: 354.7671\n",
      "Epoch 37/100: Loss: 354.7671\n",
      "Epoch 38/100: Loss: 354.7671\n",
      "Epoch 39/100: Loss: 354.7671\n",
      "Epoch 40/100: Loss: 354.7671\n",
      "Epoch 41/100: Loss: 354.7671\n",
      "Epoch 42/100: Loss: 354.7671\n",
      "Epoch 43/100: Loss: 354.7671\n",
      "Epoch 44/100: Loss: 354.7671\n",
      "Epoch 45/100: Loss: 354.7671\n",
      "Epoch 46/100: Loss: 354.7671\n",
      "Epoch 47/100: Loss: 354.7671\n",
      "Epoch 48/100: Loss: 354.7671\n",
      "Epoch 49/100: Loss: 354.7671\n",
      "Epoch 50/100: Loss: 354.7671\n",
      "Epoch 51/100: Loss: 354.7671\n",
      "Epoch 52/100: Loss: 354.7671\n",
      "Epoch 53/100: Loss: 354.7671\n",
      "Epoch 54/100: Loss: 354.7671\n",
      "Epoch 55/100: Loss: 354.7671\n",
      "Epoch 56/100: Loss: 354.7671\n",
      "Epoch 57/100: Loss: 354.7671\n",
      "Epoch 58/100: Loss: 354.7671\n",
      "Epoch 59/100: Loss: 354.7671\n",
      "Epoch 60/100: Loss: 354.7671\n",
      "Epoch 61/100: Loss: 354.7671\n",
      "Epoch 62/100: Loss: 354.7671\n",
      "Epoch 63/100: Loss: 354.7671\n",
      "Epoch 64/100: Loss: 354.7671\n",
      "Epoch 65/100: Loss: 354.7671\n",
      "Epoch 66/100: Loss: 354.7671\n",
      "Epoch 67/100: Loss: 354.7671\n",
      "Epoch 68/100: Loss: 354.7671\n",
      "Epoch 69/100: Loss: 354.7671\n",
      "Epoch 70/100: Loss: 354.7671\n",
      "Epoch 71/100: Loss: 354.7671\n",
      "Epoch 72/100: Loss: 354.7671\n",
      "Epoch 73/100: Loss: 354.7671\n",
      "Epoch 74/100: Loss: 354.7671\n",
      "Epoch 75/100: Loss: 354.7671\n",
      "Epoch 76/100: Loss: 354.7671\n",
      "Epoch 77/100: Loss: 354.7671\n",
      "Epoch 78/100: Loss: 354.7671\n",
      "Epoch 79/100: Loss: 354.7671\n",
      "Epoch 80/100: Loss: 354.7671\n",
      "Epoch 81/100: Loss: 354.7671\n",
      "Epoch 82/100: Loss: 354.7671\n",
      "Epoch 83/100: Loss: 354.7671\n",
      "Epoch 84/100: Loss: 354.7671\n",
      "Epoch 85/100: Loss: 354.7671\n",
      "Epoch 86/100: Loss: 354.7671\n",
      "Epoch 87/100: Loss: 354.7671\n",
      "Epoch 88/100: Loss: 354.7671\n",
      "Epoch 89/100: Loss: 354.7671\n",
      "Epoch 90/100: Loss: 354.7671\n",
      "Epoch 91/100: Loss: 354.7671\n",
      "Epoch 92/100: Loss: 354.7671\n",
      "Epoch 93/100: Loss: 354.7671\n",
      "Epoch 94/100: Loss: 354.7671\n",
      "Epoch 95/100: Loss: 354.7671\n",
      "Epoch 96/100: Loss: 354.7671\n",
      "Epoch 97/100: Loss: 354.7671\n",
      "Epoch 98/100: Loss: 354.7671\n",
      "Epoch 99/100: Loss: 354.7671\n",
      "Epoch 100/100: Loss: 354.7671\n"
     ]
    }
   ],
   "source": [
    "n_epochs = 100\n",
    "losses = []\n",
    "\n",
    "for epoch in range(n_epochs):\n",
    "    optimizer.zero_grad()\n",
    "    \n",
    "    outputs = model(inputs)\n",
    "    loss = criterion(outputs, targets)\n",
    "    losses.append(loss.item())\n",
    "    \n",
    "    loss.backward()\n",
    "    optimizer.step\n",
    "        \n",
    "    print(f\"Epoch {epoch + 1}/{n_epochs}: Loss: {loss.item():.4f}\")"
   ]
  },
  {
   "cell_type": "code",
   "execution_count": 122,
   "metadata": {},
   "outputs": [
    {
     "data": {
      "text/plain": [
       "[<matplotlib.lines.Line2D at 0x1ea9cdb84c0>]"
      ]
     },
     "execution_count": 122,
     "metadata": {},
     "output_type": "execute_result"
    },
    {
     "data": {
      "image/png": "[encoded data removed]",
      "text/plain": [
       "<Figure size 432x288 with 1 Axes>"
      ]
     },
     "metadata": {
      "needs_background": "light"
     },
     "output_type": "display_data"
    }
   ],
   "source": [
    "plt.plot(losses)"
   ]
  },
  {
   "cell_type": "code",
   "execution_count": null,
   "metadata": {},
   "outputs": [],
   "source": []
  },
  {
   "cell_type": "code",
   "execution_count": null,
   "metadata": {},
   "outputs": [],
   "source": []
  }
 ],
 "metadata": {
  "kernelspec": {
   "display_name": "Python 3",
   "language": "python",
   "name": "python3"
  },
  "language_info": {
   "codemirror_mode": {
    "name": "ipython",
    "version": 3
   },
   "file_extension": ".py",
   "mimetype": "text/x-python",
   "name": "python",
   "nbconvert_exporter": "python",
   "pygments_lexer": "ipython3",
   "version": "3.8.5"
  }
 },
 "nbformat": 4,
 "nbformat_minor": 4
}
