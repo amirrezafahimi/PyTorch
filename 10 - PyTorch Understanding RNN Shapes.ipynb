{
 "cells": [
  {
   "cell_type": "code",
   "execution_count": 1,
   "metadata": {},
   "outputs": [],
   "source": [
    "import numpy as np\n",
    "import matplotlib.pyplot as plt\n",
    "\n",
    "import torch\n",
    "import torch.nn as nn\n",
    "\n",
    "%matplotlib inline"
   ]
  },
  {
   "cell_type": "code",
   "execution_count": 3,
   "metadata": {},
   "outputs": [],
   "source": [
    "N = 1\n",
    "T = 10\n",
    "D = 3\n",
    "M = 5\n",
    "K = 2\n",
    "\n",
    "X = np.random.randn(N, T, D)"
   ]
  },
  {
   "cell_type": "code",
   "execution_count": 7,
   "metadata": {},
   "outputs": [
    {
     "data": {
      "text/plain": [
       "(1, 10, 3)"
      ]
     },
     "execution_count": 7,
     "metadata": {},
     "output_type": "execute_result"
    }
   ],
   "source": [
    "X.shape"
   ]
  },
  {
   "cell_type": "code",
   "execution_count": 12,
   "metadata": {},
   "outputs": [],
   "source": [
    "class SimpleRNN(nn.Module):\n",
    "    def __init__(self, n_inputs, n_hidden, n_outputs):\n",
    "        super(SimpleRNN, self).__init__()\n",
    "        self.D = n_inputs\n",
    "        self.M = n_hidden\n",
    "        self.K = n_outputs\n",
    "        self.rnn = nn.RNN(input_size=self.D, \n",
    "                         hidden_size=self.M, \n",
    "                         nonlinearity=\"tanh\", \n",
    "                         batch_first=True)\n",
    "        self.fc = nn.Linear(in_features=self.M, out_features=self.K)\n",
    "        \n",
    "    def forward(self, X):\n",
    "        h0 = torch.zeros(1, X.size(0), self.M)\n",
    "        \n",
    "        out, _ = self.rnn(X, h0)        \n",
    "        out = self.fc(out)\n",
    "        \n",
    "        return out"
   ]
  },
  {
   "cell_type": "code",
   "execution_count": 13,
   "metadata": {},
   "outputs": [],
   "source": [
    "model = SimpleRNN(n_inputs=D, n_hidden=M, n_outputs=K)"
   ]
  },
  {
   "cell_type": "code",
   "execution_count": 14,
   "metadata": {},
   "outputs": [
    {
     "data": {
      "text/plain": [
       "tensor([[[ 0.5987, -0.2216],\n",
       "         [ 0.7002, -0.6593],\n",
       "         [ 0.6124, -0.3099],\n",
       "         [ 0.6238, -0.4604],\n",
       "         [ 0.5325, -0.7311],\n",
       "         [ 0.5148, -0.1264],\n",
       "         [ 0.6934, -0.6686],\n",
       "         [ 0.2917, -0.5214],\n",
       "         [ 0.3582, -0.5384],\n",
       "         [ 0.7235, -0.5445]]], grad_fn=<AddBackward0>)"
      ]
     },
     "execution_count": 14,
     "metadata": {},
     "output_type": "execute_result"
    }
   ],
   "source": [
    "inputs = torch.from_numpy(X.astype(np.float32))\n",
    "out = model(inputs)\n",
    "out"
   ]
  },
  {
   "cell_type": "code",
   "execution_count": 15,
   "metadata": {},
   "outputs": [
    {
     "data": {
      "text/plain": [
       "torch.Size([1, 10, 2])"
      ]
     },
     "execution_count": 15,
     "metadata": {},
     "output_type": "execute_result"
    }
   ],
   "source": [
    "out.shape"
   ]
  },
  {
   "cell_type": "code",
   "execution_count": 17,
   "metadata": {},
   "outputs": [],
   "source": [
    "Yhats_torch = out.detach().numpy()"
   ]
  },
  {
   "cell_type": "code",
   "execution_count": 21,
   "metadata": {},
   "outputs": [
    {
     "data": {
      "text/plain": [
       "[Parameter containing:\n",
       " tensor([[-0.3180, -0.4152,  0.1189],\n",
       "         [-0.3502, -0.3808, -0.0015],\n",
       "         [ 0.2193, -0.1365,  0.0794],\n",
       "         [-0.2302, -0.2482, -0.0319],\n",
       "         [-0.0545, -0.2153, -0.1017]], requires_grad=True),\n",
       " Parameter containing:\n",
       " tensor([[-0.1560, -0.0367, -0.0564, -0.0230, -0.0830],\n",
       "         [-0.3804, -0.1069, -0.2608, -0.3025, -0.1604],\n",
       "         [ 0.1130,  0.0211,  0.1655,  0.1819,  0.2535],\n",
       "         [-0.1622,  0.3057,  0.0178, -0.3950, -0.1463],\n",
       "         [-0.4174, -0.3990, -0.1748,  0.3901, -0.0380]], requires_grad=True),\n",
       " Parameter containing:\n",
       " tensor([-0.3132, -0.0158,  0.1979,  0.0683,  0.0420], requires_grad=True),\n",
       " Parameter containing:\n",
       " tensor([ 0.2985, -0.3526,  0.0883, -0.0957, -0.4079], requires_grad=True)]"
      ]
     },
     "execution_count": 21,
     "metadata": {},
     "output_type": "execute_result"
    }
   ],
   "source": [
    "list(model.rnn.parameters())"
   ]
  },
  {
   "cell_type": "code",
   "execution_count": 22,
   "metadata": {},
   "outputs": [],
   "source": [
    "W_xh, W_hh, b_xh, b_hh = model.rnn.parameters()"
   ]
  },
  {
   "cell_type": "code",
   "execution_count": 25,
   "metadata": {},
   "outputs": [
    {
     "data": {
      "text/plain": [
       "Parameter containing:\n",
       "tensor([[-0.3180, -0.4152,  0.1189],\n",
       "        [-0.3502, -0.3808, -0.0015],\n",
       "        [ 0.2193, -0.1365,  0.0794],\n",
       "        [-0.2302, -0.2482, -0.0319],\n",
       "        [-0.0545, -0.2153, -0.1017]], requires_grad=True)"
      ]
     },
     "execution_count": 25,
     "metadata": {},
     "output_type": "execute_result"
    }
   ],
   "source": [
    "W_xh"
   ]
  },
  {
   "cell_type": "code",
   "execution_count": 26,
   "metadata": {},
   "outputs": [
    {
     "data": {
      "text/plain": [
       "torch.Size([5, 3])"
      ]
     },
     "execution_count": 26,
     "metadata": {},
     "output_type": "execute_result"
    }
   ],
   "source": [
    "W_xh.shape"
   ]
  },
  {
   "cell_type": "code",
   "execution_count": 29,
   "metadata": {},
   "outputs": [],
   "source": [
    "W_xh = W_xh.detach().numpy()\n",
    "W_hh = W_hh.detach().numpy()\n",
    "b_xh = b_xh.detach().numpy()\n",
    "b_hh = b_hh.detach().numpy()"
   ]
  },
  {
   "cell_type": "code",
   "execution_count": 30,
   "metadata": {},
   "outputs": [
    {
     "data": {
      "text/plain": [
       "((5, 3), (5,), (5, 5), (5,))"
      ]
     },
     "execution_count": 30,
     "metadata": {},
     "output_type": "execute_result"
    }
   ],
   "source": [
    "W_xh.shape, b_xh.shape, W_hh.shape, b_hh.shape"
   ]
  },
  {
   "cell_type": "code",
   "execution_count": 32,
   "metadata": {},
   "outputs": [
    {
     "data": {
      "text/plain": [
       "[Parameter containing:\n",
       " tensor([[ 0.0610, -0.2819,  0.3305,  0.1422,  0.1549],\n",
       "         [ 0.4065, -0.0250, -0.0797,  0.1969, -0.3758]], requires_grad=True),\n",
       " Parameter containing:\n",
       " tensor([ 0.4410, -0.4391], requires_grad=True)]"
      ]
     },
     "execution_count": 32,
     "metadata": {},
     "output_type": "execute_result"
    }
   ],
   "source": [
    "list(model.fc.parameters())"
   ]
  },
  {
   "cell_type": "code",
   "execution_count": 33,
   "metadata": {},
   "outputs": [],
   "source": [
    "Wo, bo = model.fc.parameters()"
   ]
  },
  {
   "cell_type": "code",
   "execution_count": 35,
   "metadata": {},
   "outputs": [
    {
     "data": {
      "text/plain": [
       "Parameter containing:\n",
       "tensor([[ 0.0610, -0.2819,  0.3305,  0.1422,  0.1549],\n",
       "        [ 0.4065, -0.0250, -0.0797,  0.1969, -0.3758]], requires_grad=True)"
      ]
     },
     "execution_count": 35,
     "metadata": {},
     "output_type": "execute_result"
    }
   ],
   "source": [
    "Wo"
   ]
  },
  {
   "cell_type": "code",
   "execution_count": 37,
   "metadata": {},
   "outputs": [],
   "source": [
    "Wo, bo = Wo.detach().numpy(), bo.detach().numpy()"
   ]
  },
  {
   "cell_type": "code",
   "execution_count": 38,
   "metadata": {},
   "outputs": [
    {
     "data": {
      "text/plain": [
       "((2, 5), (2,))"
      ]
     },
     "execution_count": 38,
     "metadata": {},
     "output_type": "execute_result"
    }
   ],
   "source": [
    "Wo.shape, bo.shape"
   ]
  },
  {
   "cell_type": "code",
   "execution_count": 76,
   "metadata": {
    "scrolled": true
   },
   "outputs": [
    {
     "name": "stdout",
     "output_type": "stream",
     "text": [
      "[[ 0.59865131 -0.2216457 ]\n",
      " [ 0.70023942 -0.65925628]\n",
      " [ 0.61236143 -0.30994398]\n",
      " [ 0.62379994 -0.46043421]\n",
      " [ 0.53251987 -0.73106588]\n",
      " [ 0.51476081 -0.12639734]\n",
      " [ 0.69336252 -0.66861054]\n",
      " [ 0.29174639 -0.52137123]\n",
      " [ 0.35820881 -0.53836104]\n",
      " [ 0.7234539  -0.54447798]]\n"
     ]
    }
   ],
   "source": [
    "h_last = np.zeros(M)\n",
    "x = X[0]\n",
    "Yhats = np.zeros((T, K))\n",
    "\n",
    "for t in range(T):\n",
    "    h = np.tanh(x[t].dot(W_xh.T) + b_xh + h_last.dot(W_hh.T) + b_hh)    \n",
    "    y = h.dot(Wo.T) + bo # We only care about this value on the last iteration\n",
    "    Yhats[t] = y\n",
    "    \n",
    "    h_last = h\n",
    "print(Yhats)"
   ]
  },
  {
   "cell_type": "code",
   "execution_count": 82,
   "metadata": {},
   "outputs": [
    {
     "data": {
      "text/plain": [
       "True"
      ]
     },
     "execution_count": 82,
     "metadata": {},
     "output_type": "execute_result"
    }
   ],
   "source": [
    "np.allclose(Yhats, Yhats_torch)"
   ]
  },
  {
   "cell_type": "code",
   "execution_count": null,
   "metadata": {},
   "outputs": [],
   "source": []
  },
  {
   "cell_type": "code",
   "execution_count": null,
   "metadata": {},
   "outputs": [],
   "source": []
  },
  {
   "cell_type": "code",
   "execution_count": null,
   "metadata": {},
   "outputs": [],
   "source": []
  }
 ],
 "metadata": {
  "kernelspec": {
   "display_name": "Python 3",
   "language": "python",
   "name": "python3"
  },
  "language_info": {
   "codemirror_mode": {
    "name": "ipython",
    "version": 3
   },
   "file_extension": ".py",
   "mimetype": "text/x-python",
   "name": "python",
   "nbconvert_exporter": "python",
   "pygments_lexer": "ipython3",
   "version": "3.8.5"
  }
 },
 "nbformat": 4,
 "nbformat_minor": 4
}
