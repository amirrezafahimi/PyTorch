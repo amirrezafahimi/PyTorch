{
 "cells": [
  {
   "cell_type": "code",
   "execution_count": null,
   "metadata": {
    "id": "3YERLTJjD4kk"
   },
   "outputs": [],
   "source": [
    "import torch\n",
    "import torch.nn as nn\n",
    "import numpy as np\n",
    "import pandas as pd\n",
    "import matplotlib.pyplot as plt\n",
    "from sklearn.preprocessing import StandardScaler"
   ]
  },
  {
   "cell_type": "markdown",
   "metadata": {
    "id": "7JQ-aWBwH6zM"
   },
   "source": [
    "# Part 1: Price Prediction"
   ]
  },
  {
   "cell_type": "code",
   "execution_count": null,
   "metadata": {
    "id": "0ARJutSvD772"
   },
   "outputs": [],
   "source": [
    "# yes, you can read dataframes from URLs!\n",
    "df = pd.read_csv('https://raw.githubusercontent.com/lazyprogrammer/machine_learning_examples/master/tf2.0/sbux.csv')"
   ]
  },
  {
   "cell_type": "code",
   "execution_count": null,
   "metadata": {
    "colab": {
     "base_uri": "https://localhost:8080/",
     "height": 204
    },
    "id": "2Enitd48EA1e",
    "outputId": "44eca8ef-44d5-4631-d895-e1ad61ee4fc2"
   },
   "outputs": [
    {
     "data": {
      "text/html": [
       "<div>\n",
       "<style scoped>\n",
       "    .dataframe tbody tr th:only-of-type {\n",
       "        vertical-align: middle;\n",
       "    }\n",
       "\n",
       "    .dataframe tbody tr th {\n",
       "        vertical-align: top;\n",
       "    }\n",
       "\n",
       "    .dataframe thead th {\n",
       "        text-align: right;\n",
       "    }\n",
       "</style>\n",
       "<table border=\"1\" class=\"dataframe\">\n",
       "  <thead>\n",
       "    <tr style=\"text-align: right;\">\n",
       "      <th></th>\n",
       "      <th>date</th>\n",
       "      <th>open</th>\n",
       "      <th>high</th>\n",
       "      <th>low</th>\n",
       "      <th>close</th>\n",
       "      <th>volume</th>\n",
       "      <th>Name</th>\n",
       "    </tr>\n",
       "  </thead>\n",
       "  <tbody>\n",
       "    <tr>\n",
       "      <th>0</th>\n",
       "      <td>2013-02-08</td>\n",
       "      <td>27.920</td>\n",
       "      <td>28.325</td>\n",
       "      <td>27.920</td>\n",
       "      <td>28.185</td>\n",
       "      <td>7146296</td>\n",
       "      <td>SBUX</td>\n",
       "    </tr>\n",
       "    <tr>\n",
       "      <th>1</th>\n",
       "      <td>2013-02-11</td>\n",
       "      <td>28.260</td>\n",
       "      <td>28.260</td>\n",
       "      <td>27.930</td>\n",
       "      <td>28.070</td>\n",
       "      <td>5457354</td>\n",
       "      <td>SBUX</td>\n",
       "    </tr>\n",
       "    <tr>\n",
       "      <th>2</th>\n",
       "      <td>2013-02-12</td>\n",
       "      <td>28.000</td>\n",
       "      <td>28.275</td>\n",
       "      <td>27.975</td>\n",
       "      <td>28.130</td>\n",
       "      <td>8665592</td>\n",
       "      <td>SBUX</td>\n",
       "    </tr>\n",
       "    <tr>\n",
       "      <th>3</th>\n",
       "      <td>2013-02-13</td>\n",
       "      <td>28.230</td>\n",
       "      <td>28.230</td>\n",
       "      <td>27.750</td>\n",
       "      <td>27.915</td>\n",
       "      <td>7022056</td>\n",
       "      <td>SBUX</td>\n",
       "    </tr>\n",
       "    <tr>\n",
       "      <th>4</th>\n",
       "      <td>2013-02-14</td>\n",
       "      <td>27.765</td>\n",
       "      <td>27.905</td>\n",
       "      <td>27.675</td>\n",
       "      <td>27.775</td>\n",
       "      <td>8899188</td>\n",
       "      <td>SBUX</td>\n",
       "    </tr>\n",
       "  </tbody>\n",
       "</table>\n",
       "</div>"
      ],
      "text/plain": [
       "         date    open    high     low   close   volume  Name\n",
       "0  2013-02-08  27.920  28.325  27.920  28.185  7146296  SBUX\n",
       "1  2013-02-11  28.260  28.260  27.930  28.070  5457354  SBUX\n",
       "2  2013-02-12  28.000  28.275  27.975  28.130  8665592  SBUX\n",
       "3  2013-02-13  28.230  28.230  27.750  27.915  7022056  SBUX\n",
       "4  2013-02-14  27.765  27.905  27.675  27.775  8899188  SBUX"
      ]
     },
     "execution_count": 3,
     "metadata": {
      "tags": []
     },
     "output_type": "execute_result"
    }
   ],
   "source": [
    "df.head()"
   ]
  },
  {
   "cell_type": "code",
   "execution_count": null,
   "metadata": {
    "colab": {
     "base_uri": "https://localhost:8080/",
     "height": 204
    },
    "id": "kCITTItVECqS",
    "outputId": "dade9bc9-6c6e-4b63-910d-2f455172b755"
   },
   "outputs": [
    {
     "data": {
      "text/html": [
       "<div>\n",
       "<style scoped>\n",
       "    .dataframe tbody tr th:only-of-type {\n",
       "        vertical-align: middle;\n",
       "    }\n",
       "\n",
       "    .dataframe tbody tr th {\n",
       "        vertical-align: top;\n",
       "    }\n",
       "\n",
       "    .dataframe thead th {\n",
       "        text-align: right;\n",
       "    }\n",
       "</style>\n",
       "<table border=\"1\" class=\"dataframe\">\n",
       "  <thead>\n",
       "    <tr style=\"text-align: right;\">\n",
       "      <th></th>\n",
       "      <th>date</th>\n",
       "      <th>open</th>\n",
       "      <th>high</th>\n",
       "      <th>low</th>\n",
       "      <th>close</th>\n",
       "      <th>volume</th>\n",
       "      <th>Name</th>\n",
       "    </tr>\n",
       "  </thead>\n",
       "  <tbody>\n",
       "    <tr>\n",
       "      <th>1254</th>\n",
       "      <td>2018-02-01</td>\n",
       "      <td>56.280</td>\n",
       "      <td>56.42</td>\n",
       "      <td>55.89</td>\n",
       "      <td>56.00</td>\n",
       "      <td>14690146</td>\n",
       "      <td>SBUX</td>\n",
       "    </tr>\n",
       "    <tr>\n",
       "      <th>1255</th>\n",
       "      <td>2018-02-02</td>\n",
       "      <td>55.900</td>\n",
       "      <td>56.32</td>\n",
       "      <td>55.70</td>\n",
       "      <td>55.77</td>\n",
       "      <td>15358909</td>\n",
       "      <td>SBUX</td>\n",
       "    </tr>\n",
       "    <tr>\n",
       "      <th>1256</th>\n",
       "      <td>2018-02-05</td>\n",
       "      <td>55.530</td>\n",
       "      <td>56.26</td>\n",
       "      <td>54.57</td>\n",
       "      <td>54.69</td>\n",
       "      <td>16059955</td>\n",
       "      <td>SBUX</td>\n",
       "    </tr>\n",
       "    <tr>\n",
       "      <th>1257</th>\n",
       "      <td>2018-02-06</td>\n",
       "      <td>53.685</td>\n",
       "      <td>56.06</td>\n",
       "      <td>53.56</td>\n",
       "      <td>55.61</td>\n",
       "      <td>17415065</td>\n",
       "      <td>SBUX</td>\n",
       "    </tr>\n",
       "    <tr>\n",
       "      <th>1258</th>\n",
       "      <td>2018-02-07</td>\n",
       "      <td>55.080</td>\n",
       "      <td>55.43</td>\n",
       "      <td>54.44</td>\n",
       "      <td>54.46</td>\n",
       "      <td>13927022</td>\n",
       "      <td>SBUX</td>\n",
       "    </tr>\n",
       "  </tbody>\n",
       "</table>\n",
       "</div>"
      ],
      "text/plain": [
       "            date    open   high    low  close    volume  Name\n",
       "1254  2018-02-01  56.280  56.42  55.89  56.00  14690146  SBUX\n",
       "1255  2018-02-02  55.900  56.32  55.70  55.77  15358909  SBUX\n",
       "1256  2018-02-05  55.530  56.26  54.57  54.69  16059955  SBUX\n",
       "1257  2018-02-06  53.685  56.06  53.56  55.61  17415065  SBUX\n",
       "1258  2018-02-07  55.080  55.43  54.44  54.46  13927022  SBUX"
      ]
     },
     "execution_count": 4,
     "metadata": {
      "tags": []
     },
     "output_type": "execute_result"
    }
   ],
   "source": [
    "df.tail()"
   ]
  },
  {
   "cell_type": "code",
   "execution_count": null,
   "metadata": {
    "id": "lvZLvhINEEXm"
   },
   "outputs": [],
   "source": [
    "# Start by doing the WRONG thing - trying to predict the price itself\n",
    "series = df['close'].values.reshape(-1, 1)"
   ]
  },
  {
   "cell_type": "code",
   "execution_count": null,
   "metadata": {
    "id": "sJlZEBuhEIhx"
   },
   "outputs": [],
   "source": [
    "# Normalize the data\n",
    "# Note: I didn't think about where the true boundary is, this is just approx.\n",
    "scaler = StandardScaler()\n",
    "scaler.fit(series[:len(series) // 2])\n",
    "series = scaler.transform(series).flatten()"
   ]
  },
  {
   "cell_type": "code",
   "execution_count": null,
   "metadata": {
    "colab": {
     "base_uri": "https://localhost:8080/",
     "height": 34
    },
    "id": "lFWSq_z-EKp6",
    "outputId": "1651f2e6-5250-4b20-bbed-5f89251840a6"
   },
   "outputs": [
    {
     "name": "stdout",
     "output_type": "stream",
     "text": [
      "X.shape (1239, 20, 1) Y.shape (1239, 1)\n"
     ]
    }
   ],
   "source": [
    "### build the dataset\n",
    "# let's see if we can use T past values to predict the next value\n",
    "T = 20\n",
    "D = 1\n",
    "X = []\n",
    "Y = []\n",
    "for t in range(len(series) - T):\n",
    "    x = series[t:t+T]\n",
    "    X.append(x)\n",
    "    y = series[t+T]\n",
    "    Y.append(y)\n",
    "\n",
    "X = np.array(X).reshape(-1, T, 1) # Now the data should be N x T x D\n",
    "Y = np.array(Y).reshape(-1, 1)\n",
    "N = len(X)\n",
    "print(\"X.shape\", X.shape, \"Y.shape\", Y.shape)"
   ]
  },
  {
   "cell_type": "code",
   "execution_count": null,
   "metadata": {
    "id": "ejA41yIHEMMs"
   },
   "outputs": [],
   "source": [
    "### try autoregressive RNN model\n",
    "class RNN(nn.Module):\n",
    "    def __init__(self, n_inputs, n_hidden, n_rnnlayers, n_outputs):\n",
    "        super(RNN, self).__init__()\n",
    "        self.D = n_inputs\n",
    "        self.M = n_hidden\n",
    "        self.K = n_outputs\n",
    "        self.L = n_rnnlayers\n",
    "\n",
    "        self.rnn = nn.LSTM(\n",
    "            input_size=self.D,\n",
    "            hidden_size=self.M,\n",
    "            num_layers=self.L,\n",
    "            batch_first=True)\n",
    "        self.fc = nn.Linear(self.M, self.K)\n",
    "  \n",
    "    def forward(self, X):\n",
    "        # initial hidden states\n",
    "        h0 = torch.zeros(self.L, X.size(0), self.M).to(device)\n",
    "        c0 = torch.zeros(self.L, X.size(0), self.M).to(device)\n",
    "\n",
    "        # get RNN unit output\n",
    "        out, _ = self.rnn(X, (h0, c0))\n",
    "\n",
    "        # we only want h(T) at the final time step\n",
    "        out = self.fc(out[:, -1, :])\n",
    "        return out"
   ]
  },
  {
   "cell_type": "code",
   "execution_count": null,
   "metadata": {
    "id": "hxjVvws8EUfr"
   },
   "outputs": [],
   "source": [
    "model = RNN(1, 5, 1, 1)"
   ]
  },
  {
   "cell_type": "code",
   "execution_count": null,
   "metadata": {
    "colab": {
     "base_uri": "https://localhost:8080/",
     "height": 102
    },
    "id": "7zL5f7KWEcVw",
    "outputId": "4680ee2a-4550-4651-a833-3c86341da2bc"
   },
   "outputs": [
    {
     "name": "stdout",
     "output_type": "stream",
     "text": [
      "cpu\n"
     ]
    },
    {
     "data": {
      "text/plain": [
       "RNN(\n",
       "  (rnn): LSTM(1, 5, batch_first=True)\n",
       "  (fc): Linear(in_features=5, out_features=1, bias=True)\n",
       ")"
      ]
     },
     "execution_count": 10,
     "metadata": {
      "tags": []
     },
     "output_type": "execute_result"
    }
   ],
   "source": [
    "device = torch.device(\"cuda:0\" if torch.cuda.is_available() else \"cpu\")\n",
    "print(device)\n",
    "model.to(device)"
   ]
  },
  {
   "cell_type": "code",
   "execution_count": null,
   "metadata": {
    "id": "h8Qlpc1sEvcA"
   },
   "outputs": [],
   "source": [
    "# Loss and optimizer\n",
    "criterion = nn.MSELoss()\n",
    "optimizer = torch.optim.Adam(model.parameters(), lr=0.1)"
   ]
  },
  {
   "cell_type": "code",
   "execution_count": null,
   "metadata": {
    "id": "SbUEPOnZE1c9"
   },
   "outputs": [],
   "source": [
    "# Training\n",
    "def full_gd(model,\n",
    "            criterion,\n",
    "            optimizer,\n",
    "            X_train,\n",
    "            y_train,\n",
    "            X_test,\n",
    "            y_test,\n",
    "            epochs=200):\n",
    "\n",
    "    # Stuff to store\n",
    "    train_losses = np.zeros(epochs)\n",
    "    test_losses = np.zeros(epochs)\n",
    "\n",
    "    for it in range(epochs):\n",
    "        # zero the parameter gradients\n",
    "        optimizer.zero_grad()\n",
    "\n",
    "        # Forward pass\n",
    "        outputs = model(X_train)\n",
    "        loss = criterion(outputs, y_train)\n",
    "\n",
    "        # Backward and optimize\n",
    "        loss.backward()\n",
    "        optimizer.step()\n",
    "\n",
    "        # Save losses\n",
    "        train_losses[it] = loss.item()\n",
    "\n",
    "        # Test loss\n",
    "        test_outputs = model(X_test)\n",
    "        test_loss = criterion(test_outputs, y_test)\n",
    "        test_losses[it] = test_loss.item()\n",
    "\n",
    "        if (it + 1) % 5 == 0:\n",
    "            print(f'Epoch {it+1}/{epochs}, Train Loss: {loss.item():.4f}, Test Loss: {test_loss.item():.4f}')\n",
    "\n",
    "    return train_losses, test_losses"
   ]
  },
  {
   "cell_type": "code",
   "execution_count": null,
   "metadata": {
    "id": "lnQkAXuxE8G5"
   },
   "outputs": [],
   "source": [
    "# Make inputs and targets\n",
    "X_train = torch.from_numpy(X[:-N//2].astype(np.float32))\n",
    "y_train = torch.from_numpy(Y[:-N//2].astype(np.float32))\n",
    "X_test = torch.from_numpy(X[-N//2:].astype(np.float32))\n",
    "y_test = torch.from_numpy(Y[-N//2:].astype(np.float32))"
   ]
  },
  {
   "cell_type": "code",
   "execution_count": null,
   "metadata": {
    "id": "QM8yEi78E_RG"
   },
   "outputs": [],
   "source": [
    "# move data to GPU\n",
    "X_train, y_train = X_train.to(device), y_train.to(device)\n",
    "X_test, y_test = X_test.to(device), y_test.to(device)"
   ]
  },
  {
   "cell_type": "code",
   "execution_count": null,
   "metadata": {
    "colab": {
     "base_uri": "https://localhost:8080/",
     "height": 697
    },
    "id": "eeU5KgjXFA7S",
    "outputId": "e8438fd3-53ff-441b-c969-cf54563fcfe9"
   },
   "outputs": [
    {
     "name": "stdout",
     "output_type": "stream",
     "text": [
      "Epoch 5/200, Train Loss: 0.1533, Test Loss: 0.2875\n",
      "Epoch 10/200, Train Loss: 0.0513, Test Loss: 0.2019\n",
      "Epoch 15/200, Train Loss: 0.0236, Test Loss: 0.0842\n",
      "Epoch 20/200, Train Loss: 0.0223, Test Loss: 0.1219\n",
      "Epoch 25/200, Train Loss: 0.0168, Test Loss: 0.0928\n",
      "Epoch 30/200, Train Loss: 0.0136, Test Loss: 0.0910\n",
      "Epoch 35/200, Train Loss: 0.0109, Test Loss: 0.1064\n",
      "Epoch 40/200, Train Loss: 0.0081, Test Loss: 0.0716\n",
      "Epoch 45/200, Train Loss: 0.0062, Test Loss: 0.0750\n",
      "Epoch 50/200, Train Loss: 0.0056, Test Loss: 0.0560\n",
      "Epoch 55/200, Train Loss: 0.0056, Test Loss: 0.0532\n",
      "Epoch 60/200, Train Loss: 0.0055, Test Loss: 0.0493\n",
      "Epoch 65/200, Train Loss: 0.0055, Test Loss: 0.0469\n",
      "Epoch 70/200, Train Loss: 0.0054, Test Loss: 0.0466\n",
      "Epoch 75/200, Train Loss: 0.0053, Test Loss: 0.0444\n",
      "Epoch 80/200, Train Loss: 0.0053, Test Loss: 0.0462\n",
      "Epoch 85/200, Train Loss: 0.0053, Test Loss: 0.0445\n",
      "Epoch 90/200, Train Loss: 0.0052, Test Loss: 0.0460\n",
      "Epoch 95/200, Train Loss: 0.0052, Test Loss: 0.0453\n",
      "Epoch 100/200, Train Loss: 0.0052, Test Loss: 0.0455\n",
      "Epoch 105/200, Train Loss: 0.0052, Test Loss: 0.0446\n",
      "Epoch 110/200, Train Loss: 0.0052, Test Loss: 0.0445\n",
      "Epoch 115/200, Train Loss: 0.0052, Test Loss: 0.0436\n",
      "Epoch 120/200, Train Loss: 0.0052, Test Loss: 0.0432\n",
      "Epoch 125/200, Train Loss: 0.0052, Test Loss: 0.0425\n",
      "Epoch 130/200, Train Loss: 0.0052, Test Loss: 0.0421\n",
      "Epoch 135/200, Train Loss: 0.0052, Test Loss: 0.0415\n",
      "Epoch 140/200, Train Loss: 0.0052, Test Loss: 0.0411\n",
      "Epoch 145/200, Train Loss: 0.0052, Test Loss: 0.0406\n",
      "Epoch 150/200, Train Loss: 0.0052, Test Loss: 0.0401\n",
      "Epoch 155/200, Train Loss: 0.0051, Test Loss: 0.0397\n",
      "Epoch 160/200, Train Loss: 0.0051, Test Loss: 0.0392\n",
      "Epoch 165/200, Train Loss: 0.0051, Test Loss: 0.0387\n",
      "Epoch 170/200, Train Loss: 0.0051, Test Loss: 0.0383\n",
      "Epoch 175/200, Train Loss: 0.0051, Test Loss: 0.0379\n",
      "Epoch 180/200, Train Loss: 0.0051, Test Loss: 0.0374\n",
      "Epoch 185/200, Train Loss: 0.0051, Test Loss: 0.0370\n",
      "Epoch 190/200, Train Loss: 0.0051, Test Loss: 0.0366\n",
      "Epoch 195/200, Train Loss: 0.0051, Test Loss: 0.0362\n",
      "Epoch 200/200, Train Loss: 0.0051, Test Loss: 0.0357\n"
     ]
    }
   ],
   "source": [
    "train_losses, test_losses = full_gd(model,\n",
    "                                    criterion,\n",
    "                                    optimizer,\n",
    "                                    X_train,\n",
    "                                    y_train,\n",
    "                                    X_test,\n",
    "                                    y_test)"
   ]
  },
  {
   "cell_type": "code",
   "execution_count": null,
   "metadata": {
    "colab": {
     "base_uri": "https://localhost:8080/",
     "height": 265
    },
    "id": "TA9ZKt4aFIGO",
    "outputId": "a893539f-a28e-4370-b07a-0d757cfae672"
   },
   "outputs": [
    {
     "data": {
      "image/png": "[encoded data removed]",
      "text/plain": [
       "<Figure size 432x288 with 1 Axes>"
      ]
     },
     "metadata": {
      "tags": []
     },
     "output_type": "display_data"
    }
   ],
   "source": [
    "# Plot the train loss and test loss per iteration\n",
    "plt.plot(train_losses, label='train loss')\n",
    "plt.plot(test_losses, label='test loss')\n",
    "plt.legend()\n",
    "plt.show()"
   ]
  },
  {
   "cell_type": "code",
   "execution_count": null,
   "metadata": {
    "id": "1vAQGe6JFSM9"
   },
   "outputs": [],
   "source": [
    "# One-step forecast using true targets\n",
    "validation_target = Y\n",
    "validation_predictions = []\n",
    "\n",
    "# index of first validation input\n",
    "i = 0\n",
    "\n",
    "X_on_device = torch.from_numpy(X.astype(np.float32)).to(device)\n",
    "\n",
    "while len(validation_predictions) < len(validation_target):\n",
    "    input_ = X_on_device[i].reshape(1, T, 1)\n",
    "    p = model(input_)[0,0].item() # 1x1 array -> scalar\n",
    "    i += 1\n",
    "\n",
    "    # update the predictions list\n",
    "    validation_predictions.append(p)"
   ]
  },
  {
   "cell_type": "code",
   "execution_count": null,
   "metadata": {
    "colab": {
     "base_uri": "https://localhost:8080/",
     "height": 282
    },
    "id": "WmlRrKo8FU9d",
    "outputId": "dd45ebf3-7c3f-4e9b-dff2-9503d77f1cca"
   },
   "outputs": [
    {
     "data": {
      "text/plain": [
       "<matplotlib.legend.Legend at 0x7f05b4820e80>"
      ]
     },
     "execution_count": 18,
     "metadata": {
      "tags": []
     },
     "output_type": "execute_result"
    },
    {
     "data": {
      "image/png": "[encoded data removed]",
      "text/plain": [
       "<Figure size 432x288 with 1 Axes>"
      ]
     },
     "metadata": {
      "tags": []
     },
     "output_type": "display_data"
    }
   ],
   "source": [
    "plt.plot(validation_target, label='forecast target')\n",
    "plt.plot(validation_predictions, label='forecast prediction')\n",
    "plt.legend()"
   ]
  },
  {
   "cell_type": "code",
   "execution_count": null,
   "metadata": {
    "id": "o_nIYq4tGU4g"
   },
   "outputs": [],
   "source": [
    "# Multi-step forecast\n",
    "validation_target = Y[-N//2:]\n",
    "validation_predictions = []\n",
    "\n",
    "# last train input\n",
    "last_x = X_test[0].view(T)\n",
    "\n",
    "while len(validation_predictions) < len(validation_target):\n",
    "    input_ = last_x.reshape(1, T, 1)\n",
    "    p = model(input_)\n",
    "    # [0,0] # 1x1 array -> scalar\n",
    "\n",
    "    # update the predictions list\n",
    "    validation_predictions.append(p[0,0].item())\n",
    "\n",
    "    # make the new input\n",
    "    last_x = torch.cat((last_x[1:], p[0]))"
   ]
  },
  {
   "cell_type": "code",
   "execution_count": null,
   "metadata": {
    "colab": {
     "base_uri": "https://localhost:8080/",
     "height": 282
    },
    "id": "rc-qBmQlGs7-",
    "outputId": "f59c596a-920c-4f80-cd2b-8b19f7abfba4"
   },
   "outputs": [
    {
     "data": {
      "text/plain": [
       "<matplotlib.legend.Legend at 0x7f05b479d470>"
      ]
     },
     "execution_count": 20,
     "metadata": {
      "tags": []
     },
     "output_type": "execute_result"
    },
    {
     "data": {
      "image/png": "[encoded data removed]",
      "text/plain": [
       "<Figure size 432x288 with 1 Axes>"
      ]
     },
     "metadata": {
      "tags": []
     },
     "output_type": "display_data"
    }
   ],
   "source": [
    "plt.plot(validation_target, label='forecast target')\n",
    "plt.plot(validation_predictions, label='forecast prediction')\n",
    "plt.legend()"
   ]
  },
  {
   "cell_type": "markdown",
   "metadata": {
    "id": "tHOwz6LxH4RJ"
   },
   "source": [
    "# Part 2: Returns"
   ]
  },
  {
   "cell_type": "code",
   "execution_count": null,
   "metadata": {
    "id": "xBjrWdZmG0KL"
   },
   "outputs": [],
   "source": [
    "# calculate returns by first shifting the data\n",
    "df['PrevClose'] = df['close'].shift(1) # move everything up 1\n",
    "\n",
    "# so now it's like\n",
    "# close / prev close\n",
    "# x[2] x[1]\n",
    "# x[3] x[2]\n",
    "# x[4] x[3]\n",
    "# ...\n",
    "# x[t] x[t-1]"
   ]
  },
  {
   "cell_type": "code",
   "execution_count": null,
   "metadata": {
    "colab": {
     "base_uri": "https://localhost:8080/",
     "height": 204
    },
    "id": "a_JMC6A9G2Sr",
    "outputId": "401c7d17-b431-4ef8-958f-5cd28238b5eb"
   },
   "outputs": [
    {
     "data": {
      "text/html": [
       "<div>\n",
       "<style scoped>\n",
       "    .dataframe tbody tr th:only-of-type {\n",
       "        vertical-align: middle;\n",
       "    }\n",
       "\n",
       "    .dataframe tbody tr th {\n",
       "        vertical-align: top;\n",
       "    }\n",
       "\n",
       "    .dataframe thead th {\n",
       "        text-align: right;\n",
       "    }\n",
       "</style>\n",
       "<table border=\"1\" class=\"dataframe\">\n",
       "  <thead>\n",
       "    <tr style=\"text-align: right;\">\n",
       "      <th></th>\n",
       "      <th>date</th>\n",
       "      <th>open</th>\n",
       "      <th>high</th>\n",
       "      <th>low</th>\n",
       "      <th>close</th>\n",
       "      <th>volume</th>\n",
       "      <th>Name</th>\n",
       "      <th>PrevClose</th>\n",
       "    </tr>\n",
       "  </thead>\n",
       "  <tbody>\n",
       "    <tr>\n",
       "      <th>0</th>\n",
       "      <td>2013-02-08</td>\n",
       "      <td>27.920</td>\n",
       "      <td>28.325</td>\n",
       "      <td>27.920</td>\n",
       "      <td>28.185</td>\n",
       "      <td>7146296</td>\n",
       "      <td>SBUX</td>\n",
       "      <td>NaN</td>\n",
       "    </tr>\n",
       "    <tr>\n",
       "      <th>1</th>\n",
       "      <td>2013-02-11</td>\n",
       "      <td>28.260</td>\n",
       "      <td>28.260</td>\n",
       "      <td>27.930</td>\n",
       "      <td>28.070</td>\n",
       "      <td>5457354</td>\n",
       "      <td>SBUX</td>\n",
       "      <td>28.185</td>\n",
       "    </tr>\n",
       "    <tr>\n",
       "      <th>2</th>\n",
       "      <td>2013-02-12</td>\n",
       "      <td>28.000</td>\n",
       "      <td>28.275</td>\n",
       "      <td>27.975</td>\n",
       "      <td>28.130</td>\n",
       "      <td>8665592</td>\n",
       "      <td>SBUX</td>\n",
       "      <td>28.070</td>\n",
       "    </tr>\n",
       "    <tr>\n",
       "      <th>3</th>\n",
       "      <td>2013-02-13</td>\n",
       "      <td>28.230</td>\n",
       "      <td>28.230</td>\n",
       "      <td>27.750</td>\n",
       "      <td>27.915</td>\n",
       "      <td>7022056</td>\n",
       "      <td>SBUX</td>\n",
       "      <td>28.130</td>\n",
       "    </tr>\n",
       "    <tr>\n",
       "      <th>4</th>\n",
       "      <td>2013-02-14</td>\n",
       "      <td>27.765</td>\n",
       "      <td>27.905</td>\n",
       "      <td>27.675</td>\n",
       "      <td>27.775</td>\n",
       "      <td>8899188</td>\n",
       "      <td>SBUX</td>\n",
       "      <td>27.915</td>\n",
       "    </tr>\n",
       "  </tbody>\n",
       "</table>\n",
       "</div>"
      ],
      "text/plain": [
       "         date    open    high     low   close   volume  Name  PrevClose\n",
       "0  2013-02-08  27.920  28.325  27.920  28.185  7146296  SBUX        NaN\n",
       "1  2013-02-11  28.260  28.260  27.930  28.070  5457354  SBUX     28.185\n",
       "2  2013-02-12  28.000  28.275  27.975  28.130  8665592  SBUX     28.070\n",
       "3  2013-02-13  28.230  28.230  27.750  27.915  7022056  SBUX     28.130\n",
       "4  2013-02-14  27.765  27.905  27.675  27.775  8899188  SBUX     27.915"
      ]
     },
     "execution_count": 22,
     "metadata": {
      "tags": []
     },
     "output_type": "execute_result"
    }
   ],
   "source": [
    "df.head()"
   ]
  },
  {
   "cell_type": "code",
   "execution_count": null,
   "metadata": {
    "id": "PynKcwMFG4Ur"
   },
   "outputs": [],
   "source": [
    "# then the return is\n",
    "# (x[t] - x[t-1]) / x[t-1]\n",
    "df['Return'] = (df['close'] - df['PrevClose']) / df['PrevClose']"
   ]
  },
  {
   "cell_type": "code",
   "execution_count": null,
   "metadata": {
    "colab": {
     "base_uri": "https://localhost:8080/",
     "height": 204
    },
    "id": "vNkf8pYWG6gK",
    "outputId": "6bf74e2c-7a1a-4156-bc1f-50b681356ca3"
   },
   "outputs": [
    {
     "data": {
      "text/html": [
       "<div>\n",
       "<style scoped>\n",
       "    .dataframe tbody tr th:only-of-type {\n",
       "        vertical-align: middle;\n",
       "    }\n",
       "\n",
       "    .dataframe tbody tr th {\n",
       "        vertical-align: top;\n",
       "    }\n",
       "\n",
       "    .dataframe thead th {\n",
       "        text-align: right;\n",
       "    }\n",
       "</style>\n",
       "<table border=\"1\" class=\"dataframe\">\n",
       "  <thead>\n",
       "    <tr style=\"text-align: right;\">\n",
       "      <th></th>\n",
       "      <th>date</th>\n",
       "      <th>open</th>\n",
       "      <th>high</th>\n",
       "      <th>low</th>\n",
       "      <th>close</th>\n",
       "      <th>volume</th>\n",
       "      <th>Name</th>\n",
       "      <th>PrevClose</th>\n",
       "      <th>Return</th>\n",
       "    </tr>\n",
       "  </thead>\n",
       "  <tbody>\n",
       "    <tr>\n",
       "      <th>0</th>\n",
       "      <td>2013-02-08</td>\n",
       "      <td>27.920</td>\n",
       "      <td>28.325</td>\n",
       "      <td>27.920</td>\n",
       "      <td>28.185</td>\n",
       "      <td>7146296</td>\n",
       "      <td>SBUX</td>\n",
       "      <td>NaN</td>\n",
       "      <td>NaN</td>\n",
       "    </tr>\n",
       "    <tr>\n",
       "      <th>1</th>\n",
       "      <td>2013-02-11</td>\n",
       "      <td>28.260</td>\n",
       "      <td>28.260</td>\n",
       "      <td>27.930</td>\n",
       "      <td>28.070</td>\n",
       "      <td>5457354</td>\n",
       "      <td>SBUX</td>\n",
       "      <td>28.185</td>\n",
       "      <td>-0.004080</td>\n",
       "    </tr>\n",
       "    <tr>\n",
       "      <th>2</th>\n",
       "      <td>2013-02-12</td>\n",
       "      <td>28.000</td>\n",
       "      <td>28.275</td>\n",
       "      <td>27.975</td>\n",
       "      <td>28.130</td>\n",
       "      <td>8665592</td>\n",
       "      <td>SBUX</td>\n",
       "      <td>28.070</td>\n",
       "      <td>0.002138</td>\n",
       "    </tr>\n",
       "    <tr>\n",
       "      <th>3</th>\n",
       "      <td>2013-02-13</td>\n",
       "      <td>28.230</td>\n",
       "      <td>28.230</td>\n",
       "      <td>27.750</td>\n",
       "      <td>27.915</td>\n",
       "      <td>7022056</td>\n",
       "      <td>SBUX</td>\n",
       "      <td>28.130</td>\n",
       "      <td>-0.007643</td>\n",
       "    </tr>\n",
       "    <tr>\n",
       "      <th>4</th>\n",
       "      <td>2013-02-14</td>\n",
       "      <td>27.765</td>\n",
       "      <td>27.905</td>\n",
       "      <td>27.675</td>\n",
       "      <td>27.775</td>\n",
       "      <td>8899188</td>\n",
       "      <td>SBUX</td>\n",
       "      <td>27.915</td>\n",
       "      <td>-0.005015</td>\n",
       "    </tr>\n",
       "  </tbody>\n",
       "</table>\n",
       "</div>"
      ],
      "text/plain": [
       "         date    open    high     low  ...   volume  Name PrevClose    Return\n",
       "0  2013-02-08  27.920  28.325  27.920  ...  7146296  SBUX       NaN       NaN\n",
       "1  2013-02-11  28.260  28.260  27.930  ...  5457354  SBUX    28.185 -0.004080\n",
       "2  2013-02-12  28.000  28.275  27.975  ...  8665592  SBUX    28.070  0.002138\n",
       "3  2013-02-13  28.230  28.230  27.750  ...  7022056  SBUX    28.130 -0.007643\n",
       "4  2013-02-14  27.765  27.905  27.675  ...  8899188  SBUX    27.915 -0.005015\n",
       "\n",
       "[5 rows x 9 columns]"
      ]
     },
     "execution_count": 24,
     "metadata": {
      "tags": []
     },
     "output_type": "execute_result"
    }
   ],
   "source": [
    "df.head()"
   ]
  },
  {
   "cell_type": "code",
   "execution_count": null,
   "metadata": {
    "colab": {
     "base_uri": "https://localhost:8080/",
     "height": 265
    },
    "id": "LXD_mqvRoaP5",
    "outputId": "18a7a344-2a1e-467f-f111-c9d1510e350b"
   },
   "outputs": [
    {
     "data": {
      "image/png": "[encoded data removed]",
      "text/plain": [
       "<Figure size 432x288 with 1 Axes>"
      ]
     },
     "metadata": {
      "tags": []
     },
     "output_type": "display_data"
    }
   ],
   "source": [
    "plt.plot(df['Return']);"
   ]
  },
  {
   "cell_type": "code",
   "execution_count": null,
   "metadata": {
    "colab": {
     "base_uri": "https://localhost:8080/",
     "height": 282
    },
    "id": "ePCjxG3WG8O5",
    "outputId": "de8d11a0-2394-4bb7-d50b-8648033c8048"
   },
   "outputs": [
    {
     "data": {
      "text/plain": [
       "<matplotlib.axes._subplots.AxesSubplot at 0x7f05b34c6d30>"
      ]
     },
     "execution_count": 26,
     "metadata": {
      "tags": []
     },
     "output_type": "execute_result"
    },
    {
     "data": {
      "image/png": "[encoded data removed]",
      "text/plain": [
       "<Figure size 432x288 with 1 Axes>"
      ]
     },
     "metadata": {
      "tags": []
     },
     "output_type": "display_data"
    }
   ],
   "source": [
    "# Now let's try an LSTM to predict returns\n",
    "df['Return'].hist()"
   ]
  },
  {
   "cell_type": "code",
   "execution_count": null,
   "metadata": {
    "id": "7bpSyngPG-4d"
   },
   "outputs": [],
   "source": [
    "series = df['Return'].values[1:].reshape(-1, 1)\n",
    "\n",
    "# Normalize the data\n",
    "# Note: I didn't think about where the true boundary is, this is just approx.\n",
    "scaler = StandardScaler()\n",
    "scaler.fit(series[:len(series) // 2])\n",
    "series = scaler.transform(series).flatten()"
   ]
  },
  {
   "cell_type": "code",
   "execution_count": null,
   "metadata": {
    "colab": {
     "base_uri": "https://localhost:8080/",
     "height": 34
    },
    "id": "l2WJxImAHBdc",
    "outputId": "39ec057e-3c4c-4477-f149-869ea8886834"
   },
   "outputs": [
    {
     "name": "stdout",
     "output_type": "stream",
     "text": [
      "X.shape (1238, 20, 1) Y.shape (1238, 1)\n"
     ]
    }
   ],
   "source": [
    "### build the dataset\n",
    "# let's see if we can use T past values to predict the next value\n",
    "T = 20\n",
    "D = 1\n",
    "X = []\n",
    "Y = []\n",
    "for t in range(len(series) - T):\n",
    "  x = series[t:t+T]\n",
    "  X.append(x)\n",
    "  y = series[t+T]\n",
    "  Y.append(y)\n",
    "\n",
    "X = np.array(X).reshape(-1, T, 1) # Now the data should be N x T x D\n",
    "Y = np.array(Y).reshape(-1, 1)\n",
    "N = len(X)\n",
    "print(\"X.shape\", X.shape, \"Y.shape\", Y.shape)"
   ]
  },
  {
   "cell_type": "code",
   "execution_count": null,
   "metadata": {
    "colab": {
     "base_uri": "https://localhost:8080/",
     "height": 85
    },
    "id": "HAwpOxy_HF_6",
    "outputId": "15952d6e-45bf-4def-90fb-103329560ae6"
   },
   "outputs": [
    {
     "data": {
      "text/plain": [
       "RNN(\n",
       "  (rnn): LSTM(1, 5, batch_first=True)\n",
       "  (fc): Linear(in_features=5, out_features=1, bias=True)\n",
       ")"
      ]
     },
     "execution_count": 29,
     "metadata": {
      "tags": []
     },
     "output_type": "execute_result"
    }
   ],
   "source": [
    "### try autoregressive RNN model\n",
    "model = RNN(1, 5, 1, 1)\n",
    "model.to(device)"
   ]
  },
  {
   "cell_type": "code",
   "execution_count": null,
   "metadata": {
    "id": "iR1GzyxHHNp6"
   },
   "outputs": [],
   "source": [
    "# Loss and optimizer\n",
    "criterion = nn.MSELoss()\n",
    "optimizer = torch.optim.Adam(model.parameters(), lr=0.01)"
   ]
  },
  {
   "cell_type": "code",
   "execution_count": null,
   "metadata": {
    "id": "h7cIJyaWHSoM"
   },
   "outputs": [],
   "source": [
    "# Make inputs and targets\n",
    "X_train = torch.from_numpy(X[:-N//2].astype(np.float32))\n",
    "y_train = torch.from_numpy(Y[:-N//2].astype(np.float32))\n",
    "X_test = torch.from_numpy(X[-N//2:].astype(np.float32))\n",
    "y_test = torch.from_numpy(Y[-N//2:].astype(np.float32))"
   ]
  },
  {
   "cell_type": "code",
   "execution_count": null,
   "metadata": {
    "id": "YDapFNV3HVJ7"
   },
   "outputs": [],
   "source": [
    "# move data to GPU\n",
    "X_train, y_train = X_train.to(device), y_train.to(device)\n",
    "X_test, y_test = X_test.to(device), y_test.to(device)"
   ]
  },
  {
   "cell_type": "code",
   "execution_count": null,
   "metadata": {
    "colab": {
     "base_uri": "https://localhost:8080/",
     "height": 697
    },
    "id": "WEgfpWY8HXSh",
    "outputId": "b5d88d6a-6951-4a11-ac19-e700ffd259cf"
   },
   "outputs": [
    {
     "name": "stdout",
     "output_type": "stream",
     "text": [
      "Epoch 5/200, Train Loss: 1.0666, Test Loss: 1.0724\n",
      "Epoch 10/200, Train Loss: 1.0527, Test Loss: 1.0909\n",
      "Epoch 15/200, Train Loss: 1.0557, Test Loss: 1.0907\n",
      "Epoch 20/200, Train Loss: 1.0484, Test Loss: 1.0770\n",
      "Epoch 25/200, Train Loss: 1.0476, Test Loss: 1.0735\n",
      "Epoch 30/200, Train Loss: 1.0461, Test Loss: 1.0746\n",
      "Epoch 35/200, Train Loss: 1.0427, Test Loss: 1.0791\n",
      "Epoch 40/200, Train Loss: 1.0401, Test Loss: 1.0858\n",
      "Epoch 45/200, Train Loss: 1.0374, Test Loss: 1.0897\n",
      "Epoch 50/200, Train Loss: 1.0346, Test Loss: 1.0920\n",
      "Epoch 55/200, Train Loss: 1.0327, Test Loss: 1.0969\n",
      "Epoch 60/200, Train Loss: 1.0312, Test Loss: 1.1038\n",
      "Epoch 65/200, Train Loss: 1.0300, Test Loss: 1.1083\n",
      "Epoch 70/200, Train Loss: 1.0286, Test Loss: 1.1085\n",
      "Epoch 75/200, Train Loss: 1.0272, Test Loss: 1.1080\n",
      "Epoch 80/200, Train Loss: 1.0258, Test Loss: 1.1086\n",
      "Epoch 85/200, Train Loss: 1.0244, Test Loss: 1.1095\n",
      "Epoch 90/200, Train Loss: 1.0229, Test Loss: 1.1113\n",
      "Epoch 95/200, Train Loss: 1.0212, Test Loss: 1.1132\n",
      "Epoch 100/200, Train Loss: 1.0192, Test Loss: 1.1146\n",
      "Epoch 105/200, Train Loss: 1.0170, Test Loss: 1.1161\n",
      "Epoch 110/200, Train Loss: 1.0143, Test Loss: 1.1165\n",
      "Epoch 115/200, Train Loss: 1.0112, Test Loss: 1.1174\n",
      "Epoch 120/200, Train Loss: 1.0075, Test Loss: 1.1185\n",
      "Epoch 125/200, Train Loss: 1.0030, Test Loss: 1.1208\n",
      "Epoch 130/200, Train Loss: 0.9975, Test Loss: 1.1247\n",
      "Epoch 135/200, Train Loss: 0.9909, Test Loss: 1.1320\n",
      "Epoch 140/200, Train Loss: 0.9839, Test Loss: 1.1464\n",
      "Epoch 145/200, Train Loss: 0.9769, Test Loss: 1.1659\n",
      "Epoch 150/200, Train Loss: 0.9691, Test Loss: 1.1811\n",
      "Epoch 155/200, Train Loss: 0.9615, Test Loss: 1.1960\n",
      "Epoch 160/200, Train Loss: 0.9546, Test Loss: 1.2168\n",
      "Epoch 165/200, Train Loss: 0.9477, Test Loss: 1.2387\n",
      "Epoch 170/200, Train Loss: 0.9400, Test Loss: 1.2484\n",
      "Epoch 175/200, Train Loss: 0.9316, Test Loss: 1.2681\n",
      "Epoch 180/200, Train Loss: 0.9193, Test Loss: 1.3109\n",
      "Epoch 185/200, Train Loss: 0.9037, Test Loss: 1.3517\n",
      "Epoch 190/200, Train Loss: 0.8904, Test Loss: 1.4092\n",
      "Epoch 195/200, Train Loss: 0.8778, Test Loss: 1.4661\n",
      "Epoch 200/200, Train Loss: 0.8682, Test Loss: 1.4862\n"
     ]
    }
   ],
   "source": [
    "train_losses, test_losses = full_gd(model,\n",
    "                                    criterion,\n",
    "                                    optimizer,\n",
    "                                    X_train,\n",
    "                                    y_train,\n",
    "                                    X_test,\n",
    "                                    y_test)"
   ]
  },
  {
   "cell_type": "code",
   "execution_count": null,
   "metadata": {
    "colab": {
     "base_uri": "https://localhost:8080/",
     "height": 265
    },
    "id": "4kmEBf1DHbIh",
    "outputId": "1cefc3ca-aa73-4f07-948d-511ed5171475"
   },
   "outputs": [
    {
     "data": {
      "image/png": "[encoded data removed]",
      "text/plain": [
       "<Figure size 432x288 with 1 Axes>"
      ]
     },
     "metadata": {
      "tags": []
     },
     "output_type": "display_data"
    }
   ],
   "source": [
    "# Plot the train loss and test loss per iteration\n",
    "plt.plot(train_losses, label='train loss')\n",
    "plt.plot(test_losses, label='test loss')\n",
    "plt.legend()\n",
    "plt.show()"
   ]
  },
  {
   "cell_type": "code",
   "execution_count": null,
   "metadata": {
    "id": "Fkr8I84dHip4"
   },
   "outputs": [],
   "source": [
    "# One-step forecast using true targets\n",
    "validation_target = Y\n",
    "validation_predictions = []\n",
    "\n",
    "# index of first validation input\n",
    "i = 0\n",
    "\n",
    "X_on_device = torch.from_numpy(X.astype(np.float32)).to(device)\n",
    "\n",
    "while len(validation_predictions) < len(validation_target):\n",
    "  input_ = X_on_device[i].reshape(1, T, 1)\n",
    "  p = model(input_)[0,0].item() # 1x1 array -> scalar\n",
    "  i += 1\n",
    "  \n",
    "  # update the predictions list\n",
    "  validation_predictions.append(p)"
   ]
  },
  {
   "cell_type": "code",
   "execution_count": null,
   "metadata": {
    "colab": {
     "base_uri": "https://localhost:8080/",
     "height": 282
    },
    "id": "pcLxuoUkHk1M",
    "outputId": "5160afca-bb4a-4ffe-d39d-1d042d23a6a3"
   },
   "outputs": [
    {
     "data": {
      "text/plain": [
       "<matplotlib.legend.Legend at 0x7f05b3383e48>"
      ]
     },
     "execution_count": 36,
     "metadata": {
      "tags": []
     },
     "output_type": "execute_result"
    },
    {
     "data": {
      "image/png": "[encoded data removed]",
      "text/plain": [
       "<Figure size 432x288 with 1 Axes>"
      ]
     },
     "metadata": {
      "tags": []
     },
     "output_type": "display_data"
    }
   ],
   "source": [
    "plt.plot(validation_target, label='forecast target')\n",
    "plt.plot(validation_predictions, label='forecast prediction')\n",
    "plt.legend()"
   ]
  },
  {
   "cell_type": "code",
   "execution_count": null,
   "metadata": {
    "id": "XvoMGhXrHpuT"
   },
   "outputs": [],
   "source": [
    "# Multi-step forecast\n",
    "validation_target = Y[-N//2:]\n",
    "validation_predictions = []\n",
    "\n",
    "# last train input\n",
    "last_x = X_test[0].view(T)\n",
    "\n",
    "while len(validation_predictions) < len(validation_target):\n",
    "  input_ = last_x.reshape(1, T, 1)\n",
    "  p = model(input_)\n",
    "  # [0,0] # 1x1 array -> scalar\n",
    "  \n",
    "  # update the predictions list\n",
    "  validation_predictions.append(p[0,0].item())\n",
    "  \n",
    "  # make the new input\n",
    "  last_x = torch.cat((last_x[1:], p[0]))"
   ]
  },
  {
   "cell_type": "code",
   "execution_count": null,
   "metadata": {
    "colab": {
     "base_uri": "https://localhost:8080/",
     "height": 282
    },
    "id": "WnYmGBvwHsqs",
    "outputId": "5f69d066-8732-44ae-c85d-4fee7b8cbc5d"
   },
   "outputs": [
    {
     "data": {
      "text/plain": [
       "<matplotlib.legend.Legend at 0x7f05b32f4fd0>"
      ]
     },
     "execution_count": 38,
     "metadata": {
      "tags": []
     },
     "output_type": "execute_result"
    },
    {
     "data": {
      "image/png": "[encoded data removed]",
      "text/plain": [
       "<Figure size 432x288 with 1 Axes>"
      ]
     },
     "metadata": {
      "tags": []
     },
     "output_type": "display_data"
    }
   ],
   "source": [
    "plt.plot(validation_target, label='forecast target')\n",
    "plt.plot(validation_predictions, label='forecast prediction')\n",
    "plt.legend()"
   ]
  },
  {
   "cell_type": "markdown",
   "metadata": {
    "id": "mLVRD2tmHxoJ"
   },
   "source": [
    "# Part 3: Binary Classification"
   ]
  },
  {
   "cell_type": "code",
   "execution_count": null,
   "metadata": {
    "id": "Bndx3QO5HuR9"
   },
   "outputs": [],
   "source": [
    "# Now turn the full data into numpy arrays\n",
    "\n",
    "# Not yet in the final \"X\" format!\n",
    "input_data = df[['open', 'high', 'low', 'close', 'volume']].values\n",
    "targets = df['Return'].values"
   ]
  },
  {
   "cell_type": "code",
   "execution_count": null,
   "metadata": {
    "id": "pwdN0u8mH_GN"
   },
   "outputs": [],
   "source": [
    "# Now make the actual data which will go into the neural network\n",
    "T = 10 # the number of time steps to look at to make a prediction for the next day\n",
    "D = input_data.shape[1]\n",
    "N = len(input_data) - T # (e.g. if T=10 and you have 11 data points then you'd only have 1 sample)"
   ]
  },
  {
   "cell_type": "code",
   "execution_count": null,
   "metadata": {
    "id": "8ivu7w3yIFcu"
   },
   "outputs": [],
   "source": [
    "# normalize the inputs\n",
    "Ntrain = len(input_data) * 2 // 3\n",
    "scaler = StandardScaler()\n",
    "scaler.fit(input_data[:Ntrain + T - 1])\n",
    "input_data = scaler.transform(input_data)"
   ]
  },
  {
   "cell_type": "code",
   "execution_count": null,
   "metadata": {
    "id": "3S0TJMWHIG68"
   },
   "outputs": [],
   "source": [
    "# Setup X_train and Y_train\n",
    "X_train = np.zeros((Ntrain, T, D))\n",
    "Y_train = np.zeros((Ntrain, 1))\n",
    "\n",
    "for t in range(Ntrain):\n",
    "  X_train[t, :, :] = input_data[t:t+T]\n",
    "  Y_train[t] = (targets[t+T] > 0)"
   ]
  },
  {
   "cell_type": "code",
   "execution_count": null,
   "metadata": {
    "id": "v5OPoVZnIIoq"
   },
   "outputs": [],
   "source": [
    "# Setup X_test and Y_test\n",
    "X_test = np.zeros((N - Ntrain, T, D))\n",
    "Y_test = np.zeros((N - Ntrain, 1))\n",
    "\n",
    "for u in range(N - Ntrain):\n",
    "  # u counts from 0...(N - Ntrain)\n",
    "  # t counts from Ntrain...N\n",
    "  t = u + Ntrain\n",
    "  X_test[u, :, :] = input_data[t:t+T]\n",
    "  Y_test[u] = (targets[t+T] > 0)"
   ]
  },
  {
   "cell_type": "code",
   "execution_count": null,
   "metadata": {
    "colab": {
     "base_uri": "https://localhost:8080/"
    },
    "id": "TTXdPZW9ILDP",
    "outputId": "b5f4e8c1-7915-4e06-d5fd-abb3489b7b16"
   },
   "outputs": [
    {
     "data": {
      "text/plain": [
       "RNN(\n",
       "  (rnn): LSTM(5, 50, num_layers=2, batch_first=True)\n",
       "  (fc): Linear(in_features=50, out_features=1, bias=True)\n",
       ")"
      ]
     },
     "execution_count": 44,
     "metadata": {
      "tags": []
     },
     "output_type": "execute_result"
    }
   ],
   "source": [
    "# make the RNN\n",
    "model = RNN(5, 50, 2, 1)\n",
    "model.to(device)"
   ]
  },
  {
   "cell_type": "code",
   "execution_count": null,
   "metadata": {
    "id": "tkNDPzSgIPT8"
   },
   "outputs": [],
   "source": [
    "# Loss and optimizer - it's classification now!\n",
    "criterion = nn.BCEWithLogitsLoss()\n",
    "optimizer = torch.optim.Adam(model.parameters(), lr=0.01)"
   ]
  },
  {
   "cell_type": "code",
   "execution_count": null,
   "metadata": {
    "id": "kthbTpgqIab5"
   },
   "outputs": [],
   "source": [
    "# Make inputs and targets\n",
    "X_train = torch.from_numpy(X_train.astype(np.float32))\n",
    "y_train = torch.from_numpy(Y_train.astype(np.float32))\n",
    "X_test = torch.from_numpy(X_test.astype(np.float32))\n",
    "y_test = torch.from_numpy(Y_test.astype(np.float32))"
   ]
  },
  {
   "cell_type": "code",
   "execution_count": null,
   "metadata": {
    "id": "acXZJ9gOIhTI"
   },
   "outputs": [],
   "source": [
    "# move data to GPU\n",
    "X_train, y_train = X_train.to(device), y_train.to(device)\n",
    "X_test, y_test = X_test.to(device), y_test.to(device)"
   ]
  },
  {
   "cell_type": "code",
   "execution_count": null,
   "metadata": {
    "colab": {
     "base_uri": "https://localhost:8080/"
    },
    "id": "He5Z5-z_IjiZ",
    "outputId": "7cb40cb5-87ed-4624-dc91-51bd5c613ae7"
   },
   "outputs": [
    {
     "name": "stdout",
     "output_type": "stream",
     "text": [
      "Epoch 5/300, Train Loss: 0.6917, Test Loss: 0.6930\n",
      "Epoch 10/300, Train Loss: 0.6915, Test Loss: 0.6936\n",
      "Epoch 15/300, Train Loss: 0.6898, Test Loss: 0.6913\n",
      "Epoch 20/300, Train Loss: 0.6860, Test Loss: 0.6925\n",
      "Epoch 25/300, Train Loss: 0.6830, Test Loss: 0.7031\n",
      "Epoch 30/300, Train Loss: 0.6794, Test Loss: 0.7024\n",
      "Epoch 35/300, Train Loss: 0.6727, Test Loss: 0.7206\n",
      "Epoch 40/300, Train Loss: 0.6663, Test Loss: 0.7369\n",
      "Epoch 45/300, Train Loss: 0.6622, Test Loss: 0.7610\n",
      "Epoch 50/300, Train Loss: 0.6486, Test Loss: 0.7806\n",
      "Epoch 55/300, Train Loss: 0.6330, Test Loss: 0.7904\n",
      "Epoch 60/300, Train Loss: 0.6125, Test Loss: 0.8240\n",
      "Epoch 65/300, Train Loss: 0.5842, Test Loss: 0.9422\n",
      "Epoch 70/300, Train Loss: 0.5465, Test Loss: 1.0212\n",
      "Epoch 75/300, Train Loss: 0.5248, Test Loss: 1.0939\n",
      "Epoch 80/300, Train Loss: 0.4848, Test Loss: 1.1769\n",
      "Epoch 85/300, Train Loss: 0.4510, Test Loss: 1.2732\n",
      "Epoch 90/300, Train Loss: 0.4160, Test Loss: 1.3699\n",
      "Epoch 95/300, Train Loss: 0.3899, Test Loss: 1.4148\n",
      "Epoch 100/300, Train Loss: 0.3897, Test Loss: 1.4258\n",
      "Epoch 105/300, Train Loss: 0.3455, Test Loss: 1.5853\n",
      "Epoch 110/300, Train Loss: 0.3030, Test Loss: 1.7515\n",
      "Epoch 115/300, Train Loss: 0.2688, Test Loss: 1.8953\n",
      "Epoch 120/300, Train Loss: 0.2549, Test Loss: 2.0888\n",
      "Epoch 125/300, Train Loss: 0.2352, Test Loss: 2.1472\n",
      "Epoch 130/300, Train Loss: 0.2183, Test Loss: 2.2414\n",
      "Epoch 135/300, Train Loss: 0.2019, Test Loss: 2.4252\n",
      "Epoch 140/300, Train Loss: 0.1625, Test Loss: 2.5628\n",
      "Epoch 145/300, Train Loss: 0.2348, Test Loss: 2.2261\n",
      "Epoch 150/300, Train Loss: 0.3668, Test Loss: 2.0730\n",
      "Epoch 155/300, Train Loss: 0.2386, Test Loss: 2.0185\n",
      "Epoch 160/300, Train Loss: 0.1679, Test Loss: 2.1199\n",
      "Epoch 165/300, Train Loss: 0.1215, Test Loss: 2.2486\n",
      "Epoch 170/300, Train Loss: 0.0901, Test Loss: 2.4675\n",
      "Epoch 175/300, Train Loss: 0.0647, Test Loss: 2.6855\n",
      "Epoch 180/300, Train Loss: 0.0457, Test Loss: 2.8607\n",
      "Epoch 185/300, Train Loss: 0.0322, Test Loss: 3.0115\n",
      "Epoch 190/300, Train Loss: 0.0217, Test Loss: 3.1653\n",
      "Epoch 195/300, Train Loss: 0.0155, Test Loss: 3.3461\n",
      "Epoch 200/300, Train Loss: 0.0115, Test Loss: 3.4587\n",
      "Epoch 205/300, Train Loss: 0.0085, Test Loss: 3.5405\n",
      "Epoch 210/300, Train Loss: 0.0066, Test Loss: 3.6208\n",
      "Epoch 215/300, Train Loss: 0.0053, Test Loss: 3.6755\n",
      "Epoch 220/300, Train Loss: 0.0044, Test Loss: 3.7326\n",
      "Epoch 225/300, Train Loss: 0.0037, Test Loss: 3.7751\n",
      "Epoch 230/300, Train Loss: 0.0032, Test Loss: 3.8169\n",
      "Epoch 235/300, Train Loss: 0.0028, Test Loss: 3.8485\n",
      "Epoch 240/300, Train Loss: 0.0025, Test Loss: 3.8741\n",
      "Epoch 245/300, Train Loss: 0.0022, Test Loss: 3.8990\n",
      "Epoch 250/300, Train Loss: 0.0020, Test Loss: 3.9220\n",
      "Epoch 255/300, Train Loss: 0.0019, Test Loss: 3.9445\n",
      "Epoch 260/300, Train Loss: 0.0017, Test Loss: 3.9654\n",
      "Epoch 265/300, Train Loss: 0.0016, Test Loss: 3.9853\n",
      "Epoch 270/300, Train Loss: 0.0015, Test Loss: 4.0042\n",
      "Epoch 275/300, Train Loss: 0.0014, Test Loss: 4.0221\n",
      "Epoch 280/300, Train Loss: 0.0013, Test Loss: 4.0388\n",
      "Epoch 285/300, Train Loss: 0.0012, Test Loss: 4.0553\n",
      "Epoch 290/300, Train Loss: 0.0011, Test Loss: 4.0713\n",
      "Epoch 295/300, Train Loss: 0.0011, Test Loss: 4.0866\n",
      "Epoch 300/300, Train Loss: 0.0010, Test Loss: 4.1014\n"
     ]
    }
   ],
   "source": [
    "train_losses, test_losses = full_gd(model,\n",
    "                                    criterion,\n",
    "                                    optimizer,\n",
    "                                    X_train,\n",
    "                                    y_train,\n",
    "                                    X_test,\n",
    "                                    y_test,\n",
    "                                    epochs=300)"
   ]
  },
  {
   "cell_type": "code",
   "execution_count": null,
   "metadata": {
    "colab": {
     "base_uri": "https://localhost:8080/"
    },
    "id": "NzD5qsMxJxuY",
    "outputId": "02733c51-d842-4404-b746-ad0087b12154"
   },
   "outputs": [
    {
     "data": {
      "image/png": "[encoded data removed]",
      "text/plain": [
       "<Figure size 432x288 with 1 Axes>"
      ]
     },
     "metadata": {
      "tags": []
     },
     "output_type": "display_data"
    }
   ],
   "source": [
    "# Plot the train loss and test loss per iteration\n",
    "plt.plot(train_losses, label='train loss')\n",
    "plt.plot(test_losses, label='test loss')\n",
    "plt.legend()\n",
    "plt.show()"
   ]
  },
  {
   "cell_type": "code",
   "execution_count": null,
   "metadata": {
    "colab": {
     "base_uri": "https://localhost:8080/"
    },
    "id": "5IACnu3gJ4dK",
    "outputId": "b74b4960-2b57-4d9c-bdad-e19f86236cf1"
   },
   "outputs": [
    {
     "name": "stdout",
     "output_type": "stream",
     "text": [
      "Train acc: 1.0000, Test acc: 0.4902\n"
     ]
    }
   ],
   "source": [
    "# Get accuracy\n",
    "with torch.no_grad():\n",
    "  p_train = model(X_train)\n",
    "  p_train = (p_train.cpu().numpy() > 0)\n",
    "  train_acc = np.mean(y_train.cpu().numpy() == p_train)\n",
    "\n",
    "  p_test = model(X_test)\n",
    "  p_test = (p_test.cpu().numpy() > 0)\n",
    "  test_acc = np.mean(y_test.cpu().numpy() == p_test)\n",
    "print(f\"Train acc: {train_acc:.4f}, Test acc: {test_acc:.4f}\")"
   ]
  }
 ],
 "metadata": {
  "colab": {
   "name": "PyTorch Stock Returns.ipynb",
   "provenance": []
  },
  "kernelspec": {
   "display_name": "Python 3",
   "language": "python",
   "name": "python3"
  },
  "language_info": {
   "codemirror_mode": {
    "name": "ipython",
    "version": 3
   },
   "file_extension": ".py",
   "mimetype": "text/x-python",
   "name": "python",
   "nbconvert_exporter": "python",
   "pygments_lexer": "ipython3",
   "version": "3.8.5"
  }
 },
 "nbformat": 4,
 "nbformat_minor": 1
}
